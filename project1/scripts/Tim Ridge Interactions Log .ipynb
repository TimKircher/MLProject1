{
 "cells": [
  {
   "cell_type": "code",
   "execution_count": 1,
   "id": "93a02e4f",
   "metadata": {},
   "outputs": [],
   "source": [
    "# load -> clean -> features -> fit/validate -> predict -> submit\n",
    "from linear_model_base import RidgeRegression\n",
    "import numpy as np"
   ]
  },
  {
   "cell_type": "code",
   "execution_count": 2,
   "id": "700e9fbe",
   "metadata": {},
   "outputs": [],
   "source": [
    "from data_cleaner import Data_Cleaner\n",
    "\n",
    "#80/20 train test split to verify predictions before upload\n",
    "\n",
    "data_cleaner_train = Data_Cleaner(\"C:/Users/Tim/Documents/GitHub/MLProject1/project1/data/train.csv\")\n",
    "data_cleaner_train.tX = data_cleaner_train.tX[:200000,:]\n",
    "data_cleaner_train.y = data_cleaner_train.y[:200000]\n",
    "\n",
    "#replace with 1, due to log scaling \n",
    "data_cleaner_train._fill_with_NaN()\n",
    "data_cleaner_train.replace_with_one()\n",
    "\n",
    "data_cleaner_test = Data_Cleaner(\"C:/Users/Tim/Documents/GitHub/MLProject1/project1/data/train.csv\")\n",
    "data_cleaner_test.tX = data_cleaner_test.tX[200000:,:]\n",
    "data_cleaner_test.y = data_cleaner_test.y[200000:]\n",
    "\n",
    "data_cleaner_test._fill_with_NaN()\n",
    "data_cleaner_test.replace_with_one()"
   ]
  },
  {
   "cell_type": "code",
   "execution_count": 3,
   "id": "736e4303",
   "metadata": {},
   "outputs": [],
   "source": [
    "def build_interactions(x):\n",
    "    x_out = np.array(x)\n",
    "    for i in range(int(x.shape[1])):\n",
    "        x_i = x[:,0]\n",
    "        x = np.delete(x, 0, 1)\n",
    "        x_interact = (x_i*x.T).T\n",
    "        \n",
    "        x_out = np.hstack([x_out,x_interact])\n",
    "        \n",
    "    return x_out\n",
    "\n",
    "\n",
    "def build_poly(x, degree, add_degree_zero=False):\n",
    "    \"\"\"polynomial basis functions for input data x, for j=0 up to j=degree.\"\"\"\n",
    "    # ***************************************************\n",
    "    # INSERT YOUR CODE HERE\n",
    "    # polynomial basis function: TODO\n",
    "    # this function should return the matrix formed\n",
    "    # by applying the polynomial basis to the input data\n",
    "    if add_degree_zero:\n",
    "        xN = np.hstack([np.ones([x.shape[0],1]),x])\n",
    "    else:\n",
    "        xN = x\n",
    "    if degree>0:\n",
    "        for i in range(degree-1):\n",
    "            xN = np.hstack([xN, x**(i+2)])\n",
    "    return np.array(xN)"
   ]
  },
  {
   "cell_type": "code",
   "execution_count": 4,
   "id": "141cdc0e",
   "metadata": {},
   "outputs": [],
   "source": [
    "#find columns with multiscale input (max greater than 100)\n",
    "log_columns = np.max(data_cleaner_train.tX, axis=0)>100\n",
    "#log(x+1) of columns with multiscale data, to ensure no x <= 0\n",
    "data_cleaner_train.tX[:,log_columns] = np.log(data_cleaner_train.tX[:,log_columns]+1)"
   ]
  },
  {
   "cell_type": "code",
   "execution_count": 5,
   "id": "26bea7ff",
   "metadata": {},
   "outputs": [],
   "source": [
    "#generate poly features and interaction features\n",
    "data_cleaner_train.tX = build_poly(data_cleaner_train.tX,2)\n",
    "data_cleaner_train.tX = build_interactions(data_cleaner_train.tX)"
   ]
  },
  {
   "cell_type": "code",
   "execution_count": 6,
   "id": "fe1ef6ea",
   "metadata": {},
   "outputs": [],
   "source": [
    "#normalise train features\n",
    "minimum, maximum = data_cleaner_train.getMinMax()\n",
    "data_cleaner_train.standardize()"
   ]
  },
  {
   "cell_type": "code",
   "execution_count": 7,
   "id": "c4fb471d",
   "metadata": {},
   "outputs": [
    {
     "name": "stdout",
     "output_type": "stream",
     "text": [
      "lambda 1e-15\n",
      "lambda 5.179474679231202e-15\n",
      "lambda 2.6826957952797274e-14\n",
      "lambda 1.389495494373136e-13\n",
      "lambda 7.196856730011528e-13\n",
      "lambda 3.727593720314938e-12\n",
      "lambda 1.9306977288832457e-11\n",
      "lambda 1e-10\n",
      "lambda 5.179474679231223e-10\n",
      "lambda 2.6826957952797275e-09\n",
      "lambda 1.3894954943731388e-08\n",
      "lambda 7.196856730011529e-08\n",
      "lambda 3.727593720314938e-07\n",
      "lambda 1.9306977288832536e-06\n",
      "lambda 1e-05\n"
     ]
    }
   ],
   "source": [
    "from linear_model_base import RidgeRegression\n",
    "import numpy as np \n",
    "\n",
    "Model = RidgeRegression(data_cleaner_train)\n",
    "search_space = np.logspace(-15, -5, 15)\n",
    "    \n",
    "rmse_te = []\n",
    "rmse_tr = []\n",
    "\n",
    "for lambda_ in search_space:\n",
    "        \n",
    "    tr, te = Model.cross_validation(5, lambda_=lambda_)\n",
    "    rmse_te.append(te)\n",
    "    rmse_tr.append(tr)\n",
    "        \n",
    "    print(\"lambda {}\".format(lambda_))  "
   ]
  },
  {
   "cell_type": "code",
   "execution_count": 8,
   "id": "422594d1",
   "metadata": {},
   "outputs": [
    {
     "data": {
      "text/plain": [
       "[<matplotlib.lines.Line2D at 0x201133f8880>]"
      ]
     },
     "execution_count": 8,
     "metadata": {},
     "output_type": "execute_result"
    },
    {
     "data": {
      "image/png": "[encoded data removed]",
      "text/plain": [
       "<Figure size 432x288 with 1 Axes>"
      ]
     },
     "metadata": {
      "needs_background": "light"
     },
     "output_type": "display_data"
    }
   ],
   "source": [
    "import matplotlib.pyplot as plt\n",
    "plt.loglog(np.logspace(-15, -5, 15),rmse_te)"
   ]
  },
  {
   "cell_type": "code",
   "execution_count": 9,
   "id": "19061e73",
   "metadata": {},
   "outputs": [
    {
     "data": {
      "text/plain": [
       "0.7221538216836288"
      ]
     },
     "execution_count": 9,
     "metadata": {},
     "output_type": "execute_result"
    }
   ],
   "source": [
    "best_lambda = search_space[np.where(rmse_te==np.min(rmse_te))]\n",
    "np.min(rmse_te)"
   ]
  },
  {
   "cell_type": "code",
   "execution_count": 10,
   "id": "77218f8f",
   "metadata": {},
   "outputs": [],
   "source": [
    "weights = Model._run(lambda_ = best_lambda)"
   ]
  },
  {
   "cell_type": "code",
   "execution_count": 11,
   "id": "9d0114fd",
   "metadata": {},
   "outputs": [],
   "source": [
    "from proj1_helpers import *\n",
    "#generate poly features and standardise according to min_max from training\n",
    "data_cleaner_test.tX[:,log_columns] = np.log(data_cleaner_test.tX[:,log_columns]+1)\n",
    "data_cleaner_test.tX = build_poly(data_cleaner_test.tX,2)\n",
    "data_cleaner_test.tX = build_interactions(data_cleaner_test.tX )\n",
    "data_cleaner_test.tX = (data_cleaner_test.tX - minimum) / (maximum - minimum)"
   ]
  },
  {
   "cell_type": "code",
   "execution_count": 12,
   "id": "ce05056e",
   "metadata": {},
   "outputs": [],
   "source": [
    "Model = RidgeRegression(data_cleaner_test)\n",
    "weights = Model._run(lambda_ = best_lambda)\n",
    "\n",
    "y_pred = predict_labels(weights, data_cleaner_test.tX)"
   ]
  },
  {
   "cell_type": "code",
   "execution_count": 14,
   "id": "08ddb23f",
   "metadata": {},
   "outputs": [
    {
     "data": {
      "text/plain": [
       "0.83314"
      ]
     },
     "execution_count": 14,
     "metadata": {},
     "output_type": "execute_result"
    }
   ],
   "source": [
    "#estimate accuracy based on test set\n",
    "def estimate_Leaderboard_score(y_true,weights,data):\n",
    "    \"\"\"Helper function estimating the categorical accuracy on the leaderscore\n",
    "    \"\"\"\n",
    "    y_pred = predict_labels(weights, data)\n",
    "    N_tot = y_pred.shape[0]\n",
    "    N_true = len(np.where(y_pred == y_true)[0])\n",
    "    categorical_acuracy = N_true/N_tot\n",
    "    return categorical_acuracy\n",
    "\n",
    "estimate_Leaderboard_score(data_cleaner_test.y, weights, data_cleaner_test.tX)"
   ]
  },
  {
   "cell_type": "code",
   "execution_count": 14,
   "id": "73b992b4",
   "metadata": {},
   "outputs": [],
   "source": [
    "#generate predictions\n",
    "data_cleaner_upload = Data_Cleaner(\"C:/Users/Tim/Documents/GitHub/MLProject1/project1/data/test.csv\")\n",
    "data_cleaner_upload._fill_with_NaN()\n",
    "data_cleaner_upload.replace_with_one()\n",
    "data_cleaner_upload.tX[:,log_columns] = np.log(data_cleaner_upload.tX[:,log_columns]+1)\n",
    "data_cleaner_upload.tX = build_poly(data_cleaner_upload.tX,2)\n",
    "data_cleaner_upload.tX = build_interactions(data_cleaner_upload.tX)\n",
    "data_cleaner_upload.tX = (data_cleaner_upload.tX - minimum) / (maximum - minimum)\n",
    "\n",
    "y_pred = predict_labels(weights, data_cleaner_upload.tX)\n",
    "#create_csv_submission(data_cleaner_upload.ids, y_pred, \"C:/Users/Tim/Documents/GitHub/MLProject1/project1/data/poly2interactionslogRidge.csv\")"
   ]
  },
  {
   "cell_type": "code",
   "execution_count": 16,
   "id": "33d779a8",
   "metadata": {},
   "outputs": [
    {
     "data": {
      "text/plain": [
       "array([-1., -1., -1., ...,  1., -1., -1.])"
      ]
     },
     "execution_count": 16,
     "metadata": {},
     "output_type": "execute_result"
    }
   ],
   "source": [
    "data_cleaner_upload.tX.shape"
   ]
  }
 ],
 "metadata": {
  "kernelspec": {
   "display_name": "Python 3",
   "language": "python",
   "name": "python3"
  },
  "language_info": {
   "codemirror_mode": {
    "name": "ipython",
    "version": 3
   },
   "file_extension": ".py",
   "mimetype": "text/x-python",
   "name": "python",
   "nbconvert_exporter": "python",
   "pygments_lexer": "ipython3",
   "version": "3.8.8"
  }
 },
 "nbformat": 4,
 "nbformat_minor": 5
}
