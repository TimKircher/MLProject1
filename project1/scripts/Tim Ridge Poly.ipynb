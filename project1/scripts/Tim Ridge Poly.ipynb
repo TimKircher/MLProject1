{
 "cells": [
  {
   "cell_type": "code",
   "execution_count": 1,
   "id": "93a02e4f",
   "metadata": {},
   "outputs": [],
   "source": [
    "# load -> clean -> features -> fit/validate -> predict -> submit\n",
    "from linear_model_base import RidgeRegression\n",
    "import numpy as np"
   ]
  },
  {
   "cell_type": "code",
   "execution_count": 2,
   "id": "700e9fbe",
   "metadata": {},
   "outputs": [],
   "source": [
    "from data_cleaner import Data_Cleaner\n",
    "\n",
    "#80/20 train test split to verify predictions before upload\n",
    "\n",
    "data_cleaner_train = Data_Cleaner(\"C:/Users/Tim/Documents/GitHub/MLProject1/project1/data/train.csv\")\n",
    "data_cleaner_train.tX = data_cleaner_train.tX[:200000,:]\n",
    "data_cleaner_train.y = data_cleaner_train.y[:200000]\n",
    "\n",
    "data_cleaner_train._fill_with_NaN()\n",
    "data_cleaner_train.replace_with_zero()\n",
    "\n",
    "data_cleaner_test = Data_Cleaner(\"C:/Users/Tim/Documents/GitHub/MLProject1/project1/data/train.csv\")\n",
    "data_cleaner_test.tX = data_cleaner_test.tX[200000:,:]\n",
    "data_cleaner_test.y = data_cleaner_test.y[200000:]\n",
    "\n",
    "data_cleaner_test._fill_with_NaN()\n",
    "data_cleaner_test.replace_with_zero()"
   ]
  },
  {
   "cell_type": "code",
   "execution_count": 4,
   "id": "736e4303",
   "metadata": {},
   "outputs": [],
   "source": [
    "def poly_buildup(x):\n",
    "    \"\"\"add features with 1 increased polynomial order to featureset containing 30 features\"\"\"\n",
    "    current_degree = (x.shape[1])/30\n",
    "    return np.hstack([x,x[:,0:30]**(current_degree+1)])\n",
    "\n",
    "def build_poly(x, degree, add_degree_zero=False):\n",
    "    \"\"\"polynomial basis functions for input data x, for j=0 up to j=degree.\"\"\"\n",
    "    # ***************************************************\n",
    "    # INSERT YOUR CODE HERE\n",
    "    # polynomial basis function: TODO\n",
    "    # this function should return the matrix formed\n",
    "    # by applying the polynomial basis to the input data\n",
    "    if add_degree_zero:\n",
    "        xN = np.hstack([np.ones([x.shape[0],1]),x])\n",
    "    else:\n",
    "        xN = x\n",
    "    if degree>0:\n",
    "        for i in range(degree-1):\n",
    "            xN = np.hstack([xN, x**(i+2)])\n",
    "    return np.array(xN)"
   ]
  },
  {
   "cell_type": "code",
   "execution_count": 5,
   "id": "c4fb471d",
   "metadata": {},
   "outputs": [
    {
     "name": "stdout",
     "output_type": "stream",
     "text": [
      "lambda 1e-10\n",
      "lambda 1.2915496650148826e-09\n",
      "lambda 1.6681005372000592e-08\n",
      "lambda 2.1544346900318867e-07\n",
      "lambda 2.782559402207126e-06\n",
      "lambda 3.5938136638046256e-05\n",
      "lambda 0.0004641588833612782\n",
      "lambda 0.005994842503189421\n",
      "lambda 0.07742636826811278\n",
      "lambda 1.0\n",
      "lambda 1e-10\n",
      "lambda 1.2915496650148826e-09\n",
      "lambda 1.6681005372000592e-08\n",
      "lambda 2.1544346900318867e-07\n",
      "lambda 2.782559402207126e-06\n",
      "lambda 3.5938136638046256e-05\n",
      "lambda 0.0004641588833612782\n",
      "lambda 0.005994842503189421\n",
      "lambda 0.07742636826811278\n",
      "lambda 1.0\n",
      "lambda 1e-10\n",
      "lambda 1.2915496650148826e-09\n",
      "lambda 1.6681005372000592e-08\n",
      "lambda 2.1544346900318867e-07\n",
      "lambda 2.782559402207126e-06\n",
      "lambda 3.5938136638046256e-05\n",
      "lambda 0.0004641588833612782\n",
      "lambda 0.005994842503189421\n",
      "lambda 0.07742636826811278\n",
      "lambda 1.0\n",
      "lambda 1e-10\n",
      "lambda 1.2915496650148826e-09\n",
      "lambda 1.6681005372000592e-08\n",
      "lambda 2.1544346900318867e-07\n",
      "lambda 2.782559402207126e-06\n",
      "lambda 3.5938136638046256e-05\n",
      "lambda 0.0004641588833612782\n",
      "lambda 0.005994842503189421\n",
      "lambda 0.07742636826811278\n",
      "lambda 1.0\n",
      "lambda 1e-10\n",
      "lambda 1.2915496650148826e-09\n",
      "lambda 1.6681005372000592e-08\n",
      "lambda 2.1544346900318867e-07\n",
      "lambda 2.782559402207126e-06\n",
      "lambda 3.5938136638046256e-05\n",
      "lambda 0.0004641588833612782\n",
      "lambda 0.005994842503189421\n",
      "lambda 0.07742636826811278\n",
      "lambda 1.0\n"
     ]
    }
   ],
   "source": [
    "from linear_model_base import RidgeRegression\n",
    "import numpy as np \n",
    "\n",
    "min_rmse_te = []\n",
    "min_rmse_tr = []\n",
    "lambdas = []\n",
    "min_max = []\n",
    "\n",
    "for poly_order in range(5):\n",
    "       \n",
    "    #iteratively increase polynomial features     \n",
    "    if poly_order > 0:\n",
    "        #re-scale back to original scale, standardize polynomial features after they are generated\n",
    "        data_cleaner_train.tX = data_cleaner_train.tX*(maximum-minimum)+minimum\n",
    "        data_cleaner_train.tX = poly_buildup(data_cleaner_train.tX)\n",
    "    \n",
    "    #standardize\n",
    "    minimum, maximum = data_cleaner_train.getMinMax()\n",
    "    min_max.append(data_cleaner_train.getMinMax())\n",
    "    data_cleaner_train.standardize()\n",
    "    \n",
    "    Model = RidgeRegression(data_cleaner_train)\n",
    "    search_space = np.logspace(-10, 0, 10)\n",
    "    \n",
    "    rmse_te = []\n",
    "    rmse_tr = []\n",
    "    \n",
    "    for lambda_ in search_space:\n",
    "        \n",
    "        tr, te = Model.cross_validation(5, lambda_=lambda_)\n",
    "        rmse_te.append(te)\n",
    "        rmse_tr.append(tr)\n",
    "        \n",
    "        print(\"lambda {}\".format(lambda_))\n",
    "        \n",
    "    min_rmse_te.append(np.min(rmse_te))\n",
    "    min_rmse_tr.append(np.min(rmse_tr))\n",
    "    lambdas.append(search_space[np.where(rmse_te==np.min(rmse_te))])\n",
    "        "
   ]
  },
  {
   "cell_type": "code",
   "execution_count": 7,
   "id": "cae69fce",
   "metadata": {},
   "outputs": [],
   "source": [
    "#find optimal highest polynomial order, lambda and scale factors for test set\n",
    "n_poly = np.where(min_rmse_te==np.min(min_rmse_te))[0]\n",
    "best_lambda = lambdas[int(n_poly)][0]\n",
    "minimum, maximum = min_max[int(n_poly)]"
   ]
  },
  {
   "cell_type": "code",
   "execution_count": 8,
   "id": "77218f8f",
   "metadata": {},
   "outputs": [],
   "source": [
    "weights = Model._run(lambda_ = best_lambda)"
   ]
  },
  {
   "cell_type": "code",
   "execution_count": 9,
   "id": "9d0114fd",
   "metadata": {},
   "outputs": [],
   "source": [
    "from proj1_helpers import *\n",
    "#generate poly features and standardise according to min_max from training\n",
    "data_cleaner_test.tX = build_poly(data_cleaner_test.tX, int(n_poly+1))\n",
    "data_cleaner_test.tX = (data_cleaner_test.tX - minimum) / (maximum - minimum)"
   ]
  },
  {
   "cell_type": "code",
   "execution_count": 10,
   "id": "ce05056e",
   "metadata": {},
   "outputs": [],
   "source": [
    "Model = RidgeRegression(data_cleaner_test)\n",
    "weights = Model._run(lambda_ = best_lambda)\n",
    "\n",
    "y_pred = predict_labels(weights, data_cleaner_test.tX)"
   ]
  },
  {
   "cell_type": "code",
   "execution_count": 11,
   "id": "08ddb23f",
   "metadata": {},
   "outputs": [
    {
     "data": {
      "text/plain": [
       "0.78508"
      ]
     },
     "execution_count": 11,
     "metadata": {},
     "output_type": "execute_result"
    }
   ],
   "source": [
    "#estimate accuracy based on test set\n",
    "def estimate_Leaderboard_score(y_true,weights,data):\n",
    "    \"\"\"Helper function estimating the categorical accuracy on the leaderscore\n",
    "    \"\"\"\n",
    "    y_pred = predict_labels(weights, data)\n",
    "    N_tot = y_pred.shape[0]\n",
    "    N_true = len(np.where(y_pred == y_true)[0])\n",
    "    categorical_acuracy = N_true/N_tot\n",
    "    return categorical_acuracy\n",
    "\n",
    "estimate_Leaderboard_score(data_cleaner_test.y, weights, data_cleaner_test.tX)"
   ]
  },
  {
   "cell_type": "code",
   "execution_count": 12,
   "id": "73b992b4",
   "metadata": {},
   "outputs": [],
   "source": [
    "#generate predictions\n",
    "data_cleaner_upload = Data_Cleaner(\"C:/Users/Tim/Documents/GitHub/MLProject1/project1/data/test.csv\")\n",
    "data_cleaner_upload._fill_with_NaN()\n",
    "data_cleaner_upload.replace_with_zero()\n",
    "data_cleaner_upload.tX = build_poly(data_cleaner_upload.tX, int(n_poly+1))\n",
    "data_cleaner_upload.tX = (data_cleaner_upload.tX - minimum) / (maximum - minimum)\n",
    "\n",
    "y_pred = predict_labels(weights, data_cleaner_upload.tX)\n",
    "create_csv_submission(data_cleaner_upload.ids, y_pred, \"C:/Users/Tim/Documents/GitHub/MLProject1/project1/data/RidgePoly3.csv\")"
   ]
  }
 ],
 "metadata": {
  "kernelspec": {
   "display_name": "Python 3",
   "language": "python",
   "name": "python3"
  },
  "language_info": {
   "codemirror_mode": {
    "name": "ipython",
    "version": 3
   },
   "file_extension": ".py",
   "mimetype": "text/x-python",
   "name": "python",
   "nbconvert_exporter": "python",
   "pygments_lexer": "ipython3",
   "version": "3.8.8"
  }
 },
 "nbformat": 4,
 "nbformat_minor": 5
}
