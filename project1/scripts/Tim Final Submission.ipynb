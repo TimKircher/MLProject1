{
 "cells": [
  {
   "cell_type": "code",
   "execution_count": 8,
   "id": "93a02e4f",
   "metadata": {},
   "outputs": [],
   "source": [
    "# load -> clean -> features -> fit/validate -> predict -> submit\n",
    "from linear_model_base import RidgeRegression\n",
    "import numpy as np"
   ]
  },
  {
   "cell_type": "code",
   "execution_count": 2,
   "id": "f296d796",
   "metadata": {},
   "outputs": [],
   "source": [
    "def build_interactions(x):\n",
    "    x_out = np.array(x)\n",
    "    for i in range(int(x.shape[1])):\n",
    "        x_i = x[:,0]\n",
    "        x = np.delete(x, 0, 1)\n",
    "        x_interact = (x_i*x.T).T\n",
    "        \n",
    "        x_out = np.hstack([x_out,x_interact])\n",
    "        \n",
    "    return x_out\n",
    "\n",
    "\n",
    "def build_poly(x, degree, add_degree_zero=False):\n",
    "    \"\"\"polynomial basis functions for input data x, for j=0 up to j=degree.\"\"\"\n",
    "    # ***************************************************\n",
    "    # INSERT YOUR CODE HERE\n",
    "    # polynomial basis function: TODO\n",
    "    # this function should return the matrix formed\n",
    "    # by applying the polynomial basis to the input data\n",
    "    if add_degree_zero:\n",
    "        xN = np.hstack([np.ones([x.shape[0],1]),x])\n",
    "    else:\n",
    "        xN = x\n",
    "    if degree>0:\n",
    "        for i in range(degree-1):\n",
    "            xN = np.hstack([xN, x**(i+2)])\n",
    "    return np.array(xN)"
   ]
  },
  {
   "cell_type": "code",
   "execution_count": 3,
   "id": "700e9fbe",
   "metadata": {},
   "outputs": [],
   "source": [
    "from data_cleaner import Data_Cleaner\n",
    "\n",
    "#80/20 train test split to verify predictions before upload\n",
    "data = Data_Cleaner(\"C:/Users/Tim/Documents/GitHub/MLProject1/project1/data/train.csv\")\n",
    "\n",
    "#replace with 1, due to log scaling \n",
    "data._fill_with_NaN()\n",
    "data.replace_with_one()\n",
    "\n",
    "#find columns with multiscale input (max greater than 100)\n",
    "log_columns = np.max(data.tX, axis=0)>100\n",
    "#log(x+1) of columns with multiscale data, to ensure no x <= 0\n",
    "data.tX[:,log_columns] = np.log(data.tX[:,log_columns]+1)\n",
    "\n",
    "#generate poly features and interaction features\n",
    "data.tX = build_poly(data.tX,2)\n",
    "data.tX = build_interactions(data.tX)\n",
    "\n",
    "tX_train, tX_test, y_train, y_test = data.split_data(80)\n",
    "\n",
    "data_train = Data_Cleaner()\n",
    "data_train.tX = tX_train\n",
    "data_train.y = y_train\n",
    "\n",
    "data_test = Data_Cleaner()\n",
    "data_test.tX = tX_test\n",
    "data_test.y = y_test\n",
    "\n",
    "data_test.treat_outliers(1.5,92.5)\n",
    "data_train.treat_outliers(1.5,92.5)\n",
    "\n",
    "minimum, maximum = data_train.getMinMax()\n",
    "data_train.standardize()\n",
    "\n",
    "data_test.tX = (data_test.tX - minimum) / (maximum - minimum)"
   ]
  },
  {
   "cell_type": "code",
   "execution_count": 4,
   "id": "c4fb471d",
   "metadata": {},
   "outputs": [
    {
     "name": "stdout",
     "output_type": "stream",
     "text": [
      "lambda 1e-15\n",
      "lambda 5.179474679231202e-15\n",
      "lambda 2.6826957952797274e-14\n",
      "lambda 1.389495494373136e-13\n",
      "lambda 7.196856730011528e-13\n",
      "lambda 3.727593720314938e-12\n",
      "lambda 1.9306977288832457e-11\n",
      "lambda 1e-10\n",
      "lambda 5.179474679231223e-10\n",
      "lambda 2.6826957952797275e-09\n",
      "lambda 1.3894954943731388e-08\n",
      "lambda 7.196856730011529e-08\n",
      "lambda 3.727593720314938e-07\n",
      "lambda 1.9306977288832536e-06\n",
      "lambda 1e-05\n"
     ]
    }
   ],
   "source": [
    "from linear_model_base import RidgeRegression\n",
    "import numpy as np \n",
    "\n",
    "Model = RidgeRegression(data_train)\n",
    "search_space = np.logspace(-15, -5, 15)\n",
    "    \n",
    "rmse_te = []\n",
    "rmse_tr = []\n",
    "\n",
    "for lambda_ in search_space:\n",
    "        \n",
    "    tr, te = Model.cross_validation(5, lambda_=lambda_)\n",
    "    rmse_te.append(te)\n",
    "    rmse_tr.append(tr)\n",
    "        \n",
    "    print(\"lambda {}\".format(lambda_))  "
   ]
  },
  {
   "cell_type": "code",
   "execution_count": 5,
   "id": "422594d1",
   "metadata": {
    "scrolled": true
   },
   "outputs": [
    {
     "data": {
      "text/plain": [
       "[<matplotlib.lines.Line2D at 0x1d7bbffdfa0>]"
      ]
     },
     "execution_count": 5,
     "metadata": {},
     "output_type": "execute_result"
    },
    {
     "data": {
      "image/png": "[encoded data removed]",
      "text/plain": [
       "<Figure size 432x288 with 1 Axes>"
      ]
     },
     "metadata": {
      "needs_background": "light"
     },
     "output_type": "display_data"
    }
   ],
   "source": [
    "import matplotlib.pyplot as plt\n",
    "plt.loglog(np.logspace(-15, -5, 15),rmse_te)"
   ]
  },
  {
   "cell_type": "code",
   "execution_count": 12,
   "id": "19061e73",
   "metadata": {},
   "outputs": [
    {
     "data": {
      "text/plain": [
       "array([5.17947468e-10])"
      ]
     },
     "execution_count": 12,
     "metadata": {},
     "output_type": "execute_result"
    }
   ],
   "source": [
    "best_lambda = search_space[np.where(rmse_te==np.min(rmse_te))]\n",
    "best_lambda"
   ]
  },
  {
   "cell_type": "code",
   "execution_count": 4,
   "id": "c8ae1db5",
   "metadata": {},
   "outputs": [],
   "source": [
    "best_lambda = 5.17947468e-10"
   ]
  },
  {
   "cell_type": "code",
   "execution_count": 8,
   "id": "ce05056e",
   "metadata": {},
   "outputs": [],
   "source": [
    "from proj1_helpers import *\n",
    "Model = RidgeRegression(data_test)\n",
    "weights = Model._run(lambda_ = best_lambda)\n",
    "\n",
    "y_pred = predict_labels(weights, data_test.tX)"
   ]
  },
  {
   "cell_type": "code",
   "execution_count": 9,
   "id": "08ddb23f",
   "metadata": {},
   "outputs": [
    {
     "data": {
      "text/plain": [
       "0.84256"
      ]
     },
     "execution_count": 9,
     "metadata": {},
     "output_type": "execute_result"
    }
   ],
   "source": [
    "#estimate accuracy based on test set\n",
    "def estimate_Leaderboard_score(y_true,weights,data):\n",
    "    \"\"\"Helper function estimating the categorical accuracy on the leaderscore\n",
    "    \"\"\"\n",
    "    y_pred = predict_labels(weights, data)\n",
    "    N_tot = y_pred.shape[0]\n",
    "    N_true = len(np.where(y_pred == y_true)[0])\n",
    "    categorical_acuracy = N_true/N_tot\n",
    "    return categorical_acuracy\n",
    "\n",
    "estimate_Leaderboard_score(data_test.y, weights, data_test.tX)"
   ]
  },
  {
   "cell_type": "code",
   "execution_count": 5,
   "id": "73b992b4",
   "metadata": {},
   "outputs": [
    {
     "ename": "NameError",
     "evalue": "name 'predict_labels' is not defined",
     "output_type": "error",
     "traceback": [
      "\u001b[1;31m---------------------------------------------------------------------------\u001b[0m",
      "\u001b[1;31mNameError\u001b[0m                                 Traceback (most recent call last)",
      "\u001b[1;32m<ipython-input-5-17a7f31e20c5>\u001b[0m in \u001b[0;36m<module>\u001b[1;34m\u001b[0m\n\u001b[0;32m     12\u001b[0m \u001b[0mdata_upload\u001b[0m\u001b[1;33m.\u001b[0m\u001b[0mtX\u001b[0m \u001b[1;33m=\u001b[0m \u001b[1;33m(\u001b[0m\u001b[0mdata_upload\u001b[0m\u001b[1;33m.\u001b[0m\u001b[0mtX\u001b[0m \u001b[1;33m-\u001b[0m \u001b[0mminimum\u001b[0m\u001b[1;33m)\u001b[0m \u001b[1;33m/\u001b[0m \u001b[1;33m(\u001b[0m\u001b[0mmaximum\u001b[0m \u001b[1;33m-\u001b[0m \u001b[0mminimum\u001b[0m\u001b[1;33m)\u001b[0m\u001b[1;33m\u001b[0m\u001b[1;33m\u001b[0m\u001b[0m\n\u001b[0;32m     13\u001b[0m \u001b[1;33m\u001b[0m\u001b[0m\n\u001b[1;32m---> 14\u001b[1;33m \u001b[0my_pred\u001b[0m \u001b[1;33m=\u001b[0m \u001b[0mpredict_labels\u001b[0m\u001b[1;33m(\u001b[0m\u001b[0mweights\u001b[0m\u001b[1;33m,\u001b[0m \u001b[0mdata_cleaner_upload\u001b[0m\u001b[1;33m.\u001b[0m\u001b[0mtX\u001b[0m\u001b[1;33m)\u001b[0m\u001b[1;33m\u001b[0m\u001b[1;33m\u001b[0m\u001b[0m\n\u001b[0m",
      "\u001b[1;31mNameError\u001b[0m: name 'predict_labels' is not defined"
     ]
    }
   ],
   "source": [
    "#generate predictions\n",
    "data_upload = Data_Cleaner(\"C:/Users/Tim/Documents/GitHub/MLProject1/project1/data/test.csv\")\n",
    "data_upload._fill_with_NaN()\n",
    "data_upload.replace_with_one()\n",
    "log_columns = np.max(data_upload.tX, axis=0)>100\n",
    "data_upload.tX[:,log_columns] = np.log(data_upload.tX[:,log_columns]+1)\n",
    "\n",
    "#generate poly features and interaction features\n",
    "data_upload.tX = build_poly(data_upload.tX,2)\n",
    "data_upload.tX = build_interactions(data_upload.tX)\n",
    "data_upload.treat_outliers(1.5,92.5)\n",
    "data_upload.tX = (data_upload.tX - minimum) / (maximum - minimum)"
   ]
  },
  {
   "cell_type": "code",
   "execution_count": 16,
   "id": "78c7bc48",
   "metadata": {},
   "outputs": [],
   "source": [
    "from proj1_helpers import *\n",
    "Model = RidgeRegression(data_train)\n",
    "weights = Model._run(lambda_ = best_lambda)\n",
    "y_pred = predict_labels(weights, data_upload.tX)"
   ]
  },
  {
   "cell_type": "code",
   "execution_count": 17,
   "id": "3f2b8090",
   "metadata": {},
   "outputs": [],
   "source": [
    "create_csv_submission(data_upload.ids, y_pred, \"C:/Users/Tim/Documents/GitHub/MLProject1/project1/data/poly2interactionslogOutliersRidge.csv\")"
   ]
  }
 ],
 "metadata": {
  "kernelspec": {
   "display_name": "Python 3",
   "language": "python",
   "name": "python3"
  },
  "language_info": {
   "codemirror_mode": {
    "name": "ipython",
    "version": 3
   },
   "file_extension": ".py",
   "mimetype": "text/x-python",
   "name": "python",
   "nbconvert_exporter": "python",
   "pygments_lexer": "ipython3",
   "version": "3.8.8"
  }
 },
 "nbformat": 4,
 "nbformat_minor": 5
}
