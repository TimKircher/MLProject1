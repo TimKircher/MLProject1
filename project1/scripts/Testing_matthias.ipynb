{
 "cells": [
  {
   "cell_type": "markdown",
   "id": "b6a78290-9f95-4d55-8313-33044d92174e",
   "metadata": {},
   "source": [
    "## Notebook explaining the use of the data cleaner class"
   ]
  },
  {
   "cell_type": "markdown",
   "id": "67d99600-b20d-4b30-a982-f95c7cb39043",
   "metadata": {},
   "source": [
    "#### Importing data"
   ]
  },
  {
   "cell_type": "code",
   "execution_count": 16,
   "id": "a6942517-74bb-42c8-92aa-4b5c668f88cb",
   "metadata": {},
   "outputs": [],
   "source": [
    "from data_cleaner import Data_Cleaner"
   ]
  },
  {
   "cell_type": "code",
   "execution_count": 17,
   "id": "e5833de8-e169-4b2d-b2c4-cd15d16b3a59",
   "metadata": {},
   "outputs": [],
   "source": [
    "#Load data with the datacleaner class\n",
    "data_container = Data_Cleaner(\"../data/train.csv\")"
   ]
  },
  {
   "cell_type": "code",
   "execution_count": 18,
   "id": "6ae059e0-7520-466b-847f-3e1b8740c49b",
   "metadata": {},
   "outputs": [],
   "source": [
    "#replace -999. with np.NaN\n",
    "data_container._fill_with_NaN()"
   ]
  },
  {
   "cell_type": "code",
   "execution_count": 19,
   "id": "5a1c0451-53b2-4227-83fe-85c3eb04a673",
   "metadata": {},
   "outputs": [],
   "source": [
    "#replace np.NaN with feature mean\n",
    "data_container.replace_with_mean()"
   ]
  },
  {
   "cell_type": "markdown",
   "id": "e3dc7484-83a8-4586-ab04-f9f215431d7d",
   "metadata": {},
   "source": [
    "#### Feature engineering"
   ]
  },
  {
   "cell_type": "code",
   "execution_count": 10,
   "id": "cbea91af-ab37-46de-8f37-c9dab36ee5da",
   "metadata": {},
   "outputs": [],
   "source": [
    "import numpy as np\n",
    "polynomial_degree_vs_rmse_improvement = np.load(\"polynomial_expansion_rmses_test.npy\")"
   ]
  },
  {
   "cell_type": "code",
   "execution_count": 11,
   "id": "0387a2c3-4111-421f-947b-e0c6c3b6fcd1",
   "metadata": {},
   "outputs": [],
   "source": [
    "#this is a N_feature X N_degree expansion (20) matrix"
   ]
  },
  {
   "cell_type": "code",
   "execution_count": 23,
   "id": "4b3cfe9f-8668-4d86-a44b-1ccdb44cb790",
   "metadata": {},
   "outputs": [
    {
     "data": {
      "text/plain": [
       "array([ 9,  5,  8,  2,  3, 14,  9,  4,  0,  9,  8, 10,  1,  9,  1,  0,  1,\n",
       "        1,  0,  0,  0,  5,  3,  5,  7,  0,  0,  5,  5,  8])"
      ]
     },
     "execution_count": 23,
     "metadata": {},
     "output_type": "execute_result"
    }
   ],
   "source": [
    "np.argmin(np.around(polynomial_degree_vs_rmse_improvement,decimals=4), axis=1)  #returns the first argmin(also degree of polynomial) that yields the best RMSE (rounded to last 4 digits)"
   ]
  },
  {
   "cell_type": "code",
   "execution_count": 14,
   "id": "d8254c34-bc53-434e-a99a-b0ee3a137d92",
   "metadata": {},
   "outputs": [],
   "source": [
    "max_poly = np.argmin(np.around(polynomial_degree_vs_rmse_improvement,decimals=4), axis=1)"
   ]
  },
  {
   "cell_type": "code",
   "execution_count": 20,
   "id": "244248e1-d517-43ab-b07f-fb3a9e6acd3e",
   "metadata": {},
   "outputs": [],
   "source": [
    "data_container.build_polynomials_from_degree_array(max_poly) #build features"
   ]
  },
  {
   "cell_type": "code",
   "execution_count": 21,
   "id": "5572edcc-6143-43ed-bfaf-b8d1daefb402",
   "metadata": {},
   "outputs": [
    {
     "data": {
      "text/plain": [
       "(250000, 132)"
      ]
     },
     "execution_count": 21,
     "metadata": {},
     "output_type": "execute_result"
    }
   ],
   "source": [
    "data_container.tX.shape   #-> features are expanded from 30 to 132 "
   ]
  },
  {
   "cell_type": "code",
   "execution_count": 24,
   "id": "850eba32-917c-4f8c-8c80-5fa6f9f7c70b",
   "metadata": {},
   "outputs": [],
   "source": [
    "#Normalization after feature construction!\n",
    "data_container.normalize()"
   ]
  },
  {
   "cell_type": "markdown",
   "id": "4a2993b9-37b9-4af9-a7ea-ebd4a312638a",
   "metadata": {},
   "source": [
    "#### Predict"
   ]
  },
  {
   "cell_type": "code",
   "execution_count": null,
   "id": "7454bd69-2848-40eb-a7a2-6d3d3fe9d15d",
   "metadata": {},
   "outputs": [],
   "source": []
  }
 ],
 "metadata": {
  "kernelspec": {
   "display_name": "Python",
   "language": "python",
   "name": "python3"
  },
  "language_info": {
   "codemirror_mode": {
    "name": "ipython",
    "version": 3
   },
   "file_extension": ".py",
   "mimetype": "text/x-python",
   "name": "python",
   "nbconvert_exporter": "python",
   "pygments_lexer": "ipython3",
   "version": "3.8.10"
  }
 },
 "nbformat": 4,
 "nbformat_minor": 5
}
