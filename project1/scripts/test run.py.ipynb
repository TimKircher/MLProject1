{
 "cells": [
  {
   "cell_type": "code",
   "execution_count": 1,
   "id": "a0baaf23",
   "metadata": {},
   "outputs": [],
   "source": [
    "%run run.py"
   ]
  },
  {
   "cell_type": "code",
   "execution_count": 10,
   "id": "a083b065",
   "metadata": {},
   "outputs": [],
   "source": [
    "import numpy as np\n",
    "first = np.loadtxt(\"C:/Users/Tim/Documents/GitHub/MLProject1/project1/data/FinalSubmission.csv\",skiprows=1,delimiter=',',dtype=int)\n",
    "second = np.loadtxt(\"C:/Users/Tim/Documents/GitHub/MLProject1/project1/data/poly2interactionslogOutliersRidge.csv\",skiprows=1,delimiter=',',dtype=int)"
   ]
  },
  {
   "cell_type": "code",
   "execution_count": 29,
   "id": "af42e33d",
   "metadata": {},
   "outputs": [
    {
     "data": {
      "text/plain": [
       "True"
      ]
     },
     "execution_count": 29,
     "metadata": {},
     "output_type": "execute_result"
    }
   ],
   "source": [
    "#check if submission is correct\n",
    "all(first[:,1]/second[:,1]==1)"
   ]
  }
 ],
 "metadata": {
  "kernelspec": {
   "display_name": "Python 3",
   "language": "python",
   "name": "python3"
  },
  "language_info": {
   "codemirror_mode": {
    "name": "ipython",
    "version": 3
   },
   "file_extension": ".py",
   "mimetype": "text/x-python",
   "name": "python",
   "nbconvert_exporter": "python",
   "pygments_lexer": "ipython3",
   "version": "3.8.8"
  }
 },
 "nbformat": 4,
 "nbformat_minor": 5
}
