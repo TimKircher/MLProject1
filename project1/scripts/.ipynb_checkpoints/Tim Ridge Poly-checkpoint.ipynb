{
 "cells": [
  {
   "cell_type": "code",
   "execution_count": 1,
   "id": "93a02e4f",
   "metadata": {},
   "outputs": [],
   "source": [
    "# load -> clean -> features -> fit/validate -> predict -> submit\n",
    "from linear_model_base import RidgeRegression\n",
    "import numpy as np"
   ]
  },
  {
   "cell_type": "code",
   "execution_count": 2,
   "id": "700e9fbe",
   "metadata": {},
   "outputs": [],
   "source": [
    "from data_cleaner import Data_Cleaner\n",
    "\n",
    "#80/20 train test split to verify predictions before upload\n",
    "\n",
    "data_cleaner_train = Data_Cleaner(\"C:/Users/Tim/Documents/GitHub/MLProject1/project1/data/train.csv\")\n",
    "data_cleaner_train.tX = data_cleaner_train.tX[:200000,:]\n",
    "data_cleaner_train.y = data_cleaner_train.y[:200000]\n",
    "\n",
    "data_cleaner_train._fill_with_NaN()\n",
    "data_cleaner_train.replace_with_zero()\n",
    "minimum, maximum = data_cleaner_train.getMinMax()\n",
    "data_cleaner_train.standardize()\n",
    "\n",
    "\n",
    "data_cleaner_test = Data_Cleaner(\"C:/Users/Tim/Documents/GitHub/MLProject1/project1/data/train.csv\")\n",
    "data_cleaner_test.tX = data_cleaner_test.tX[200000:,:]\n",
    "data_cleaner_test.y = data_cleaner_test.y[200000:]\n",
    "\n",
    "data_cleaner_test._fill_with_NaN()\n",
    "data_cleaner_test.replace_with_zero()\n",
    "data_cleaner_test.tX = (data_cleaner_test.tX-minimum)/(maximum-minimum)"
   ]
  },
  {
   "cell_type": "code",
   "execution_count": 3,
   "id": "f9a0936d",
   "metadata": {},
   "outputs": [],
   "source": [
    "def build_poly(x, degree, add_degree_zero=False):\n",
    "    \"\"\"polynomial basis functions for input data x, for j=0 up to j=degree.\"\"\"\n",
    "    # ***************************************************\n",
    "    # INSERT YOUR CODE HERE\n",
    "    # polynomial basis function: TODO\n",
    "    # this function should return the matrix formed\n",
    "    # by applying the polynomial basis to the input data\n",
    "    if add_degree_zero:\n",
    "        xN = np.hstack([np.ones([x.shape[0],1]),x])\n",
    "    else:\n",
    "        xN = x\n",
    "    if degree>0:\n",
    "        for i in range(degree-1):\n",
    "            xN = np.hstack([xN, x**(i+2)])\n",
    "    return np.array(xN)"
   ]
  },
  {
   "cell_type": "code",
   "execution_count": 4,
   "id": "84d521fc",
   "metadata": {},
   "outputs": [],
   "source": [
    "def rho_compute(y,X,w,j):\n",
    "    #y is the response variable\n",
    "    #X is the predictor variables matrix\n",
    "    #w is the weight vector\n",
    "    #j is the feature selector\n",
    "    X_k = np.delete(X,j,1) #Remove the j variable i.e. j column\n",
    "    w_k = np.delete(w,j) #Remove the weight j\n",
    "    predict_k = predicted_values(X_k, w_k)\n",
    "    residual = y - predict_k\n",
    "    rho_j = np.sum(X[:,j]*residual)\n",
    "    return(rho_j)\n",
    "\n",
    "#z computation for unnormalised features\n",
    "def z_compute(X):\n",
    "    z_vector = np.sum(X*X, axis = 0) #Compute sum for each column\n",
    "    return(z_vector)\n",
    "\n",
    "def coordinate_descent(y,X,w,alpha,z,tolerance):\n",
    "    max_step = 100.\n",
    "    iteration = 0\n",
    "    while(max_step > tolerance):\n",
    "        iteration += 1\n",
    "        print(\"Iteration (start) : \",iteration)\n",
    "        old_weights = np.copy(w)\n",
    "        #print(\"\\nOld Weights\\n\",old_weights)\n",
    "        for j in range(len(w)): #Take the number of features ie columns\n",
    "            rho_j = rho_compute(y,X,w,j)\n",
    "            if j == 0: #Intercept is not included with the alpha regularisation\n",
    "                w[j] = rho_j/z[j]\n",
    "            elif rho_j < -alpha*len(y):\n",
    "                w[j] = (rho_j + (alpha*len(y)))/z[j]\n",
    "            elif rho_j > -alpha*len(y) and rho_j < alpha*len(y):\n",
    "                w[j] = 0.\n",
    "            elif rho_j > alpha*len(y):\n",
    "                w[j] = (rho_j - (alpha*len(y)))/z[j]\n",
    "            else:\n",
    "                w[j] = np.NaN\n",
    "            #print(\"step\"+ str(j))\n",
    "        #print(\"\\nNew Weights\\n\",w)\n",
    "        step_sizes = abs(old_weights - w)\n",
    "        #print(\"\\nStep sizes\\n\",step_sizes)\n",
    "        max_step = step_sizes.max()\n",
    "        #print(\"\\nMax step:\",max_step)\n",
    "        \n",
    "        \n",
    "    return(w, iteration, max_step)\n",
    "\n",
    "def predicted_values(X, w):\n",
    "    # X will be n x (d+1)\n",
    "    # w will be (d+1) x 1\n",
    "    predictions = np.matmul(X,w) # n x 1\n",
    "    return(predictions)"
   ]
  },
  {
   "cell_type": "code",
   "execution_count": 5,
   "id": "0fe415bc",
   "metadata": {},
   "outputs": [
    {
     "name": "stdout",
     "output_type": "stream",
     "text": [
      "Iteration (start) :  1\n",
      "Iteration (start) :  2\n",
      "Iteration (start) :  3\n",
      "Iteration (start) :  4\n",
      "Iteration (start) :  5\n",
      "Iteration (start) :  6\n",
      "Iteration (start) :  7\n",
      "Iteration (start) :  8\n",
      "Iteration (start) :  9\n",
      "Iteration (start) :  10\n"
     ]
    }
   ],
   "source": [
    "data_cleaner_train.tX = build_poly(data_cleaner_train.tX, 3, add_degree_zero=True)\n",
    "data_cleaner_test.tX = build_poly(data_cleaner_test.tX, 3, add_degree_zero=True)\n",
    "\n",
    "#Initialise weight/parameter vector, w, to be a zero vector\n",
    "w = np.zeros(data_cleaner_train.tX.shape[1], dtype = float)\n",
    "\n",
    "#Pre-compute the z_j term\n",
    "z = z_compute(data_cleaner_train.tX)\n",
    "\n",
    "#Set the alpha and tolerance level\n",
    "alpha = 0.001\n",
    "tolerance = 0.1\n",
    "\n",
    "w_opt, iterations, max_step = coordinate_descent(data_cleaner_train.y ,data_cleaner_train.tX ,w,alpha,z,tolerance)"
   ]
  },
  {
   "cell_type": "code",
   "execution_count": 9,
   "id": "c4fb471d",
   "metadata": {},
   "outputs": [
    {
     "ename": "NameError",
     "evalue": "name 'lasso_regression' is not defined",
     "output_type": "error",
     "traceback": [
      "\u001b[1;31m---------------------------------------------------------------------------\u001b[0m",
      "\u001b[1;31mNameError\u001b[0m                                 Traceback (most recent call last)",
      "\u001b[1;32m<ipython-input-9-f79fbe8fdd15>\u001b[0m in \u001b[0;36m<module>\u001b[1;34m\u001b[0m\n\u001b[0;32m      5\u001b[0m \u001b[0mrmse_tr\u001b[0m \u001b[1;33m=\u001b[0m \u001b[1;33m[\u001b[0m\u001b[1;33m]\u001b[0m\u001b[1;33m\u001b[0m\u001b[1;33m\u001b[0m\u001b[0m\n\u001b[0;32m      6\u001b[0m \u001b[1;33m\u001b[0m\u001b[0m\n\u001b[1;32m----> 7\u001b[1;33m \u001b[0mModel\u001b[0m \u001b[1;33m=\u001b[0m \u001b[0mlasso_regression\u001b[0m\u001b[1;33m(\u001b[0m\u001b[0mdata_cleaner_train\u001b[0m\u001b[1;33m.\u001b[0m\u001b[0my\u001b[0m\u001b[1;33m,\u001b[0m \u001b[0mdata_cleaner_train\u001b[0m\u001b[1;33m.\u001b[0m\u001b[0mtX\u001b[0m\u001b[1;33m,\u001b[0m \u001b[0minitial_w\u001b[0m\u001b[1;33m=\u001b[0m\u001b[1;32mNone\u001b[0m\u001b[1;33m,\u001b[0m \u001b[0mmax_iters\u001b[0m\u001b[1;33m=\u001b[0m\u001b[1;36m1000\u001b[0m\u001b[1;33m,\u001b[0m \u001b[0mgamma\u001b[0m\u001b[1;33m=\u001b[0m\u001b[1;36m0.01\u001b[0m\u001b[1;33m)\u001b[0m\u001b[1;33m\u001b[0m\u001b[1;33m\u001b[0m\u001b[0m\n\u001b[0m\u001b[0;32m      8\u001b[0m \u001b[1;33m\u001b[0m\u001b[0m\n\u001b[0;32m      9\u001b[0m \u001b[0msearch_space\u001b[0m \u001b[1;33m=\u001b[0m \u001b[0mnp\u001b[0m\u001b[1;33m.\u001b[0m\u001b[0mlogspace\u001b[0m\u001b[1;33m(\u001b[0m\u001b[1;33m-\u001b[0m\u001b[1;36m10\u001b[0m\u001b[1;33m,\u001b[0m \u001b[1;36m0\u001b[0m\u001b[1;33m,\u001b[0m \u001b[1;36m30\u001b[0m\u001b[1;33m)\u001b[0m\u001b[1;33m\u001b[0m\u001b[1;33m\u001b[0m\u001b[0m\n",
      "\u001b[1;31mNameError\u001b[0m: name 'lasso_regression' is not defined"
     ]
    }
   ],
   "source": [
    "from linear_model_base import RidgeRegression\n",
    "import numpy as np \n",
    "\n",
    "rmse_te = []\n",
    "rmse_tr = []\n",
    "\n",
    "Model = lasso_regression(data_cleaner_train.y, data_cleaner_train.tX, initial_w=None, max_iters=1000, gamma=0.01)\n",
    "\n",
    "search_space = np.logspace(-10, 0, 30)\n",
    "\n",
    "for lambda_ in search_space:\n",
    "    tr, te = Model.cross_validation(5, lambda_=lambda_)\n",
    "    rmse_te.append(te)\n",
    "    rmse_tr.append(tr)\n",
    "    print(\"lambda {}\".format(lambda_))"
   ]
  },
  {
   "cell_type": "code",
   "execution_count": 8,
   "id": "a562c5da",
   "metadata": {},
   "outputs": [
    {
     "data": {
      "text/plain": [
       "(200,)"
      ]
     },
     "execution_count": 8,
     "metadata": {},
     "output_type": "execute_result"
    }
   ],
   "source": [
    "data_cleaner_train.y.shape"
   ]
  },
  {
   "cell_type": "code",
   "execution_count": 16,
   "id": "031b9cc4",
   "metadata": {},
   "outputs": [
    {
     "data": {
      "text/plain": [
       "[<matplotlib.lines.Line2D at 0x1f30501d670>]"
      ]
     },
     "execution_count": 16,
     "metadata": {},
     "output_type": "execute_result"
    },
    {
     "data": {
      "image/png": "[encoded data removed]",
      "text/plain": [
       "<Figure size 432x288 with 1 Axes>"
      ]
     },
     "metadata": {
      "needs_background": "light"
     },
     "output_type": "display_data"
    }
   ],
   "source": [
    "import matplotlib.pyplot as plt\n",
    "plt.loglog(np.logspace(-10, 0, 30),rmse_te)"
   ]
  },
  {
   "cell_type": "code",
   "execution_count": 26,
   "id": "e185495a",
   "metadata": {},
   "outputs": [],
   "source": [
    "best_lambda = search_space[np.where(rmse_te==np.min(rmse_te))]"
   ]
  },
  {
   "cell_type": "code",
   "execution_count": 18,
   "id": "9a4fffbf",
   "metadata": {},
   "outputs": [
    {
     "data": {
      "text/plain": [
       "0.786799720445798"
      ]
     },
     "execution_count": 18,
     "metadata": {},
     "output_type": "execute_result"
    }
   ],
   "source": [
    "np.min(rmse_te)"
   ]
  },
  {
   "cell_type": "code",
   "execution_count": 27,
   "id": "77218f8f",
   "metadata": {},
   "outputs": [],
   "source": [
    "weights = Model._run(lambda_ = best_lambda)"
   ]
  },
  {
   "cell_type": "code",
   "execution_count": 7,
   "id": "9d0114fd",
   "metadata": {},
   "outputs": [],
   "source": [
    "from proj1_helpers import *\n",
    "y_pred = predict_labels(w_opt, data_cleaner_test.tX)"
   ]
  },
  {
   "cell_type": "code",
   "execution_count": 19,
   "id": "21386518",
   "metadata": {},
   "outputs": [
    {
     "name": "stdout",
     "output_type": "stream",
     "text": [
      "0.5592479226305184\n"
     ]
    }
   ],
   "source": [
    "from costs import *\n",
    "err = compute_mse(data_cleaner_test.y, data_cleaner_test.tX, weights)\n",
    "print(np.sqrt(err))"
   ]
  },
  {
   "cell_type": "code",
   "execution_count": 8,
   "id": "08ddb23f",
   "metadata": {},
   "outputs": [
    {
     "data": {
      "text/plain": [
       "0.73012"
      ]
     },
     "execution_count": 8,
     "metadata": {},
     "output_type": "execute_result"
    }
   ],
   "source": [
    "def estimate_Leaderboard_score(y_true,weights,data):\n",
    "    \"\"\"Helper function estimating the categorical accuracy on the leaderscore\n",
    "    \"\"\"\n",
    "    y_pred = predict_labels(weights, data)\n",
    "    N_tot = y_pred.shape[0]\n",
    "    N_true = len(np.where(y_pred == y_true)[0])\n",
    "    categorical_acuracy = N_true/N_tot\n",
    "    return categorical_acuracy\n",
    "\n",
    "estimate_Leaderboard_score(data_cleaner_test.y, w_opt, data_cleaner_test.tX)"
   ]
  },
  {
   "cell_type": "code",
   "execution_count": 6,
   "id": "eb30e4eb",
   "metadata": {},
   "outputs": [
    {
     "data": {
      "text/plain": [
       "array([-3.61693640e-01,  6.60363073e-01, -3.78335775e+00,  0.00000000e+00,\n",
       "        0.00000000e+00,  7.20111839e-01,  1.45705817e-01,  2.60271493e-01,\n",
       "        2.90159547e-01,  0.00000000e+00,  0.00000000e+00, -1.41656876e+00,\n",
       "        7.51976512e-02,  8.60341223e-02,  2.98099013e+00,  1.68631632e-02,\n",
       "       -1.13730492e-01,  6.58221972e-01,  2.09980848e-02, -1.04643882e-01,\n",
       "        0.00000000e+00, -2.86247077e-02,  0.00000000e+00, -9.60183336e-02,\n",
       "        0.00000000e+00, -1.31776321e-01,  0.00000000e+00,  0.00000000e+00,\n",
       "        4.44910500e-02,  5.76788294e-03,  0.00000000e+00, -8.83969231e-01,\n",
       "        0.00000000e+00,  0.00000000e+00,  0.00000000e+00,  1.93908974e-01,\n",
       "        0.00000000e+00,  0.00000000e+00,  8.80129186e-02,  0.00000000e+00,\n",
       "        0.00000000e+00,  0.00000000e+00,  1.32503965e-01,  9.20754532e-02,\n",
       "        0.00000000e+00,  0.00000000e+00,  2.04179671e-02,  0.00000000e+00,\n",
       "        1.26695141e-03,  1.06028132e-02,  0.00000000e+00,  0.00000000e+00,\n",
       "        0.00000000e+00, -2.54001595e-01,  0.00000000e+00,  0.00000000e+00,\n",
       "       -7.31809796e-03,  0.00000000e+00,  0.00000000e+00,  0.00000000e+00,\n",
       "        0.00000000e+00,  0.00000000e+00,  0.00000000e+00,  0.00000000e+00,\n",
       "        0.00000000e+00,  9.94899162e-02,  0.00000000e+00,  0.00000000e+00,\n",
       "       -3.53411338e-01,  0.00000000e+00,  0.00000000e+00,  0.00000000e+00,\n",
       "        1.48457807e-01,  1.53086055e-01,  0.00000000e+00, -9.25173902e-02,\n",
       "        5.13931720e-02,  0.00000000e+00, -1.37837417e-01,  6.50931443e-02,\n",
       "        0.00000000e+00,  3.85446171e-03,  0.00000000e+00, -1.56720408e-01,\n",
       "        0.00000000e+00,  3.25732964e-01,  0.00000000e+00,  0.00000000e+00,\n",
       "        0.00000000e+00, -4.85573347e-02,  0.00000000e+00])"
      ]
     },
     "execution_count": 6,
     "metadata": {},
     "output_type": "execute_result"
    }
   ],
   "source": [
    "w_opt"
   ]
  }
 ],
 "metadata": {
  "kernelspec": {
   "display_name": "Python 3",
   "language": "python",
   "name": "python3"
  },
  "language_info": {
   "codemirror_mode": {
    "name": "ipython",
    "version": 3
   },
   "file_extension": ".py",
   "mimetype": "text/x-python",
   "name": "python",
   "nbconvert_exporter": "python",
   "pygments_lexer": "ipython3",
   "version": "3.8.8"
  }
 },
 "nbformat": 4,
 "nbformat_minor": 5
}
