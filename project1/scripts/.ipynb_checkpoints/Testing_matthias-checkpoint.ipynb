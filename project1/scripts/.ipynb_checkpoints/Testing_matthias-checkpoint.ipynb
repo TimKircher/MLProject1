{
 "cells": [
  {
   "cell_type": "markdown",
   "id": "b6a78290-9f95-4d55-8313-33044d92174e",
   "metadata": {},
   "source": [
    "## Notebook explaining the use of the data cleaner class"
   ]
  },
  {
   "cell_type": "markdown",
   "id": "67d99600-b20d-4b30-a982-f95c7cb39043",
   "metadata": {},
   "source": [
    "#### Importing data"
   ]
  },
  {
   "cell_type": "code",
   "execution_count": 1,
   "id": "a6942517-74bb-42c8-92aa-4b5c668f88cb",
   "metadata": {},
   "outputs": [],
   "source": [
    "from data_cleaner import Data_Cleaner"
   ]
  },
  {
   "cell_type": "code",
   "execution_count": 2,
   "id": "e5833de8-e169-4b2d-b2c4-cd15d16b3a59",
   "metadata": {},
   "outputs": [],
   "source": [
    "#Load data with the datacleaner class\n",
    "data_container = Data_Cleaner(\"../data/train.csv\")"
   ]
  },
  {
   "cell_type": "code",
   "execution_count": 3,
   "id": "6ae059e0-7520-466b-847f-3e1b8740c49b",
   "metadata": {},
   "outputs": [],
   "source": [
    "#replace -999. with np.NaN\n",
    "data_container._fill_with_NaN()"
   ]
  },
  {
   "cell_type": "code",
   "execution_count": 4,
   "id": "5a1c0451-53b2-4227-83fe-85c3eb04a673",
   "metadata": {},
   "outputs": [],
   "source": [
    "#replace np.NaN with feature mean\n",
    "data_container.replace_with_mean()"
   ]
  },
  {
   "cell_type": "markdown",
   "id": "e3dc7484-83a8-4586-ab04-f9f215431d7d",
   "metadata": {},
   "source": [
    "#### Feature engineering"
   ]
  },
  {
   "cell_type": "code",
   "execution_count": 5,
   "id": "cbea91af-ab37-46de-8f37-c9dab36ee5da",
   "metadata": {},
   "outputs": [],
   "source": [
    "import numpy as np\n",
    "polynomial_degree_vs_rmse_improvement = np.load(\"max_poly_different_normalization_test.npy\")"
   ]
  },
  {
   "cell_type": "code",
   "execution_count": 8,
   "id": "0387a2c3-4111-421f-947b-e0c6c3b6fcd1",
   "metadata": {},
   "outputs": [],
   "source": [
    "#this is a N_feature X N_degree expansion (20) matrix"
   ]
  },
  {
   "cell_type": "code",
   "execution_count": 9,
   "id": "4b3cfe9f-8668-4d86-a44b-1ccdb44cb790",
   "metadata": {},
   "outputs": [
    {
     "data": {
      "text/plain": [
       "array([ 6,  2,  5,  0,  2,  5,  3,  2,  0,  3,  3, 12,  1,  5,  1,  0,  0,\n",
       "        1,  0,  0,  0,  2,  2,  4,  1,  0,  0,  1,  0,  6])"
      ]
     },
     "execution_count": 9,
     "metadata": {},
     "output_type": "execute_result"
    }
   ],
   "source": [
    "np.argmin(np.around(polynomial_degree_vs_rmse_improvement,decimals=3), axis=1)  #returns the first argmin(also degree of polynomial) that yields the best RMSE (rounded to last 4 digits)"
   ]
  },
  {
   "cell_type": "code",
   "execution_count": 17,
   "id": "e4bb6893-2648-40ea-a945-34648e068912",
   "metadata": {},
   "outputs": [
    {
     "data": {
      "text/plain": [
       "Text(0.5, 1.0, 'polynomial expansion of feature 0\\n degree vs RMSE cross validation')"
      ]
     },
     "execution_count": 17,
     "metadata": {},
     "output_type": "execute_result"
    },
    {
     "data": {
      "image/png": "[encoded data removed]",
      "text/plain": [
       "<Figure size 432x288 with 1 Axes>"
      ]
     },
     "metadata": {
      "needs_background": "light"
     },
     "output_type": "display_data"
    }
   ],
   "source": [
    "import matplotlib.pyplot as plt\n",
    "plt.plot(polynomial_degree_vs_rmse_improvement[0])\n",
    "plt.xlabel(\"degree poly expansion\")\n",
    "plt.ylabel(\"RMSE cross validation test\")\n",
    "plt.title(\"polynomial expansion of feature 0\\n degree vs RMSE cross validation\")"
   ]
  },
  {
   "cell_type": "code",
   "execution_count": 6,
   "id": "d8254c34-bc53-434e-a99a-b0ee3a137d92",
   "metadata": {},
   "outputs": [],
   "source": [
    "max_poly = np.argmin(np.around(polynomial_degree_vs_rmse_improvement,decimals=4), axis=1)"
   ]
  },
  {
   "cell_type": "code",
   "execution_count": 20,
   "id": "0b83ec9d-951c-45d6-a276-e92f49701965",
   "metadata": {},
   "outputs": [
    {
     "data": {
      "text/plain": [
       "140"
      ]
     },
     "execution_count": 20,
     "metadata": {},
     "output_type": "execute_result"
    }
   ],
   "source": [
    "np.sum(max_poly) #30 features -> 140 features"
   ]
  },
  {
   "cell_type": "code",
   "execution_count": 7,
   "id": "244248e1-d517-43ab-b07f-fb3a9e6acd3e",
   "metadata": {},
   "outputs": [],
   "source": [
    "data_container.build_polynomials_from_degree_array(max_poly) #build features"
   ]
  },
  {
   "cell_type": "code",
   "execution_count": 8,
   "id": "5572edcc-6143-43ed-bfaf-b8d1daefb402",
   "metadata": {},
   "outputs": [
    {
     "data": {
      "text/plain": [
       "(250000, 140)"
      ]
     },
     "execution_count": 8,
     "metadata": {},
     "output_type": "execute_result"
    }
   ],
   "source": [
    "data_container.tX.shape   #-> features are expanded from 30 to 140"
   ]
  },
  {
   "cell_type": "code",
   "execution_count": 9,
   "id": "850eba32-917c-4f8c-8c80-5fa6f9f7c70b",
   "metadata": {},
   "outputs": [],
   "source": [
    "#Normalization after feature construction!\n",
    "data_container.normalize()"
   ]
  },
  {
   "cell_type": "markdown",
   "id": "4a2993b9-37b9-4af9-a7ea-ebd4a312638a",
   "metadata": {},
   "source": [
    "#### Predict"
   ]
  },
  {
   "cell_type": "code",
   "execution_count": 11,
   "id": "7454bd69-2848-40eb-a7a2-6d3d3fe9d15d",
   "metadata": {},
   "outputs": [],
   "source": [
    "from linear_model_base import RidgeRegression"
   ]
  },
  {
   "cell_type": "code",
   "execution_count": 12,
   "id": "b85381c0-9095-48db-945e-2029e7ee62a0",
   "metadata": {},
   "outputs": [],
   "source": [
    "Model = RidgeRegression(data_container)"
   ]
  },
  {
   "cell_type": "code",
   "execution_count": 14,
   "id": "c294b8e9-cfd0-41da-8a07-d05ad6c929b2",
   "metadata": {},
   "outputs": [
    {
     "data": {
      "text/plain": [
       "(0.8360038533717888, 0.8653923334426376)"
      ]
     },
     "execution_count": 14,
     "metadata": {},
     "output_type": "execute_result"
    }
   ],
   "source": [
    "Model.cross_validation(4,lambda_=0.00001) \n",
    "#cross_validate model returns RMSE_train, RMSE_test"
   ]
  },
  {
   "cell_type": "markdown",
   "id": "ddec285c-c4da-49f9-b78a-832b55d5c94d",
   "metadata": {},
   "source": [
    "#### Hyperparameter optimization"
   ]
  },
  {
   "cell_type": "code",
   "execution_count": 19,
   "id": "3933cec7-778f-47ec-835d-2ff008d699a7",
   "metadata": {},
   "outputs": [
    {
     "name": "stdout",
     "output_type": "stream",
     "text": [
      "lambda 1e-08\n",
      "lambda 1.887391822135096e-08\n",
      "lambda 3.562247890262444e-08\n",
      "lambda 6.723357536499335e-08\n",
      "lambda 1.2689610031679235e-07\n",
      "lambda 2.395026619987486e-07\n",
      "lambda 4.5203536563602405e-07\n",
      "lambda 8.531678524172815e-07\n",
      "lambda 1.6102620275609392e-06\n",
      "lambda 3.0391953823131947e-06\n",
      "lambda 5.736152510448681e-06\n",
      "lambda 1.082636733874054e-05\n",
      "lambda 2.0433597178569398e-05\n",
      "lambda 3.856620421163472e-05\n",
      "lambda 7.278953843983146e-05\n",
      "lambda 0.00013738237958832637\n",
      "lambda 0.0002592943797404667\n",
      "lambda 0.0004893900918477489\n",
      "lambda 0.0009236708571873865\n",
      "lambda 0.0017433288221999873\n",
      "lambda 0.003290344562312671\n",
      "lambda 0.006210169418915616\n",
      "lambda 0.011721022975334793\n",
      "lambda 0.022122162910704502\n",
      "lambda 0.041753189365604\n",
      "lambda 0.07880462815669904\n",
      "lambda 0.14873521072935117\n",
      "lambda 0.2807216203941176\n",
      "lambda 0.5298316906283702\n",
      "lambda 1.0\n"
     ]
    }
   ],
   "source": [
    "rmse_te = []\n",
    "rmse_tr = []\n",
    "\n",
    "for lambda_ in np.logspace(-8, 0, 30):\n",
    "    tr, te = Model.cross_validation(4, lambda_=lambda_)\n",
    "    rmse_te.append(te)\n",
    "    rmse_tr.append(tr)\n",
    "    print(\"lambda {}\".format(lambda_))"
   ]
  },
  {
   "cell_type": "code",
   "execution_count": 25,
   "id": "1fadaa40-af70-4e43-91a9-72b79125e2b2",
   "metadata": {},
   "outputs": [
    {
     "data": {
      "text/plain": [
       "[<matplotlib.lines.Line2D at 0x7fb2fc0e76d0>]"
      ]
     },
     "execution_count": 25,
     "metadata": {},
     "output_type": "execute_result"
    },
    {
     "data": {
      "image/png": "[encoded data removed]",
      "text/plain": [
       "<Figure size 432x288 with 1 Axes>"
      ]
     },
     "metadata": {
      "needs_background": "light"
     },
     "output_type": "display_data"
    }
   ],
   "source": [
    "import matplotlib.pyplot as plt\n",
    "plt.loglog(np.logspace(-8, 0, 30),rmse_te)\n"
   ]
  },
  {
   "cell_type": "code",
   "execution_count": 20,
   "id": "464e5a68-1379-44bc-9b59-57a9772d6040",
   "metadata": {},
   "outputs": [
    {
     "data": {
      "text/plain": [
       "[<matplotlib.lines.Line2D at 0x7f0436f23580>]"
      ]
     },
     "execution_count": 20,
     "metadata": {},
     "output_type": "execute_result"
    },
    {
     "data": {
      "image/png": "[encoded data removed]",
      "text/plain": [
       "<Figure size 432x288 with 1 Axes>"
      ]
     },
     "metadata": {
      "needs_background": "light"
     },
     "output_type": "display_data"
    }
   ],
   "source": [
    "plt.loglog(np.logspace(-8, 0, 30),rmse_te)"
   ]
  },
  {
   "cell_type": "code",
   "execution_count": 21,
   "id": "6b50f36c-ee14-44df-8975-928b36df8da5",
   "metadata": {},
   "outputs": [
    {
     "data": {
      "text/plain": [
       "(250000, 140)"
      ]
     },
     "execution_count": 21,
     "metadata": {},
     "output_type": "execute_result"
    }
   ],
   "source": [
    "data_container.tX.shape"
   ]
  },
  {
   "cell_type": "code",
   "execution_count": 24,
   "id": "fe94d94e-cf08-442f-a42d-04ea36140fcd",
   "metadata": {},
   "outputs": [
    {
     "data": {
      "text/plain": [
       "3.856620421163472e-05"
      ]
     },
     "execution_count": 24,
     "metadata": {},
     "output_type": "execute_result"
    }
   ],
   "source": [
    "np.logspace(-8, 0, 30)[np.argmin(rmse_te)]"
   ]
  },
  {
   "cell_type": "code",
   "execution_count": 22,
   "id": "779b6d89-fc44-4ef4-ba19-89c8111dbb7b",
   "metadata": {},
   "outputs": [
    {
     "data": {
      "text/plain": [
       "0.8386400836241162"
      ]
     },
     "execution_count": 22,
     "metadata": {},
     "output_type": "execute_result"
    }
   ],
   "source": [
    "np.min(rmse_te)"
   ]
  },
  {
   "cell_type": "code",
   "execution_count": 27,
   "id": "2f14ff89-5cc5-4a19-8bfc-b06cfada5b24",
   "metadata": {},
   "outputs": [],
   "source": [
    "#argmin (optimal) lambda: when going down to 4 decimals: 0.0452035365636024\n",
    "#argmin (optimal) lambda: when going down to 3 decimals: 0.01082636733874054"
   ]
  },
  {
   "cell_type": "markdown",
   "id": "8ea4df32-15f3-444f-9d0d-7f4d6363da0d",
   "metadata": {},
   "source": [
    "#### Generate prediction"
   ]
  },
  {
   "cell_type": "code",
   "execution_count": 25,
   "id": "8e276f42-0648-4511-af45-cb24314ee6be",
   "metadata": {},
   "outputs": [],
   "source": [
    "from proj1_helpers import *"
   ]
  },
  {
   "cell_type": "code",
   "execution_count": 26,
   "id": "1ad32c11-6241-4797-8fcb-e2ed3f2bc5fc",
   "metadata": {},
   "outputs": [],
   "source": [
    "#transform testset data"
   ]
  },
  {
   "cell_type": "code",
   "execution_count": 27,
   "id": "c917ead1-d29a-4192-8e9a-46f77a534c61",
   "metadata": {},
   "outputs": [],
   "source": [
    "#obtain weights with optimal parameters\n",
    "weights = Model._run(lambda_=3.856620421163472e-05)\n"
   ]
  },
  {
   "cell_type": "code",
   "execution_count": 28,
   "id": "dcb5b899-980a-4532-b01f-6d45826dd858",
   "metadata": {},
   "outputs": [],
   "source": [
    "cleaner_data_test = Data_Cleaner(\"../data/test.csv\")\n",
    "cleaner_data_test._fill_with_NaN()\n",
    "cleaner_data_test.replace_with_mean()\n",
    "cleaner_data_test.build_polynomials_from_degree_array(max_poly)\n",
    "cleaner_data_test.normalize()"
   ]
  },
  {
   "cell_type": "code",
   "execution_count": 29,
   "id": "c58f8edf-a1a7-48a0-b5bf-0552763d5aa3",
   "metadata": {},
   "outputs": [],
   "source": [
    "OUTPUT_PATH = '../scripts/cleaned_correct_regularization_3.csv' # TODO: fill in desired name of output file for submission\n",
    "y_pred = predict_labels(weights, cleaner_data_test.tX)\n",
    "create_csv_submission(cleaner_data_test.ids, y_pred, OUTPUT_PATH)"
   ]
  },
  {
   "cell_type": "code",
   "execution_count": null,
   "id": "63d44fe9-2962-4522-909c-8329e30b4579",
   "metadata": {},
   "outputs": [],
   "source": []
  }
 ],
 "metadata": {
  "kernelspec": {
   "display_name": "Python 3",
   "language": "python",
   "name": "python3"
  },
  "language_info": {
   "codemirror_mode": {
    "name": "ipython",
    "version": 3
   },
   "file_extension": ".py",
   "mimetype": "text/x-python",
   "name": "python",
   "nbconvert_exporter": "python",
   "pygments_lexer": "ipython3",
   "version": "3.8.8"
  }
 },
 "nbformat": 4,
 "nbformat_minor": 5
}
