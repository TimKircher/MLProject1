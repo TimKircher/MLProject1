{
 "cells": [
  {
   "cell_type": "code",
   "execution_count": 1,
   "id": "93a02e4f",
   "metadata": {},
   "outputs": [],
   "source": [
    "# load -> clean -> features -> fit/validate -> predict -> submit\n",
    "from linear_model_base import RidgeRegression\n",
    "import numpy as np"
   ]
  },
  {
   "cell_type": "code",
   "execution_count": 3,
   "id": "700e9fbe",
   "metadata": {},
   "outputs": [],
   "source": [
    "from data_cleaner import Data_Cleaner\n",
    "\n",
    "#80/20 train test split to verify predictions before upload\n",
    "\n",
    "data_cleaner_train = Data_Cleaner(\"C:/Users/Tim/Documents/GitHub/MLProject1/project1/data/train.csv\")\n",
    "data_cleaner_train.tX = data_cleaner_train.tX[:200000,:]\n",
    "data_cleaner_train.y = data_cleaner_train.y[:200000]\n",
    "\n",
    "data_cleaner_train._fill_with_NaN()\n",
    "data_cleaner_train.replace_with_zero()\n",
    "\n",
    "data_cleaner_test = Data_Cleaner(\"C:/Users/Tim/Documents/GitHub/MLProject1/project1/data/train.csv\")\n",
    "data_cleaner_test.tX = data_cleaner_test.tX[200000:,:]\n",
    "data_cleaner_test.y = data_cleaner_test.y[200000:]\n",
    "\n",
    "data_cleaner_test._fill_with_NaN()\n",
    "data_cleaner_test.replace_with_zero()"
   ]
  },
  {
   "cell_type": "code",
   "execution_count": 4,
   "id": "736e4303",
   "metadata": {},
   "outputs": [],
   "source": [
    "def build_interactions(x):\n",
    "    x_out = np.array(x)\n",
    "    for i in range(int(x.shape[1])):\n",
    "        x_i = x[:,0]\n",
    "        x = np.delete(x, 0, 1)\n",
    "        x_interact = (x_i*x.T).T\n",
    "        \n",
    "        x_out = np.hstack([x_out,x_interact])\n",
    "        \n",
    "    return x_out\n",
    "\n",
    "def build_poly(x, degree, add_degree_zero=False):\n",
    "    \"\"\"polynomial basis functions for input data x, for j=0 up to j=degree.\"\"\"\n",
    "    # ***************************************************\n",
    "    # INSERT YOUR CODE HERE\n",
    "    # polynomial basis function: TODO\n",
    "    # this function should return the matrix formed\n",
    "    # by applying the polynomial basis to the input data\n",
    "    if add_degree_zero:\n",
    "        xN = np.hstack([np.ones([x.shape[0],1]),x])\n",
    "    else:\n",
    "        xN = x\n",
    "    if degree>0:\n",
    "        for i in range(degree-1):\n",
    "            xN = np.hstack([xN, x**(i+2)])\n",
    "    return np.array(xN)"
   ]
  },
  {
   "cell_type": "code",
   "execution_count": 5,
   "id": "26bea7ff",
   "metadata": {},
   "outputs": [
    {
     "name": "stdout",
     "output_type": "stream",
     "text": [
      "[ True  True  True  True False  True False False  True  True False False\n",
      " False  True False False  True False False  True False  True False  True\n",
      " False False  True False False  True]\n"
     ]
    }
   ],
   "source": [
    "data_cleaner_train.tX = build_poly(data_cleaner_train.tX,2)\n",
    "data_cleaner_train.tX = build_interactions(data_cleaner_train.tX)"
   ]
  },
  {
   "cell_type": "code",
   "execution_count": null,
   "id": "d3df4c48",
   "metadata": {},
   "outputs": [],
   "source": [
    "data_cleaner_train.tX = build_poly(data_cleaner_train.tX,2)\n",
    "data_cleaner_train.tX = build_interactions(data_cleaner_train.tX)"
   ]
  },
  {
   "cell_type": "code",
   "execution_count": 5,
   "id": "eaaa89b9",
   "metadata": {},
   "outputs": [
    {
     "data": {
      "text/plain": [
       "(200000, 1830)"
      ]
     },
     "execution_count": 5,
     "metadata": {},
     "output_type": "execute_result"
    }
   ],
   "source": [
    "data_cleaner_train.tX.shape"
   ]
  },
  {
   "cell_type": "code",
   "execution_count": 5,
   "id": "fe1ef6ea",
   "metadata": {},
   "outputs": [],
   "source": [
    "minimum, maximum = data_cleaner_train.getMinMax()\n",
    "data_cleaner_train.standardize()"
   ]
  },
  {
   "cell_type": "code",
   "execution_count": 7,
   "id": "c4fb471d",
   "metadata": {},
   "outputs": [
    {
     "name": "stdout",
     "output_type": "stream",
     "text": [
      "lambda 1e-10\n",
      "lambda 1.2915496650148826e-09\n",
      "lambda 1.6681005372000592e-08\n",
      "lambda 2.1544346900318867e-07\n",
      "lambda 2.782559402207126e-06\n",
      "lambda 3.5938136638046256e-05\n",
      "lambda 0.0004641588833612782\n",
      "lambda 0.005994842503189421\n",
      "lambda 0.07742636826811278\n",
      "lambda 1.0\n"
     ]
    }
   ],
   "source": [
    "from linear_model_base import RidgeRegression\n",
    "import numpy as np \n",
    "\n",
    "Model = RidgeRegression(data_cleaner_train)\n",
    "search_space = np.logspace(-10, 0, 10)\n",
    "    \n",
    "rmse_te = []\n",
    "rmse_tr = []\n",
    "\n",
    "for lambda_ in search_space:\n",
    "        \n",
    "    tr, te = Model.cross_validation(5, lambda_=lambda_)\n",
    "    rmse_te.append(te)\n",
    "    rmse_tr.append(tr)\n",
    "        \n",
    "    print(\"lambda {}\".format(lambda_))  "
   ]
  },
  {
   "cell_type": "code",
   "execution_count": 13,
   "id": "422594d1",
   "metadata": {},
   "outputs": [
    {
     "data": {
      "text/plain": [
       "[<matplotlib.lines.Line2D at 0x1b880576610>]"
      ]
     },
     "execution_count": 13,
     "metadata": {},
     "output_type": "execute_result"
    },
    {
     "data": {
      "image/png": "[encoded data removed]",
      "text/plain": [
       "<Figure size 432x288 with 1 Axes>"
      ]
     },
     "metadata": {
      "needs_background": "light"
     },
     "output_type": "display_data"
    }
   ],
   "source": [
    "import matplotlib.pyplot as plt\n",
    "plt.loglog(np.logspace(-10, 0, 10),rmse_te)"
   ]
  },
  {
   "cell_type": "code",
   "execution_count": 8,
   "id": "cae69fce",
   "metadata": {},
   "outputs": [],
   "source": [
    "best_lambda = search_space[np.where(rmse_te==np.min(rmse_te))]"
   ]
  },
  {
   "cell_type": "code",
   "execution_count": 6,
   "id": "56efe7e6",
   "metadata": {},
   "outputs": [
    {
     "name": "stdout",
     "output_type": "stream",
     "text": [
      "lambda 1e-09\n",
      "lambda 1.373823795883261e-09\n",
      "lambda 1.8873918221350994e-09\n",
      "lambda 2.592943797404667e-09\n",
      "lambda 3.5622478902624368e-09\n",
      "lambda 4.893900918477499e-09\n",
      "lambda 6.723357536499335e-09\n",
      "lambda 9.236708571873846e-09\n",
      "lambda 1.2689610031679234e-08\n",
      "lambda 1.743328822199987e-08\n",
      "lambda 2.395026619987486e-08\n",
      "lambda 3.290344562312671e-08\n",
      "lambda 4.5203536563602405e-08\n",
      "lambda 6.210169418915617e-08\n",
      "lambda 8.531678524172814e-08\n",
      "lambda 1.1721022975334794e-07\n",
      "lambda 1.6102620275609392e-07\n",
      "lambda 2.2122162910704503e-07\n",
      "lambda 3.0391953823131946e-07\n",
      "lambda 4.1753189365604003e-07\n",
      "lambda 5.736152510448681e-07\n",
      "lambda 7.880462815669904e-07\n",
      "lambda 1.0826367338740541e-06\n",
      "lambda 1.487352107293512e-06\n",
      "lambda 2.0433597178569395e-06\n",
      "lambda 2.8072162039411756e-06\n",
      "lambda 3.856620421163472e-06\n",
      "lambda 5.298316906283702e-06\n",
      "lambda 7.2789538439831465e-06\n",
      "lambda 1e-05\n"
     ]
    }
   ],
   "source": [
    "from linear_model_base import RidgeRegression\n",
    "import numpy as np \n",
    "\n",
    "Model = RidgeRegression(data_cleaner_train)\n",
    "search_space = np.logspace(-9, -5, 30)\n",
    "    \n",
    "rmse_te = []\n",
    "rmse_tr = []\n",
    "\n",
    "for lambda_ in search_space:\n",
    "        \n",
    "    tr, te = Model.cross_validation(5, lambda_=lambda_)\n",
    "    rmse_te.append(te)\n",
    "    rmse_tr.append(tr)\n",
    "        \n",
    "    print(\"lambda {}\".format(lambda_))  "
   ]
  },
  {
   "cell_type": "code",
   "execution_count": 7,
   "id": "19061e73",
   "metadata": {},
   "outputs": [],
   "source": [
    "best_lambda = search_space[np.where(rmse_te==np.min(rmse_te))]"
   ]
  },
  {
   "cell_type": "code",
   "execution_count": 8,
   "id": "77218f8f",
   "metadata": {},
   "outputs": [],
   "source": [
    "weights = Model._run(lambda_ = best_lambda)"
   ]
  },
  {
   "cell_type": "code",
   "execution_count": 9,
   "id": "9d0114fd",
   "metadata": {},
   "outputs": [],
   "source": [
    "from proj1_helpers import *\n",
    "#generate poly features and standardise according to min_max from training\n",
    "data_cleaner_test.tX = build_poly(data_cleaner_test.tX,2)\n",
    "data_cleaner_test.tX = build_interactions(data_cleaner_test.tX )\n",
    "data_cleaner_test.tX = (data_cleaner_test.tX - minimum) / (maximum - minimum)"
   ]
  },
  {
   "cell_type": "code",
   "execution_count": 10,
   "id": "ce05056e",
   "metadata": {},
   "outputs": [],
   "source": [
    "Model = RidgeRegression(data_cleaner_test)\n",
    "weights = Model._run(lambda_ = best_lambda)\n",
    "\n",
    "y_pred = predict_labels(weights, data_cleaner_test.tX)"
   ]
  },
  {
   "cell_type": "code",
   "execution_count": 11,
   "id": "08ddb23f",
   "metadata": {},
   "outputs": [
    {
     "data": {
      "text/plain": [
       "0.82982"
      ]
     },
     "execution_count": 11,
     "metadata": {},
     "output_type": "execute_result"
    }
   ],
   "source": [
    "#estimate accuracy based on test set\n",
    "def estimate_Leaderboard_score(y_true,weights,data):\n",
    "    \"\"\"Helper function estimating the categorical accuracy on the leaderscore\n",
    "    \"\"\"\n",
    "    y_pred = predict_labels(weights, data)\n",
    "    N_tot = y_pred.shape[0]\n",
    "    N_true = len(np.where(y_pred == y_true)[0])\n",
    "    categorical_acuracy = N_true/N_tot\n",
    "    return categorical_acuracy\n",
    "\n",
    "estimate_Leaderboard_score(data_cleaner_test.y, weights, data_cleaner_test.tX)"
   ]
  },
  {
   "cell_type": "code",
   "execution_count": 12,
   "id": "73b992b4",
   "metadata": {},
   "outputs": [],
   "source": [
    "#generate predictions\n",
    "data_cleaner_upload = Data_Cleaner(\"C:/Users/Tim/Documents/GitHub/MLProject1/project1/data/test.csv\")\n",
    "data_cleaner_upload._fill_with_NaN()\n",
    "data_cleaner_upload.replace_with_zero()\n",
    "data_cleaner_upload.tX = build_poly(data_cleaner_upload.tX,2)\n",
    "data_cleaner_upload.tX = build_interactions(data_cleaner_upload.tX)\n",
    "data_cleaner_upload.tX = (data_cleaner_upload.tX - minimum) / (maximum - minimum)\n",
    "\n",
    "y_pred = predict_labels(weights, data_cleaner_upload.tX)\n",
    "create_csv_submission(data_cleaner_upload.ids, y_pred, \"C:/Users/Tim/Documents/GitHub/MLProject1/project1/data/poly2interactionsRidge.csv\")"
   ]
  },
  {
   "cell_type": "code",
   "execution_count": 13,
   "id": "33d779a8",
   "metadata": {},
   "outputs": [
    {
     "data": {
      "text/plain": [
       "(568238, 1830)"
      ]
     },
     "execution_count": 13,
     "metadata": {},
     "output_type": "execute_result"
    }
   ],
   "source": [
    "data_cleaner_upload.tX.shape"
   ]
  }
 ],
 "metadata": {
  "kernelspec": {
   "display_name": "Python 3",
   "language": "python",
   "name": "python3"
  },
  "language_info": {
   "codemirror_mode": {
    "name": "ipython",
    "version": 3
   },
   "file_extension": ".py",
   "mimetype": "text/x-python",
   "name": "python",
   "nbconvert_exporter": "python",
   "pygments_lexer": "ipython3",
   "version": "3.8.8"
  }
 },
 "nbformat": 4,
 "nbformat_minor": 5
}
