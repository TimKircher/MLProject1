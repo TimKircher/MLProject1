{
 "cells": [
  {
   "cell_type": "code",
   "execution_count": 1,
   "id": "08dc9311",
   "metadata": {},
   "outputs": [],
   "source": [
    "from data_cleaner import Data_Cleaner"
   ]
  },
  {
   "cell_type": "code",
   "execution_count": 2,
   "id": "76ae2e9e",
   "metadata": {},
   "outputs": [],
   "source": [
    "#Load data with the datacleaner class\n",
    "data_container = Data_Cleaner(\"C:/Users/Tim/Documents/GitHub/MLProject1/project1/data/train.csv\")"
   ]
  },
  {
   "cell_type": "code",
   "execution_count": 3,
   "id": "66bb369c",
   "metadata": {},
   "outputs": [],
   "source": [
    "#replace -999. with np.NaN\n",
    "data_container._fill_with_NaN()"
   ]
  },
  {
   "cell_type": "code",
   "execution_count": 4,
   "id": "5335e5a8",
   "metadata": {},
   "outputs": [],
   "source": [
    "#replace np.NaN with feature mean\n",
    "data_container.replace_with_zero()"
   ]
  },
  {
   "cell_type": "code",
   "execution_count": 5,
   "id": "a12382c3",
   "metadata": {},
   "outputs": [
    {
     "data": {
      "text/plain": [
       "array([[ 1.38470000e+02,  5.16550000e+01,  9.78270000e+01, ...,\n",
       "         1.24000000e+00, -2.47500000e+00,  1.13497000e+02],\n",
       "       [ 1.60937000e+02,  6.87680000e+01,  1.03235000e+02, ...,\n",
       "        -1.18452642e-02, -1.58228913e-03,  4.62260000e+01],\n",
       "       [ 1.21858528e+02,  1.62172000e+02,  1.25953000e+02, ...,\n",
       "        -1.18452642e-02, -1.58228913e-03,  4.42510000e+01],\n",
       "       ...,\n",
       "       [ 1.05457000e+02,  6.05260000e+01,  7.58390000e+01, ...,\n",
       "        -1.18452642e-02, -1.58228913e-03,  4.19920000e+01],\n",
       "       [ 9.49510000e+01,  1.93620000e+01,  6.88120000e+01, ...,\n",
       "        -1.18452642e-02, -1.58228913e-03,  0.00000000e+00],\n",
       "       [ 1.21858528e+02,  7.27560000e+01,  7.08310000e+01, ...,\n",
       "        -1.18452642e-02, -1.58228913e-03,  0.00000000e+00]])"
      ]
     },
     "execution_count": 5,
     "metadata": {},
     "output_type": "execute_result"
    }
   ],
   "source": [
    "data_container.tX"
   ]
  },
  {
   "cell_type": "code",
   "execution_count": 5,
   "id": "7ab0da93",
   "metadata": {},
   "outputs": [],
   "source": [
    "from linear_model_base import RidgeRegression\n",
    "Model = RidgeRegression(data_container)"
   ]
  },
  {
   "cell_type": "code",
   "execution_count": 15,
   "id": "b39885d0",
   "metadata": {},
   "outputs": [],
   "source": [
    "data_container.normalize()"
   ]
  },
  {
   "cell_type": "code",
   "execution_count": 6,
   "id": "904bd755",
   "metadata": {},
   "outputs": [
    {
     "name": "stdout",
     "output_type": "stream",
     "text": [
      "lambda 1e-08\n",
      "lambda 1.887391822135096e-08\n",
      "lambda 3.562247890262444e-08\n",
      "lambda 6.723357536499335e-08\n",
      "lambda 1.2689610031679235e-07\n",
      "lambda 2.395026619987486e-07\n",
      "lambda 4.5203536563602405e-07\n",
      "lambda 8.531678524172815e-07\n",
      "lambda 1.6102620275609392e-06\n",
      "lambda 3.0391953823131947e-06\n",
      "lambda 5.736152510448681e-06\n",
      "lambda 1.082636733874054e-05\n",
      "lambda 2.0433597178569398e-05\n",
      "lambda 3.856620421163472e-05\n",
      "lambda 7.278953843983146e-05\n",
      "lambda 0.00013738237958832637\n",
      "lambda 0.0002592943797404667\n",
      "lambda 0.0004893900918477489\n",
      "lambda 0.0009236708571873865\n",
      "lambda 0.0017433288221999873\n",
      "lambda 0.003290344562312671\n",
      "lambda 0.006210169418915616\n",
      "lambda 0.011721022975334793\n",
      "lambda 0.022122162910704502\n",
      "lambda 0.041753189365604\n",
      "lambda 0.07880462815669904\n",
      "lambda 0.14873521072935117\n",
      "lambda 0.2807216203941176\n",
      "lambda 0.5298316906283702\n",
      "lambda 1.0\n"
     ]
    }
   ],
   "source": [
    "import numpy as np\n",
    "rmse_te = []\n",
    "rmse_tr = []\n",
    "\n",
    "for lambda_ in np.logspace(-8, 0, 30):\n",
    "    tr, te = Model.cross_validation(10, lambda_=lambda_)\n",
    "    rmse_te.append(te)\n",
    "    rmse_tr.append(tr)\n",
    "    print(\"lambda {}\".format(lambda_))"
   ]
  },
  {
   "cell_type": "code",
   "execution_count": 7,
   "id": "dd738b49",
   "metadata": {},
   "outputs": [
    {
     "data": {
      "text/plain": [
       "[<matplotlib.lines.Line2D at 0x16ac275a460>]"
      ]
     },
     "execution_count": 7,
     "metadata": {},
     "output_type": "execute_result"
    },
    {
     "data": {
      "image/png": "[encoded data removed]",
      "text/plain": [
       "<Figure size 432x288 with 1 Axes>"
      ]
     },
     "metadata": {
      "needs_background": "light"
     },
     "output_type": "display_data"
    }
   ],
   "source": [
    "import matplotlib.pyplot as plt\n",
    "plt.loglog(np.logspace(-8, 0, 30),rmse_te)"
   ]
  },
  {
   "cell_type": "code",
   "execution_count": 8,
   "id": "978c45d1",
   "metadata": {},
   "outputs": [
    {
     "data": {
      "text/plain": [
       "0.8349445287850112"
      ]
     },
     "execution_count": 8,
     "metadata": {},
     "output_type": "execute_result"
    }
   ],
   "source": [
    "min(rmse_te)"
   ]
  }
 ],
 "metadata": {
  "kernelspec": {
   "display_name": "Python 3",
   "language": "python",
   "name": "python3"
  },
  "language_info": {
   "codemirror_mode": {
    "name": "ipython",
    "version": 3
   },
   "file_extension": ".py",
   "mimetype": "text/x-python",
   "name": "python",
   "nbconvert_exporter": "python",
   "pygments_lexer": "ipython3",
   "version": "3.8.8"
  }
 },
 "nbformat": 4,
 "nbformat_minor": 5
}
