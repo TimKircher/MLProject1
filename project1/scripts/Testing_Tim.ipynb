{
 "cells": [
  {
   "cell_type": "code",
   "execution_count": 1,
   "metadata": {},
   "outputs": [],
   "source": [
    "from data_cleaner import Data_Cleaner"
   ]
  },
  {
   "cell_type": "code",
   "execution_count": 2,
   "metadata": {},
   "outputs": [],
   "source": [
    "#Load data with the datacleaner class\n",
    "data_container = Data_Cleaner(\"C:/Users/timki/Documents/GitHub/MLProject1/project1/data/train.csv\")"
   ]
  },
  {
   "cell_type": "code",
   "execution_count": 3,
   "metadata": {},
   "outputs": [],
   "source": [
    "from proj1_helpers import *\n",
    "y, tX, ids = load_csv_data(\"C:/Users/timki/Documents/GitHub/MLProject1/project1/data/train.csv\")"
   ]
  },
  {
   "cell_type": "code",
   "execution_count": 13,
   "metadata": {},
   "outputs": [],
   "source": [
    "with open(\"../data/train.csv\") as fileobj:\n",
    "    #print(\"Feature names: \\n\\n\")\n",
    "    names = fileobj.readline().rstrip(\"\\n\")\n",
    "    feature_names = names.split(sep=\",\")[2:] # remove ID and prediction\n",
    "    #for easier access to variables make index dict\n",
    "    f_in = {x:v for v,x in enumerate(feature_names)}"
   ]
  },
  {
   "cell_type": "code",
   "execution_count": 14,
   "metadata": {},
   "outputs": [
    {
     "data": {
      "text/plain": [
       "{'DER_mass_MMC': 0,\n",
       " 'DER_mass_transverse_met_lep': 1,\n",
       " 'DER_mass_vis': 2,\n",
       " 'DER_pt_h': 3,\n",
       " 'DER_deltaeta_jet_jet': 4,\n",
       " 'DER_mass_jet_jet': 5,\n",
       " 'DER_prodeta_jet_jet': 6,\n",
       " 'DER_deltar_tau_lep': 7,\n",
       " 'DER_pt_tot': 8,\n",
       " 'DER_sum_pt': 9,\n",
       " 'DER_pt_ratio_lep_tau': 10,\n",
       " 'DER_met_phi_centrality': 11,\n",
       " 'DER_lep_eta_centrality': 12,\n",
       " 'PRI_tau_pt': 13,\n",
       " 'PRI_tau_eta': 14,\n",
       " 'PRI_tau_phi': 15,\n",
       " 'PRI_lep_pt': 16,\n",
       " 'PRI_lep_eta': 17,\n",
       " 'PRI_lep_phi': 18,\n",
       " 'PRI_met': 19,\n",
       " 'PRI_met_phi': 20,\n",
       " 'PRI_met_sumet': 21,\n",
       " 'PRI_jet_num': 22,\n",
       " 'PRI_jet_leading_pt': 23,\n",
       " 'PRI_jet_leading_eta': 24,\n",
       " 'PRI_jet_leading_phi': 25,\n",
       " 'PRI_jet_subleading_pt': 26,\n",
       " 'PRI_jet_subleading_eta': 27,\n",
       " 'PRI_jet_subleading_phi': 28,\n",
       " 'PRI_jet_all_pt': 29}"
      ]
     },
     "execution_count": 14,
     "metadata": {},
     "output_type": "execute_result"
    }
   ],
   "source": [
    "f_in"
   ]
  },
  {
   "cell_type": "code",
   "execution_count": 42,
   "metadata": {},
   "outputs": [
    {
     "data": {
      "text/plain": [
       "(array([6.6487e+04, 5.0980e+03, 7.3400e+02, 1.5500e+02, 4.3000e+01,\n",
       "        1.3000e+01, 8.0000e+00, 3.0000e+00, 0.0000e+00, 2.0000e+00]),\n",
       " array([ 30.    ,  99.1456, 168.2912, 237.4368, 306.5824, 375.728 ,\n",
       "        444.8736, 514.0192, 583.1648, 652.3104, 721.456 ]),\n",
       " <a list of 10 Patch objects>)"
      ]
     },
     "execution_count": 42,
     "metadata": {},
     "output_type": "execute_result"
    },
    {
     "data": {
      "image/png": "[encoded data removed]",
      "text/plain": [
       "<Figure size 432x288 with 1 Axes>"
      ]
     },
     "metadata": {
      "needs_background": "light"
     },
     "output_type": "display_data"
    }
   ],
   "source": [
    "import matplotlib.pyplot as plt\n",
    "#PRI_jet_subleading_pt, momentum of jet with second largest momentum, -999 if only one jet\n",
    "plt.hist(tX[tX[:,26]>-998][:,26], bins=10)"
   ]
  },
  {
   "cell_type": "code",
   "execution_count": 47,
   "metadata": {},
   "outputs": [
    {
     "data": {
      "text/plain": [
       "(array([1.29686e+05, 1.65110e+04, 2.97700e+03, 6.73000e+02, 1.87000e+02,\n",
       "        4.50000e+01, 7.00000e+00, 0.00000e+00, 0.00000e+00, 1.00000e+00]),\n",
       " array([  30.    ,  139.0573,  248.1146,  357.1719,  466.2292,  575.2865,\n",
       "         684.3438,  793.4011,  902.4584, 1011.5157, 1120.573 ]),\n",
       " <a list of 10 Patch objects>)"
      ]
     },
     "execution_count": 47,
     "metadata": {},
     "output_type": "execute_result"
    },
    {
     "data": {
      "image/png": "[encoded data removed]",
      "text/plain": [
       "<Figure size 432x288 with 1 Axes>"
      ]
     },
     "metadata": {
      "needs_background": "light"
     },
     "output_type": "display_data"
    }
   ],
   "source": [
    "#PRI_jet_leading_pt, momentum of jet with largest momentum, -999 if no jet\n",
    "plt.hist(tX[tX[:,23]>-998][:,23], bins=10)\n",
    "\n",
    "#similar distribution"
   ]
  },
  {
   "cell_type": "code",
   "execution_count": 49,
   "metadata": {},
   "outputs": [
    {
     "data": {
      "text/plain": [
       "(array([3.4613e+04, 3.5003e+04, 3.1784e+04, 2.4001e+04, 1.4613e+04,\n",
       "        6.9380e+03, 2.4140e+03, 6.4000e+02, 8.0000e+01, 1.0000e+00]),\n",
       " array([3.40119738, 3.76323719, 4.12527699, 4.4873168 , 4.84935661,\n",
       "        5.21139641, 5.57343622, 5.93547602, 6.29751583, 6.65955563,\n",
       "        7.02159544]),\n",
       " <a list of 10 Patch objects>)"
      ]
     },
     "execution_count": 49,
     "metadata": {},
     "output_type": "execute_result"
    },
    {
     "data": {
      "image/png": "[encoded data removed]",
      "text/plain": [
       "<Figure size 432x288 with 1 Axes>"
      ]
     },
     "metadata": {
      "needs_background": "light"
     },
     "output_type": "display_data"
    }
   ],
   "source": [
    "#PRI_jet_leading_pt, momentum of jet with largest momentum, -999 if no jet\n",
    "plt.hist(np.log(tX[tX[:,23]>-998][:,23]), bins=10)"
   ]
  },
  {
   "cell_type": "code",
   "execution_count": 48,
   "metadata": {},
   "outputs": [
    {
     "data": {
      "text/plain": [
       "(array([ 1963.,  8301., 16486., 22735., 25548., 25798., 22878., 16103.,\n",
       "         8371.,  1904.]),\n",
       " array([-4.499 , -3.5992, -2.6994, -1.7996, -0.8998,  0.    ,  0.8998,\n",
       "         1.7996,  2.6994,  3.5992,  4.499 ]),\n",
       " <a list of 10 Patch objects>)"
      ]
     },
     "execution_count": 48,
     "metadata": {},
     "output_type": "execute_result"
    },
    {
     "data": {
      "image/png": "[encoded data removed]",
      "text/plain": [
       "<Figure size 432x288 with 1 Axes>"
      ]
     },
     "metadata": {
      "needs_background": "light"
     },
     "output_type": "display_data"
    }
   ],
   "source": [
    "#PRI_jet_leading_eta, pseudorapidity of jet with largest momentum, -999 if no jet\n",
    "plt.hist(tX[tX[:,24]>-998][:,24], bins=10)"
   ]
  },
  {
   "cell_type": "code",
   "execution_count": 50,
   "metadata": {},
   "outputs": [
    {
     "data": {
      "text/plain": [
       "(array([5.5794e+04, 1.1374e+04, 3.5360e+03, 1.2390e+03, 4.1300e+02,\n",
       "        1.2900e+02, 4.0000e+01, 1.3000e+01, 3.0000e+00, 2.0000e+00]),\n",
       " array([  13.602 ,  509.7397, 1005.8774, 1502.0151, 1998.1528, 2494.2905,\n",
       "        2990.4282, 3486.5659, 3982.7036, 4478.8413, 4974.979 ]),\n",
       " <a list of 10 Patch objects>)"
      ]
     },
     "execution_count": 50,
     "metadata": {},
     "output_type": "execute_result"
    },
    {
     "data": {
      "image/png": "[encoded data removed]",
      "text/plain": [
       "<Figure size 432x288 with 1 Axes>"
      ]
     },
     "metadata": {
      "needs_background": "light"
     },
     "output_type": "display_data"
    }
   ],
   "source": [
    "#derived mass jet-jet, mass of two jets, -999 if one or less jet\n",
    "plt.hist(tX[tX[:,5]>-998][:,5], bins=10)"
   ]
  },
  {
   "cell_type": "code",
   "execution_count": 4,
   "metadata": {},
   "outputs": [
    {
     "name": "stdout",
     "output_type": "stream",
     "text": [
      "13.602 4974.979\n"
     ]
    }
   ],
   "source": [
    "print(np.min(tX[tX[:,5]>-998][:,5]), np.max(tX[tX[:,5]>-998][:,5]))\n",
    "data = tX[:,5]\n",
    "\n",
    "def normalize(tX):\n",
    "        \"\"\"standardizes data\n",
    "        \"\"\"\n",
    "        tX -= np.mean(tX)\n",
    "        tX /= np.std(tX)\n",
    "        \n",
    "        return tX       \n",
    "\n",
    "def standardise(tX):\n",
    "    tX -= np.min(tX)\n",
    "    tX /= (np.max(tX) - np.min(tX))\n",
    "    \n",
    "    return tX\n",
    "\n",
    "data[data==-999] = 0\n",
    "\n",
    "data_norm = normalize(data)\n",
    "data_standard = standardise(data)\n"
   ]
  },
  {
   "cell_type": "code",
   "execution_count": 6,
   "metadata": {},
   "outputs": [
    {
     "data": {
      "text/plain": [
       "array([0.02506764, 0.        , 0.        , ..., 0.        , 0.        ,\n",
       "       0.        ])"
      ]
     },
     "execution_count": 6,
     "metadata": {},
     "output_type": "execute_result"
    }
   ],
   "source": [
    "data"
   ]
  },
  {
   "cell_type": "code",
   "execution_count": 65,
   "metadata": {},
   "outputs": [
    {
     "data": {
      "text/plain": [
       "(array([1.77457e+05, 3.24320e+04, 3.14240e+04, 6.35400e+03, 1.71500e+03,\n",
       "        4.64000e+02, 1.21000e+02, 2.60000e+01, 5.00000e+00, 2.00000e+00]),\n",
       " array([0. , 0.1, 0.2, 0.3, 0.4, 0.5, 0.6, 0.7, 0.8, 0.9, 1. ]),\n",
       " <a list of 10 Patch objects>)"
      ]
     },
     "execution_count": 65,
     "metadata": {},
     "output_type": "execute_result"
    },
    {
     "data": {
      "image/png": "[encoded data removed]",
      "text/plain": [
       "<Figure size 432x288 with 1 Axes>"
      ]
     },
     "metadata": {
      "needs_background": "light"
     },
     "output_type": "display_data"
    }
   ],
   "source": [
    "plt.hist(tX_standard[:,5], bins=10)"
   ]
  },
  {
   "cell_type": "code",
   "execution_count": 71,
   "metadata": {},
   "outputs": [
    {
     "data": {
      "text/plain": [
       "0.0665825824409493"
      ]
     },
     "execution_count": 71,
     "metadata": {},
     "output_type": "execute_result"
    }
   ],
   "source": []
  }
 ],
 "metadata": {
  "kernelspec": {
   "display_name": "Python 3",
   "language": "python",
   "name": "python3"
  },
  "language_info": {
   "codemirror_mode": {
    "name": "ipython",
    "version": 3
   },
   "file_extension": ".py",
   "mimetype": "text/x-python",
   "name": "python",
   "nbconvert_exporter": "python",
   "pygments_lexer": "ipython3",
   "version": "3.7.4"
  }
 },
 "nbformat": 4,
 "nbformat_minor": 5
}
