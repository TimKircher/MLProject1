{
 "cells": [
  {
   "cell_type": "code",
   "execution_count": 1,
   "metadata": {
    "tags": []
   },
   "outputs": [],
   "source": [
    "# Useful starting lines\n",
    "%matplotlib inline\n",
    "import numpy as np\n",
    "import matplotlib.pyplot as plt\n",
    "%load_ext autoreload\n",
    "%autoreload 2"
   ]
  },
  {
   "cell_type": "markdown",
   "metadata": {},
   "source": [
    "## Load the training data into feature matrix, class labels, and event ids:"
   ]
  },
  {
   "cell_type": "code",
   "execution_count": 16,
   "metadata": {
    "collapsed": false,
    "jupyter": {
     "outputs_hidden": false
    }
   },
   "outputs": [],
   "source": [
    "from proj1_helpers import *\n",
    "DATA_TRAIN_PATH = '../data/train.csv' # TODO: download train data and supply path here \n",
    "y, tX, ids = load_csv_data(DATA_TRAIN_PATH)"
   ]
  },
  {
   "cell_type": "markdown",
   "metadata": {},
   "source": [
    "## Explorational data analysis"
   ]
  },
  {
   "cell_type": "code",
   "execution_count": 3,
   "metadata": {},
   "outputs": [
    {
     "name": "stdout",
     "output_type": "stream",
     "text": [
      "(250000, 30)\n",
      "(250000,)\n",
      "(250000,)\n"
     ]
    }
   ],
   "source": [
    "print(tX.shape)\n",
    "print(y.shape)\n",
    "print(ids.shape)"
   ]
  },
  {
   "cell_type": "markdown",
   "metadata": {},
   "source": [
    "#### Number of unique values, mean, histogram of values"
   ]
  },
  {
   "cell_type": "code",
   "execution_count": 26,
   "metadata": {},
   "outputs": [],
   "source": [
    "with open(\"../data/train.csv\") as fileobj:\n",
    "    #print(\"Feature names: \\n\\n\")\n",
    "    names = fileobj.readline().rstrip(\"\\n\")\n",
    "    feature_names = names.split(sep=\",\")[2:] # remove ID and prediction\n",
    "    #for easier access to variables make index dict\n",
    "    f_in = {x:v for v,x in enumerate(feature_names)}\n",
    "    "
   ]
  },
  {
   "cell_type": "code",
   "execution_count": 30,
   "metadata": {
    "tags": []
   },
   "outputs": [
    {
     "name": "stdout",
     "output_type": "stream",
     "text": [
      "DER_mass_MMC has 108338 unique values\n",
      "\n",
      "% of samples have entry: 84.8\n",
      "mean without -999. (or 0): 121.8585283595896\n",
      "standarddeviation without -999. (or 0): 57.298021449827395\n",
      "std/mean: 0.4702011604862644\n",
      "--------------------------------\n",
      "\n",
      "DER_mass_transverse_met_lep has 101637 unique values\n",
      "\n",
      "% of samples have entry: 100.0\n",
      "mean without -999. (or 0): 49.239819276\n",
      "standarddeviation without -999. (or 0): 35.34481492202995\n",
      "std/mean: 0.7178095988515819\n",
      "--------------------------------\n",
      "\n",
      "DER_mass_vis has 100558 unique values\n",
      "\n",
      "% of samples have entry: 100.0\n",
      "mean without -999. (or 0): 81.181981612\n",
      "standarddeviation without -999. (or 0): 40.8286088749526\n",
      "std/mean: 0.5029269803992746\n",
      "--------------------------------\n",
      "\n",
      "DER_pt_h has 115563 unique values\n",
      "\n",
      "% of samples have entry: 100.0\n",
      "mean without -999. (or 0): 57.895961656\n",
      "standarddeviation without -999. (or 0): 63.65555430684573\n",
      "std/mean: 1.0994817684360692\n",
      "--------------------------------\n",
      "\n",
      "DER_deltaeta_jet_jet has 7087 unique values\n",
      "\n",
      "% of samples have entry: 29.0\n",
      "mean without -999. (or 0): 2.403735026122438\n",
      "standarddeviation without -999. (or 0): 1.7422143071664116\n",
      "std/mean: 0.7247946584099362\n",
      "--------------------------------\n",
      "\n",
      "DER_mass_jet_jet has 68366 unique values\n",
      "\n",
      "% of samples have entry: 29.0\n",
      "mean without -999. (or 0): 371.7833604482857\n",
      "standarddeviation without -999. (or 0): 397.69658433794075\n",
      "std/mean: 1.0696997946826066\n",
      "--------------------------------\n",
      "\n",
      "DER_prodeta_jet_jet has 16593 unique values\n",
      "\n",
      "% of samples have entry: 29.0\n",
      "mean without -999. (or 0): -0.8216881711536606\n",
      "standarddeviation without -999. (or 0): 3.5843373103759\n",
      "std/mean: -4.362162479889963\n",
      "--------------------------------\n",
      "\n",
      "DER_deltar_tau_lep has 4692 unique values\n",
      "\n",
      "% of samples have entry: 100.0\n",
      "mean without -999. (or 0): 2.3730998440000004\n",
      "standarddeviation without -999. (or 0): 0.7829095528215093\n",
      "std/mean: 0.32991007723546467\n",
      "--------------------------------\n",
      "\n",
      "DER_pt_tot has 59042 unique values\n",
      "\n",
      "% of samples have entry: 100.0\n",
      "mean without -999. (or 0): 18.91733244400001\n",
      "standarddeviation without -999. (or 0): 22.273449204924436\n",
      "std/mean: 1.177409620032812\n",
      "--------------------------------\n",
      "\n",
      "DER_sum_pt has 156098 unique values\n",
      "\n",
      "% of samples have entry: 100.0\n",
      "mean without -999. (or 0): 158.432217048\n",
      "standarddeviation without -999. (or 0): 115.70588372102608\n",
      "std/mean: 0.730317897943515\n",
      "--------------------------------\n",
      "\n",
      "DER_pt_ratio_lep_tau has 5931 unique values\n",
      "\n",
      "% of samples have entry: 100.0\n",
      "mean without -999. (or 0): 1.4376094319999997\n",
      "standarddeviation without -999. (or 0): 0.8447412551738178\n",
      "std/mean: 0.5876013584570152\n",
      "--------------------------------\n",
      "\n",
      "DER_met_phi_centrality has 2829 unique values\n",
      "\n",
      "% of samples have entry: 100.0\n",
      "mean without -999. (or 0): -0.12830470800000002\n",
      "standarddeviation without -999. (or 0): 1.1935824486029587\n",
      "std/mean: -9.302717470063207\n",
      "--------------------------------\n",
      "\n",
      "DER_lep_eta_centrality has 1002 unique values\n",
      "\n",
      "0 marks no entry too\n",
      "\n",
      "% of samples have entry: 22.7\n",
      "mean without -999. (or 0): 0.58540467679738\n",
      "standarddeviation without -999. (or 0): 0.358632298300945\n",
      "std/mean: 0.6126228786946891\n",
      "--------------------------------\n",
      "\n",
      "PRI_tau_pt has 59639 unique values\n",
      "\n",
      "% of samples have entry: 100.0\n",
      "mean without -999. (or 0): 38.70741912799999\n",
      "standarddeviation without -999. (or 0): 22.41203584249596\n",
      "std/mean: 0.5790113716541656\n",
      "--------------------------------\n",
      "\n",
      "PRI_tau_eta has 4971 unique values\n",
      "\n",
      "% of samples have entry: 100.0\n",
      "mean without -999. (or 0): -0.010973048000000001\n",
      "standarddeviation without -999. (or 0): 1.2140762178683797\n",
      "std/mean: -110.64165743815025\n",
      "--------------------------------\n",
      "\n",
      "PRI_tau_phi has 6285 unique values\n",
      "\n",
      "% of samples have entry: 100.0\n",
      "mean without -999. (or 0): -0.008171072000000005\n",
      "standarddeviation without -999. (or 0): 1.8167594108451375\n",
      "std/mean: -222.3403992579109\n",
      "--------------------------------\n",
      "\n",
      "PRI_lep_pt has 61929 unique values\n",
      "\n",
      "% of samples have entry: 100.0\n",
      "mean without -999. (or 0): 46.66020724800001\n",
      "standarddeviation without -999. (or 0): 22.06487827506729\n",
      "std/mean: 0.4728842749838633\n",
      "--------------------------------\n",
      "\n",
      "PRI_lep_eta has 4987 unique values\n",
      "\n",
      "% of samples have entry: 100.0\n",
      "mean without -999. (or 0): -0.019507467999999997\n",
      "standarddeviation without -999. (or 0): 1.2649796185204838\n",
      "std/mean: -64.84591534485583\n",
      "--------------------------------\n",
      "\n",
      "PRI_lep_phi has 6285 unique values\n",
      "\n",
      "% of samples have entry: 100.0\n",
      "mean without -999. (or 0): 0.043542963999999997\n",
      "standarddeviation without -999. (or 0): 1.8166076295893112\n",
      "std/mean: 41.71988910973794\n",
      "--------------------------------\n",
      "\n",
      "PRI_met has 87836 unique values\n",
      "\n",
      "% of samples have entry: 100.0\n",
      "mean without -999. (or 0): 41.71723452400001\n",
      "standarddeviation without -999. (or 0): 32.8946274025167\n",
      "std/mean: 0.7885140944228302\n",
      "--------------------------------\n",
      "\n",
      "PRI_met_phi has 6285 unique values\n",
      "\n",
      "% of samples have entry: 100.0\n",
      "mean without -999. (or 0): -0.010119191999999999\n",
      "standarddeviation without -999. (or 0): 1.8122190775381621\n",
      "std/mean: -179.08733004949033\n",
      "--------------------------------\n",
      "\n",
      "PRI_met_sumet has 179740 unique values\n",
      "\n",
      "% of samples have entry: 100.0\n",
      "mean without -999. (or 0): 209.79717763200006\n",
      "standarddeviation without -999. (or 0): 126.49925271717557\n",
      "std/mean: 0.6029597449545518\n",
      "--------------------------------\n",
      "\n",
      "PRI_jet_num has 4 unique values\n",
      "\n",
      "% of samples have entry: 100.0\n",
      "mean without -999. (or 0): 0.979176\n",
      "standarddeviation without -999. (or 0): 0.9774243505376773\n",
      "std/mean: 0.9982110984518383\n",
      "--------------------------------\n",
      "\n",
      "PRI_jet_leading_pt has 86590 unique values\n",
      "\n",
      "% of samples have entry: 60.0\n",
      "mean without -999. (or 0): 84.82210453270434\n",
      "standarddeviation without -999. (or 0): 60.66207396692587\n",
      "std/mean: 0.7151682253242934\n",
      "--------------------------------\n",
      "\n",
      "PRI_jet_leading_eta has 8558 unique values\n",
      "\n",
      "% of samples have entry: 60.0\n",
      "mean without -999. (or 0): -0.0032745874059712044\n",
      "standarddeviation without -999. (or 0): 1.784540015878535\n",
      "std/mean: -544.9663712211283\n",
      "--------------------------------\n",
      "\n",
      "PRI_jet_leading_phi has 6285 unique values\n",
      "\n",
      "% of samples have entry: 60.0\n",
      "mean without -999. (or 0): -0.012392825494546494\n",
      "standarddeviation without -999. (or 0): 1.81337942573136\n",
      "std/mean: -146.3249382902506\n",
      "--------------------------------\n",
      "\n",
      "PRI_jet_subleading_pt has 42464 unique values\n",
      "\n",
      "% of samples have entry: 29.0\n",
      "mean without -999. (or 0): 57.67947442206691\n",
      "standarddeviation without -999. (or 0): 31.985561217034174\n",
      "std/mean: 0.5545397481083356\n",
      "--------------------------------\n",
      "\n",
      "PRI_jet_subleading_eta has 8628 unique values\n",
      "\n",
      "% of samples have entry: 29.0\n",
      "mean without -999. (or 0): -0.01184526418813669\n",
      "standarddeviation without -999. (or 0): 2.0317285969821564\n",
      "std/mean: -171.52243839499843\n",
      "--------------------------------\n",
      "\n",
      "PRI_jet_subleading_phi has 6286 unique values\n",
      "\n",
      "% of samples have entry: 29.0\n",
      "mean without -999. (or 0): -0.0015822891250706472\n",
      "standarddeviation without -999. (or 0): 1.8169372027338673\n",
      "std/mean: -1148.2965874853899\n",
      "--------------------------------\n",
      "\n",
      "PRI_jet_all_pt has 103559 unique values\n",
      "\n",
      "0 marks no entry too\n",
      "\n",
      "% of samples have entry: 60.0\n",
      "mean without -999. (or 0): 121.70373080946388\n",
      "standarddeviation without -999. (or 0): 100.4135107392884\n",
      "std/mean: 0.8250651814157868\n",
      "--------------------------------\n",
      "\n"
     ]
    }
   ],
   "source": [
    "percentages = []\n",
    "\n",
    "\n",
    "for feature_name, index in f_in.items():\n",
    "    f_vals = tX[:,index]\n",
    "    num_unique = len(np.unique(f_vals))\n",
    "    print(\"{} has {} unique values\\n\".format(feature_name,num_unique))\n",
    "    \n",
    "    if feature_name not in [\"PRI_jet_all_pt\",\"DER_lep_eta_centrality\"]:\n",
    "        f_vals[f_vals== -999.] = np.NaN\n",
    "    else:\n",
    "        f_vals[f_vals == -999.] = np.NaN\n",
    "        f_vals[f_vals == 0] = np.NaN\n",
    "        print(\"0 marks no entry too\\n\")\n",
    "    tX[:,index] = f_vals\n",
    "    \n",
    "    \n",
    "    \n",
    "    percentage = np.count_nonzero(~np.isnan(f_vals))/len(f_vals)\n",
    "    percentages.append(percentage)\n",
    "    print(\"% of samples have entry: {:.1f}\".format(percentage*100))\n",
    "    print(\"mean without -999. (or 0): {}\".format(np.nanmean(f_vals)))\n",
    "    print(\"standarddeviation without -999. (or 0): {}\".format(np.nanstd(f_vals)))\n",
    "    print(\"std/mean: {}\".format(np.nanstd(f_vals)/np.nanmean(f_vals)))\n",
    "    print(\"--------------------------------\\n\")"
   ]
  },
  {
   "cell_type": "code",
   "execution_count": null,
   "metadata": {},
   "outputs": [],
   "source": []
  },
  {
   "cell_type": "code",
   "execution_count": 119,
   "metadata": {},
   "outputs": [
    {
     "data": {
      "text/plain": [
       "dict_items([('DER_mass_MMC', 0), ('DER_mass_transverse_met_lep', 1), ('DER_mass_vis', 2), ('DER_pt_h', 3), ('DER_deltaeta_jet_jet', 4), ('DER_mass_jet_jet', 5), ('DER_prodeta_jet_jet', 6), ('DER_deltar_tau_lep', 7), ('DER_pt_tot', 8), ('DER_sum_pt', 9), ('DER_pt_ratio_lep_tau', 10), ('DER_met_phi_centrality', 11), ('DER_lep_eta_centrality', 12), ('PRI_tau_pt', 13), ('PRI_tau_eta', 14), ('PRI_tau_phi', 15), ('PRI_lep_pt', 16), ('PRI_lep_eta', 17), ('PRI_lep_phi', 18), ('PRI_met', 19), ('PRI_met_phi', 20), ('PRI_met_sumet', 21), ('PRI_jet_num', 22), ('PRI_jet_leading_pt', 23), ('PRI_jet_leading_eta', 24), ('PRI_jet_leading_phi', 25), ('PRI_jet_subleading_pt', 26), ('PRI_jet_subleading_eta', 27), ('PRI_jet_subleading_phi', 28), ('PRI_jet_all_pt', 29)])"
      ]
     },
     "execution_count": 119,
     "metadata": {},
     "output_type": "execute_result"
    }
   ],
   "source": [
    "f_in.items()"
   ]
  },
  {
   "cell_type": "code",
   "execution_count": null,
   "metadata": {},
   "outputs": [],
   "source": [
    "    def _fill_with_NaN(self):\n",
    "        for feature_name, index in self.feature_names.items():\n",
    "            if feature_name not in [\"PRI_jet_all_pt\",\"DER_lep_eta_centrality\"]:\n",
    "                self.tX[:,index][self.tX[:,index] == -999.] = np.NaN\n",
    "            else:\n",
    "                self.tX[:,index][self.tX[:,index] == -999.] = np.NaN\n",
    "                self.tX[:,index][self.tX[:,index] == 0] = np.NaN"
   ]
  },
  {
   "cell_type": "code",
   "execution_count": 2,
   "metadata": {},
   "outputs": [],
   "source": [
    "from proj1_helpers import *\n",
    "from build_polynomial import build_poly"
   ]
  },
  {
   "cell_type": "code",
   "execution_count": 2,
   "metadata": {},
   "outputs": [],
   "source": [
    "from proj1_helpers import *\n",
    "from build_polynomial import build_poly\n",
    "\n",
    "class Data_Cleaner:\n",
    "    \n",
    "    def _load_data(self, DATAPATH):\n",
    "        self.y, self.tX, self.ids = load_csv_data(DATAPATH)\n",
    "        with open(DATAPATH) as fileobj:\n",
    "            feature_names = fileobj.readline().rstrip(\"\\n\")\n",
    "            feature_names = feature_names.split(sep=\",\")[2:] # remove ID and prediction\n",
    "            #for easier access to variables make index dict\n",
    "            self.feature_names = {x:v for v,x in enumerate(feature_names)}\n",
    "            \n",
    "    def __init__(self, DATAPATH=None):\n",
    "        self.data = None\n",
    "        self.feature_names = None\n",
    "        self.y = None\n",
    "        self.tX = None\n",
    "        self.ids = None\n",
    "        self.DATAPATH = DATAPATH\n",
    "        \n",
    "        if self.DATAPATH:\n",
    "            self._load_data(self.DATAPATH)\n",
    "            \n",
    "            \n",
    "    def _fill_with_NaN(self):\n",
    "        for feature_name, index in self.feature_names.items():\n",
    "            \n",
    "            if feature_name not in [\"PRI_jet_all_pt\",\"DER_lep_eta_centrality\"]:\n",
    "                self.tX[:,index][self.tX[:,index] == -999.] = np.NaN\n",
    "            else:\n",
    "                self.tX[:,index][self.tX[:,index] == -999.] = np.NaN\n",
    "                self.tX[:,index][self.tX[:,index] == 0] = np.NaN\n",
    "    \n",
    "    \n",
    "    def replace_with_mean(self):\n",
    "        self._fill_with_NaN()\n",
    "        #also handles all NaN collums -> replaces with 0\n",
    "        self.tX = np.where(np.isnan(self.tX), np.ma.array(self.tX, mask=np.isnan(self.tX)).mean(axis=0), self.tX)\n",
    "            \n",
    "    def normalize(self):\n",
    "        self.tX -= np.nanmean(self.tX,axis=0)\n",
    "        self.tX /= np.nanstd(self.tX,axis=0)\n",
    "        \n",
    "    \n",
    "    def easy_clean(self):\n",
    "        #loaded -> replace_with_mean -> normalize\n",
    "        self.replace_with_mean()\n",
    "        self.normalize()\n",
    "        \n",
    "    \n",
    "    def transform_to_pca(self,max_var=0.95,max_eigenvalue=None):\n",
    "        self.normalize()\n",
    "        cov_mat = np.cov(self.tX.T) #calculate covariance matrix\n",
    "        eigval_pca, eigvec_pca = np.linalg.eig(cov_mat) #can not be orderd, but they are here\n",
    "        total_eigval = np.sum(eigval_pca)\n",
    "        percentages = [eigval/total_eigval for eigval in eigval_pca]\n",
    "        percentages_cumulative = np.cumsum(percentages)\n",
    "        greater_var = np.argmax(percentages_cumulative > max_var)\n",
    "        \n",
    "        if max_var and not max_eigenvalue:\n",
    "            projection_mat = eigvec_pca[:,:greater_var]\n",
    "            print(greater_var)\n",
    "        else:\n",
    "            projection_mat = eigvec_pca[:,:max_eigenvalue]\n",
    "        \n",
    "        self.tX = self.tX @  projection_mat\n",
    "    \n",
    "    def make_features(self,max_percentage=0.99,degree=1):\n",
    "        self._fill_with_NaN()\n",
    "        poly_features = []\n",
    "        for feature_name, index in self.feature_names.items():\n",
    "            percentage = np.count_nonzero(~np.isnan(self.tX[:,index]))/len(self.tX[:,index])\n",
    "            print(percentage)\n",
    "            if percentage < 0.99:\n",
    "                indices = np.isnan(self.tX[:,index])\n",
    "                self.tX[:,index][indices] = 0.\n",
    "                self.tX[:,index][~indices] = 1.\n",
    "            else:\n",
    "                if index != self.feature_names[\"PRI_jet_num\"]:\n",
    "                    #check this!!\n",
    "                    \n",
    "                    poly_features.append(build_poly(self.tX[:,index],degree)[:,1:])\n",
    "        #standardize before or after building polynomial features?\n",
    "        #-> https://datascience.stackexchange.com/questions/9020/do-i-have-to-standardize-my-new-polynomial-features\n",
    "        #- do after!! otherwise features are an order of magnitude smaller\n",
    "        \n",
    "        #standardize binary values?\n",
    "        #rather not, does not make sense...\n",
    "        #https://stats.stackexchange.com/questions/59392/should-you-ever-standardise-binary-variables\n",
    "        \n",
    "        polys = np.concatenate(poly_features,axis=1)\n",
    "        self.tX  = np.concatenate([self.tX, polys], axis=1)\n",
    "    \n",
    "    def build_polynomials_from_degree_array(self,degrees):\n",
    "        self.replace_with_mean()\n",
    "        data_polys = []\n",
    "        \n",
    "        for feature_index, degree in enumerate(degrees):\n",
    "            if degree == 0:\n",
    "                pass\n",
    "            else:\n",
    "                data_polys.append(build_poly(self.tX[:,feature_index],degree))\n",
    "        self.tX = np.concatenate(data_polys,axis=1)\n",
    "                \n",
    "        \n",
    "        "
   ]
  },
  {
   "cell_type": "code",
   "execution_count": 65,
   "metadata": {},
   "outputs": [],
   "source": [
    "from abc import ABCMeta, abstractmethod\n",
    "from k_fold_validate_matthias import build_k_indices\n",
    "from costs import compute_mse\n",
    "\n",
    "class LinearModel:\n",
    "    def __init__(self, data_container=None):\n",
    "        self.data_container = data_container\n",
    "        self.w = None\n",
    "        self.mse = None\n",
    "    \n",
    "    def add_data(self,data_container):\n",
    "        self.data_container = data_container\n",
    "    \n",
    "    \n",
    "    def _cross_validation(self,k_indices,k,*args,**kwargs):\n",
    "        \n",
    "        test_indices = k_indices[k].flatten()\n",
    "        train_indices = np.delete(k_indices,k,0).flatten()\n",
    "        print(len(test_indices))\n",
    "        print(len(train_indices))\n",
    "\n",
    "        test_data = self.data_container.tX[test_indices]\n",
    "        train_data = self.data_container.tX[train_indices]\n",
    "        \n",
    "        y_test = self.data_container.y[test_indices]\n",
    "        y_train = self.data_container.y[train_indices]\n",
    "\n",
    "        \n",
    "        w = self._run(*args,**kwargs)\n",
    "        loss_tr = compute_mse(y_train, train_data,w)\n",
    "        loss_te = compute_mse(y_test, test_data,w)\n",
    "        \n",
    "        return loss_tr, loss_te\n",
    "    \n",
    "    def _cross_validate(self,k_fold,seed=1,*args,**kwargs):\n",
    "        k_indices = build_k_indices(self.data_container.y, k_fold, seed)\n",
    "        tmp_tr = []\n",
    "        tmp_te = []\n",
    "        \n",
    "        for k in range(k_fold):\n",
    "            loss_tr, loss_te = self._cross_validation(k_indices, k, *args, **kwargs)\n",
    "            tmp_tr.append(loss_tr)\n",
    "            tmp_te.append(loss_te)\n",
    "        \n",
    "        rmse_tr = np.sqrt(2*np.mean(tmp_tr))\n",
    "        rmse_te = np.sqrt(2*np.mean(tmp_te))\n",
    "        return rmse_tr, rmse_te\n",
    "\n",
    "    \n",
    "    @abstractmethod\n",
    "    def _run(self, *args, **kwargs):\n",
    "        raise NotImplementedError(\"Must override with actual model\")\n",
    "        \n",
    "    "
   ]
  },
  {
   "cell_type": "code",
   "execution_count": 66,
   "metadata": {},
   "outputs": [],
   "source": [
    "#import Linear_model\n",
    "from ridge_regression_matthias import ridge_regression\n",
    "\n",
    "class RidgeRegression(LinearModel):\n",
    "    def _run(self, *args, **kwargs):\n",
    "        lambda_ = kwargs.get(\"lambda_\")\n",
    "        _, w = ridge_regression(self.data_container.y, self.data_container.tX, lambda_)\n",
    "        return w"
   ]
  },
  {
   "cell_type": "code",
   "execution_count": 30,
   "metadata": {},
   "outputs": [],
   "source": [
    "tester = Data_Cleaner(\"../data/train.csv\")\n"
   ]
  },
  {
   "cell_type": "code",
   "execution_count": 54,
   "metadata": {},
   "outputs": [],
   "source": [
    "tester.build_polynomials_from_degree_array(np.argmin(np.around(results_te,decimals=4), axis=1))"
   ]
  },
  {
   "cell_type": "code",
   "execution_count": 67,
   "metadata": {},
   "outputs": [],
   "source": [
    "model = RidgeRegression(tester)"
   ]
  },
  {
   "cell_type": "code",
   "execution_count": 69,
   "metadata": {},
   "outputs": [
    {
     "name": "stdout",
     "output_type": "stream",
     "text": [
      "62500\n",
      "187500\n"
     ]
    },
    {
     "ename": "KeyboardInterrupt",
     "evalue": "",
     "output_type": "error",
     "traceback": [
      "\u001b[0;31m---------------------------------------------------------------------------\u001b[0m",
      "\u001b[0;31mKeyboardInterrupt\u001b[0m                         Traceback (most recent call last)",
      "\u001b[0;32m/tmp/ipykernel_46/1044305035.py\u001b[0m in \u001b[0;36m<module>\u001b[0;34m\u001b[0m\n\u001b[0;32m----> 1\u001b[0;31m \u001b[0mmodel\u001b[0m\u001b[0;34m.\u001b[0m\u001b[0m_cross_validate\u001b[0m\u001b[0;34m(\u001b[0m\u001b[0mk_fold\u001b[0m\u001b[0;34m=\u001b[0m\u001b[0;36m4\u001b[0m\u001b[0;34m,\u001b[0m\u001b[0mlambda_\u001b[0m\u001b[0;34m=\u001b[0m\u001b[0;36m1e-01\u001b[0m\u001b[0;34m)\u001b[0m\u001b[0;34m\u001b[0m\u001b[0;34m\u001b[0m\u001b[0m\n\u001b[0m",
      "\u001b[0;32m/tmp/ipykernel_46/4046506913.py\u001b[0m in \u001b[0;36m_cross_validate\u001b[0;34m(self, k_fold, seed, *args, **kwargs)\u001b[0m\n\u001b[1;32m     39\u001b[0m \u001b[0;34m\u001b[0m\u001b[0m\n\u001b[1;32m     40\u001b[0m         \u001b[0;32mfor\u001b[0m \u001b[0mk\u001b[0m \u001b[0;32min\u001b[0m \u001b[0mrange\u001b[0m\u001b[0;34m(\u001b[0m\u001b[0mk_fold\u001b[0m\u001b[0;34m)\u001b[0m\u001b[0;34m:\u001b[0m\u001b[0;34m\u001b[0m\u001b[0;34m\u001b[0m\u001b[0m\n\u001b[0;32m---> 41\u001b[0;31m             \u001b[0mloss_tr\u001b[0m\u001b[0;34m,\u001b[0m \u001b[0mloss_te\u001b[0m \u001b[0;34m=\u001b[0m \u001b[0mself\u001b[0m\u001b[0;34m.\u001b[0m\u001b[0m_cross_validation\u001b[0m\u001b[0;34m(\u001b[0m\u001b[0mk_indices\u001b[0m\u001b[0;34m,\u001b[0m \u001b[0mk\u001b[0m\u001b[0;34m,\u001b[0m \u001b[0;34m*\u001b[0m\u001b[0margs\u001b[0m\u001b[0;34m,\u001b[0m \u001b[0;34m**\u001b[0m\u001b[0mkwargs\u001b[0m\u001b[0;34m)\u001b[0m\u001b[0;34m\u001b[0m\u001b[0;34m\u001b[0m\u001b[0m\n\u001b[0m\u001b[1;32m     42\u001b[0m             \u001b[0mtmp_tr\u001b[0m\u001b[0;34m.\u001b[0m\u001b[0mappend\u001b[0m\u001b[0;34m(\u001b[0m\u001b[0mloss_tr\u001b[0m\u001b[0;34m)\u001b[0m\u001b[0;34m\u001b[0m\u001b[0;34m\u001b[0m\u001b[0m\n\u001b[1;32m     43\u001b[0m             \u001b[0mtmp_te\u001b[0m\u001b[0;34m.\u001b[0m\u001b[0mappend\u001b[0m\u001b[0;34m(\u001b[0m\u001b[0mloss_te\u001b[0m\u001b[0;34m)\u001b[0m\u001b[0;34m\u001b[0m\u001b[0;34m\u001b[0m\u001b[0m\n",
      "\u001b[0;32m/tmp/ipykernel_46/4046506913.py\u001b[0m in \u001b[0;36m_cross_validation\u001b[0;34m(self, k_indices, k, *args, **kwargs)\u001b[0m\n\u001b[1;32m     20\u001b[0m         \u001b[0mprint\u001b[0m\u001b[0;34m(\u001b[0m\u001b[0mlen\u001b[0m\u001b[0;34m(\u001b[0m\u001b[0mtrain_indices\u001b[0m\u001b[0;34m)\u001b[0m\u001b[0;34m)\u001b[0m\u001b[0;34m\u001b[0m\u001b[0;34m\u001b[0m\u001b[0m\n\u001b[1;32m     21\u001b[0m \u001b[0;34m\u001b[0m\u001b[0m\n\u001b[0;32m---> 22\u001b[0;31m         \u001b[0mtest_data\u001b[0m \u001b[0;34m=\u001b[0m \u001b[0mself\u001b[0m\u001b[0;34m.\u001b[0m\u001b[0mdata_container\u001b[0m\u001b[0;34m.\u001b[0m\u001b[0mtX\u001b[0m\u001b[0;34m[\u001b[0m\u001b[0mtest_indices\u001b[0m\u001b[0;34m]\u001b[0m\u001b[0;34m\u001b[0m\u001b[0;34m\u001b[0m\u001b[0m\n\u001b[0m\u001b[1;32m     23\u001b[0m         \u001b[0mtrain_data\u001b[0m \u001b[0;34m=\u001b[0m \u001b[0mself\u001b[0m\u001b[0;34m.\u001b[0m\u001b[0mdata_container\u001b[0m\u001b[0;34m.\u001b[0m\u001b[0mtX\u001b[0m\u001b[0;34m[\u001b[0m\u001b[0mtrain_indices\u001b[0m\u001b[0;34m]\u001b[0m\u001b[0;34m\u001b[0m\u001b[0;34m\u001b[0m\u001b[0m\n\u001b[1;32m     24\u001b[0m \u001b[0;34m\u001b[0m\u001b[0m\n",
      "\u001b[0;31mKeyboardInterrupt\u001b[0m: "
     ]
    }
   ],
   "source": [
    "model._cross_validate(k_fold=4,lambda_=1e-01)"
   ]
  },
  {
   "cell_type": "code",
   "execution_count": 54,
   "metadata": {},
   "outputs": [],
   "source": [
    "#y, tX, ids = load_csv_data(DATA_TRAIN_PATH)\n",
    "from least_squares_matthias import least_squares\n",
    "from k_fold_validate_matthias import build_k_indices, cross_validation\n",
    "\n",
    "def cross_validation_prediction(y,x):\n",
    "    seed = 1\n",
    "    k_fold = 4\n",
    "    lambdas = np.logspace(-4, 4, 20)\n",
    "    # split data in k fold\n",
    "    k_indices = build_k_indices(y, k_fold, seed)\n",
    "    # define lists to store the loss of training data and test data\n",
    "    rmse_tr = []\n",
    "    rmse_te = []\n",
    "    \n",
    "    # ***************************************************\n",
    "    # INSERT YOUR CODE HERE\n",
    "    # cross validation: TODO\n",
    "    # *************************************************** \n",
    "    for lambda_ in lambdas:\n",
    "        tmp_tr = []\n",
    "        tmp_te = []\n",
    "        for k in range(k_fold):\n",
    "            loss_tr, loss_te = cross_validation(y, x, k_indices, k, lambda_)\n",
    "            tmp_tr.append(loss_tr)\n",
    "            tmp_te.append(loss_te)\n",
    "        rmse_tr.append(np.sqrt(2*np.mean(tmp_tr)))\n",
    "        rmse_te.append(np.sqrt(2*np.mean(tmp_te)))\n",
    "        print(\"lambda: {} done\".format(lambda_)) \n",
    "    return rmse_tr, rmse_te\n",
    "\n",
    "def cross_validate_average(y,x, lambda_ ):\n",
    "    seed = 1\n",
    "    k_fold = 4\n",
    "    # split data in k fold\n",
    "    k_indices = build_k_indices(y, k_fold, seed)\n",
    "    # define lists to store the loss of training data and test data\n",
    "    # ***************************************************\n",
    "    # INSERT YOUR CODE HERE\n",
    "    # cross validation: TODO\n",
    "    # *************************************************** \n",
    "    tmp_tr = []\n",
    "    tmp_te = []\n",
    "    for k in range(k_fold):\n",
    "        loss_tr, loss_te = cross_validation(y, x, k_indices, k, lambda_,method=\"lsne\")\n",
    "        tmp_tr.append(loss_tr)\n",
    "        tmp_te.append(loss_te)\n",
    "    rmse_tr = np.sqrt(2*np.mean(tmp_tr))\n",
    "    rmse_te = np.sqrt(2*np.mean(tmp_te))\n",
    "    return rmse_tr, rmse_te"
   ]
  },
  {
   "cell_type": "code",
   "execution_count": 108,
   "metadata": {},
   "outputs": [
    {
     "name": "stdout",
     "output_type": "stream",
     "text": [
      "1\n",
      "3\n",
      "5\n",
      "7\n",
      "9\n"
     ]
    }
   ],
   "source": [
    "for i in range(10):\n",
    "    if i%2 == 0:\n",
    "        pass\n",
    "    else:\n",
    "        print(i)"
   ]
  },
  {
   "cell_type": "code",
   "execution_count": 8,
   "metadata": {},
   "outputs": [],
   "source": [
    "tester._fill_with_NaN()"
   ]
  },
  {
   "cell_type": "code",
   "execution_count": 13,
   "metadata": {},
   "outputs": [],
   "source": [
    "tester.replace_with_mean()"
   ]
  },
  {
   "cell_type": "code",
   "execution_count": 15,
   "metadata": {},
   "outputs": [],
   "source": [
    "tester.normalize()"
   ]
  },
  {
   "cell_type": "code",
   "execution_count": 17,
   "metadata": {},
   "outputs": [
    {
     "data": {
      "text/plain": [
       "array([1., 1., 1., 1., 1., 1., 1., 1., 1., 1., 1., 1., 1., 1., 1., 1., 1.,\n",
       "       1., 1., 1., 1., 1., 1., 1., 1., 1., 1., 1., 1., 1.])"
      ]
     },
     "execution_count": 17,
     "metadata": {},
     "output_type": "execute_result"
    }
   ],
   "source": [
    "np.nanvar(tester.tX,axis=0)"
   ]
  },
  {
   "cell_type": "code",
   "execution_count": null,
   "metadata": {},
   "outputs": [],
   "source": []
  },
  {
   "cell_type": "code",
   "execution_count": null,
   "metadata": {},
   "outputs": [],
   "source": [
    "#def auto-feature select....    for feature in range(d.shape[1])"
   ]
  },
  {
   "cell_type": "code",
   "execution_count": 82,
   "metadata": {},
   "outputs": [],
   "source": [
    "polys = [build_poly(tX[:,i], 3)[:,1:] for i in range(4)]"
   ]
  },
  {
   "cell_type": "code",
   "execution_count": 83,
   "metadata": {},
   "outputs": [
    {
     "data": {
      "text/plain": [
       "(250000, 2)"
      ]
     },
     "execution_count": 83,
     "metadata": {},
     "output_type": "execute_result"
    }
   ],
   "source": [
    "polys[0].shape"
   ]
  },
  {
   "cell_type": "code",
   "execution_count": 84,
   "metadata": {},
   "outputs": [
    {
     "data": {
      "text/plain": [
       "(250000, 8)"
      ]
     },
     "execution_count": 84,
     "metadata": {},
     "output_type": "execute_result"
    }
   ],
   "source": [
    "np.concatenate(polys,axis=1).shape"
   ]
  },
  {
   "cell_type": "code",
   "execution_count": 38,
   "metadata": {},
   "outputs": [
    {
     "data": {
      "text/plain": [
       "array([[138.47 ,  51.655,  97.827, ...,   1.24 ,  -2.475, 113.497],\n",
       "       [160.937,  68.768, 103.235, ...,     nan,     nan,  46.226],\n",
       "       [    nan, 162.172, 125.953, ...,     nan,     nan,  44.251],\n",
       "       ...,\n",
       "       [105.457,  60.526,  75.839, ...,     nan,     nan,  41.992],\n",
       "       [ 94.951,  19.362,  68.812, ...,     nan,     nan,     nan],\n",
       "       [    nan,  72.756,  70.831, ...,     nan,     nan,     nan]])"
      ]
     },
     "execution_count": 38,
     "metadata": {},
     "output_type": "execute_result"
    }
   ],
   "source": [
    "tX"
   ]
  },
  {
   "cell_type": "code",
   "execution_count": 41,
   "metadata": {},
   "outputs": [
    {
     "data": {
      "text/plain": [
       "array([[  1.   ,  51.655,  97.827, ...,   1.   ,   1.   ,   1.   ],\n",
       "       [  1.   ,  68.768, 103.235, ...,   0.   ,   0.   ,   1.   ],\n",
       "       [  0.   , 162.172, 125.953, ...,   0.   ,   0.   ,   1.   ],\n",
       "       ...,\n",
       "       [  1.   ,  60.526,  75.839, ...,   0.   ,   0.   ,   1.   ],\n",
       "       [  1.   ,  19.362,  68.812, ...,   0.   ,   0.   ,   0.   ],\n",
       "       [  0.   ,  72.756,  70.831, ...,   0.   ,   0.   ,   0.   ]])"
      ]
     },
     "execution_count": 41,
     "metadata": {},
     "output_type": "execute_result"
    }
   ],
   "source": [
    "cleaner.tX"
   ]
  },
  {
   "cell_type": "code",
   "execution_count": 39,
   "metadata": {},
   "outputs": [],
   "source": [
    "cleaner = Data_Cleaner(\"../data/train.csv\")"
   ]
  },
  {
   "cell_type": "code",
   "execution_count": 10,
   "metadata": {},
   "outputs": [
    {
     "data": {
      "text/plain": [
       "['DER_mass_MMC',\n",
       " 'DER_mass_transverse_met_lep',\n",
       " 'DER_mass_vis',\n",
       " 'DER_pt_h',\n",
       " 'DER_deltaeta_jet_jet',\n",
       " 'DER_mass_jet_jet',\n",
       " 'DER_prodeta_jet_jet',\n",
       " 'DER_deltar_tau_lep',\n",
       " 'DER_pt_tot',\n",
       " 'DER_sum_pt',\n",
       " 'DER_pt_ratio_lep_tau',\n",
       " 'DER_met_phi_centrality',\n",
       " 'DER_lep_eta_centrality',\n",
       " 'PRI_tau_pt',\n",
       " 'PRI_tau_eta',\n",
       " 'PRI_tau_phi',\n",
       " 'PRI_lep_pt',\n",
       " 'PRI_lep_eta',\n",
       " 'PRI_lep_phi',\n",
       " 'PRI_met',\n",
       " 'PRI_met_phi',\n",
       " 'PRI_met_sumet',\n",
       " 'PRI_jet_num',\n",
       " 'PRI_jet_leading_pt',\n",
       " 'PRI_jet_leading_eta',\n",
       " 'PRI_jet_leading_phi',\n",
       " 'PRI_jet_subleading_pt',\n",
       " 'PRI_jet_subleading_eta',\n",
       " 'PRI_jet_subleading_phi',\n",
       " 'PRI_jet_all_pt']"
      ]
     },
     "execution_count": 10,
     "metadata": {},
     "output_type": "execute_result"
    }
   ],
   "source": [
    "feature_names"
   ]
  },
  {
   "cell_type": "code",
   "execution_count": 11,
   "metadata": {},
   "outputs": [
    {
     "data": {
      "text/plain": [
       "(array([ 2080.,  5799.,  8354.,  9731., 10410., 10456.,  9754.,  8319.,\n",
       "         5728.,  1912.]),\n",
       " array([-257.83100781, -206.26480625, -154.69860469, -103.13240312,\n",
       "         -51.56620156,    0.        ,   51.56620156,  103.13240312,\n",
       "         154.69860469,  206.26480625,  257.83100781]),\n",
       " <BarContainer object of 10 artists>)"
      ]
     },
     "execution_count": 11,
     "metadata": {},
     "output_type": "execute_result"
    },
    {
     "data": {
      "image/png": "[encoded data removed]",
      "text/plain": [
       "<Figure size 432x288 with 1 Axes>"
      ]
     },
     "metadata": {
      "needs_background": "light"
     },
     "output_type": "display_data"
    }
   ],
   "source": [
    "feature_vals = np.copy(tX[:,f_in[\"PRI_jet_subleading_eta\"]])\n",
    "feature_vals[feature_vals == -999.] = np.NaN\n",
    "\n",
    "#feature_vals[feature_vals > 0] = np.NaN\n",
    "plt.hist(np.rad2deg(feature_vals))\n",
    "#feature_vals"
   ]
  },
  {
   "cell_type": "markdown",
   "metadata": {},
   "source": [
    "#### Correlation of features"
   ]
  },
  {
   "cell_type": "code",
   "execution_count": 12,
   "metadata": {},
   "outputs": [
    {
     "data": {
      "image/png": "[encoded data removed]",
      "text/plain": [
       "<Figure size 288x288 with 2 Axes>"
      ]
     },
     "metadata": {
      "needs_background": "light"
     },
     "output_type": "display_data"
    }
   ],
   "source": [
    "corr_mat = np.corrcoef(tX,rowvar=False)\n",
    "plt.matshow(corr_mat)\n",
    "plt.colorbar()\n",
    "plt.show()"
   ]
  },
  {
   "cell_type": "markdown",
   "metadata": {},
   "source": [
    "Some variables appear to be more correlated with each other than others"
   ]
  },
  {
   "cell_type": "markdown",
   "metadata": {},
   "source": [
    "#### Normalize data"
   ]
  },
  {
   "cell_type": "code",
   "execution_count": 13,
   "metadata": {},
   "outputs": [],
   "source": [
    "def standardize(tx):\n",
    "    \"\"\"\n",
    "    Standardizes the data by substracting mean and dividing by standard deviation\n",
    "    \"\"\"\n",
    "    tx -= np.mean(tx,axis=0)\n",
    "    tx /= np.std(tx,axis=0)\n",
    "    \n",
    "    return tx"
   ]
  },
  {
   "cell_type": "code",
   "execution_count": 14,
   "metadata": {},
   "outputs": [],
   "source": [
    "tX_standardized = standardize(tX)"
   ]
  },
  {
   "cell_type": "markdown",
   "metadata": {},
   "source": [
    "#### Do principal component analysis"
   ]
  },
  {
   "cell_type": "code",
   "execution_count": 15,
   "metadata": {},
   "outputs": [],
   "source": [
    "cov_mat = np.cov(tX_standardized.T) #calculate covariance matrix\n",
    "eigval_pca, eigvec_pca = np.linalg.eig(cov_mat) #can not be orderd, but they are here"
   ]
  },
  {
   "cell_type": "code",
   "execution_count": 16,
   "metadata": {},
   "outputs": [
    {
     "data": {
      "text/plain": [
       "23.217131999999996"
      ]
     },
     "execution_count": 16,
     "metadata": {},
     "output_type": "execute_result"
    }
   ],
   "source": [
    "np.sum(percentages)"
   ]
  },
  {
   "cell_type": "code",
   "execution_count": 17,
   "metadata": {},
   "outputs": [
    {
     "data": {
      "image/png": "[encoded data removed]",
      "text/plain": [
       "<Figure size 432x288 with 1 Axes>"
      ]
     },
     "metadata": {
      "needs_background": "light"
     },
     "output_type": "display_data"
    }
   ],
   "source": [
    "total_eigval = np.sum(eigval_pca)\n",
    "percentages = [eigval/total_eigval for eigval in eigval_pca]\n",
    "percentages_cumulative = np.cumsum(percentages)\n",
    "plt.plot(np.arange(1,len(eigval_pca)+1),percentages_cumulative)\n",
    "plt.xlim(1,len(eigval_pca))\n",
    "plt.ylabel(\"Total variance \\\"explained\\\" \")\n",
    "plt.xlabel(\"no. principal component\")\n",
    "plt.show()"
   ]
  },
  {
   "cell_type": "markdown",
   "metadata": {},
   "source": [
    "Arbitrarily choose cutoff when more than 0.95% of the cumulative variance is explained"
   ]
  },
  {
   "cell_type": "code",
   "execution_count": 18,
   "metadata": {},
   "outputs": [
    {
     "name": "stdout",
     "output_type": "stream",
     "text": [
      "14 principal components can explain more than 95% of the variance\n"
     ]
    }
   ],
   "source": [
    "greater_095 = np.argmax(percentages_cumulative > 0.95) #stops at first true\n",
    "print(\"{} principal components can explain more than 95% of the variance\".format(greater_095+1))"
   ]
  },
  {
   "cell_type": "markdown",
   "metadata": {},
   "source": [
    "#### Project onto principal components"
   ]
  },
  {
   "cell_type": "markdown",
   "metadata": {},
   "source": [
    "  v : (..., M, M) array \n",
    "  The normalized (unit \"length\") eigenvectors, \n",
    "  such that the \n",
    "        column ``v[:,i]`` is the eigenvector corresponding to the \n",
    "        eigenvalue ``w[i]``."
   ]
  },
  {
   "cell_type": "code",
   "execution_count": 19,
   "metadata": {},
   "outputs": [
    {
     "data": {
      "text/plain": [
       "True"
      ]
     },
     "execution_count": 19,
     "metadata": {},
     "output_type": "execute_result"
    }
   ],
   "source": [
    "pcas_095 = eigvec_pca[:,:greater_095]\n",
    "pcas_095_other = (eigvec_pca.T[:][:greater_095]).T\n",
    "np.allclose(pcas_095_other, pcas_095)"
   ]
  },
  {
   "cell_type": "code",
   "execution_count": 20,
   "metadata": {},
   "outputs": [
    {
     "data": {
      "text/plain": [
       "(30, 13)"
      ]
     },
     "execution_count": 20,
     "metadata": {},
     "output_type": "execute_result"
    }
   ],
   "source": [
    "pcas_095.shape"
   ]
  },
  {
   "cell_type": "code",
   "execution_count": 21,
   "metadata": {},
   "outputs": [],
   "source": [
    "projection_mat = eigvec_pca[:,:greater_095]\n",
    "projected_data = tX_standardized @  projection_mat"
   ]
  },
  {
   "cell_type": "code",
   "execution_count": 22,
   "metadata": {},
   "outputs": [
    {
     "data": {
      "text/plain": [
       "(250000, 13)"
      ]
     },
     "execution_count": 22,
     "metadata": {},
     "output_type": "execute_result"
    }
   ],
   "source": [
    "projected_data.shape"
   ]
  },
  {
   "cell_type": "markdown",
   "metadata": {},
   "source": [
    "### Ideas for feature engineering"
   ]
  },
  {
   "cell_type": "markdown",
   "metadata": {},
   "source": [
    "Missing values\\\n",
    "binary features -1 (negatives), 0 (not there), 1 (positives)\\\n",
    "numericals: replace by some value\\\n"
   ]
  },
  {
   "cell_type": "markdown",
   "metadata": {},
   "source": [
    "## Make a first prediction "
   ]
  },
  {
   "cell_type": "code",
   "execution_count": 3,
   "metadata": {},
   "outputs": [],
   "source": [
    "# load -> clean -> features -> fit/validate -> predict -> submit\n",
    "from linear_model_base import RidgeRegression"
   ]
  },
  {
   "cell_type": "code",
   "execution_count": 6,
   "metadata": {},
   "outputs": [],
   "source": [
    "from data_cleaner import Data_Cleaner"
   ]
  },
  {
   "cell_type": "code",
   "execution_count": 7,
   "metadata": {},
   "outputs": [],
   "source": [
    "def autofeature_detector(max_degree,lambda_):\n",
    "    #init feature\n",
    "    data_cleaner = Data_Cleaner(\"../data/train.csv\")\n",
    "    data_cleaner.replace_with_mean()\n",
    "    tX_orig = np.copy(data_cleaner.tX)\n",
    "    results_tr = np.zeros((tX_orig.shape[1],max_degree))\n",
    "    results_te = np.zeros((tX_orig.shape[1],max_degree))\n",
    "    \n",
    "    for feature_index in range(tX_orig.shape[1]):\n",
    "        data_cleaner.tX = np.delete(data_cleaner.tX, feature_index, axis=1)\n",
    "        for degree in range(max_degree):\n",
    "            data_cleaner.tX = np.concatenate([data_cleaner.tX, np.power(tX_orig[:,feature_index], degree+1)[:,np.newaxis]],axis=1) \n",
    "            data_cleaner.normalize()\n",
    "            model = RidgeRegression(data_cleaner)\n",
    "            results_tr[feature_index,degree], results_te[feature_index,degree] =  model.cross_validation(5,lambda_=0.1)                     \n",
    "        data_cleaner.tX = tX_orig\n",
    "        print(\"feature {} done\".format(feature_index))\n",
    "    return results_tr, results_te"
   ]
  },
  {
   "cell_type": "code",
   "execution_count": 24,
   "metadata": {},
   "outputs": [
    {
     "data": {
      "text/plain": [
       "(250000, 31)"
      ]
     },
     "execution_count": 24,
     "metadata": {},
     "output_type": "execute_result"
    }
   ],
   "source": [
    "feature_index = 2\n",
    "degree = 1\n",
    "np.concatenate([tX, np.power(tX[:,feature_index], degree+1)[:,np.newaxis]],axis=1).shape   "
   ]
  },
  {
   "cell_type": "code",
   "execution_count": 25,
   "metadata": {},
   "outputs": [
    {
     "data": {
      "text/plain": [
       "(250000,)"
      ]
     },
     "execution_count": 25,
     "metadata": {},
     "output_type": "execute_result"
    }
   ],
   "source": [
    "np.power(tX[:,feature_index], degree+1).shape"
   ]
  },
  {
   "cell_type": "code",
   "execution_count": 8,
   "metadata": {},
   "outputs": [
    {
     "name": "stdout",
     "output_type": "stream",
     "text": [
      "feature 0 done\n",
      "feature 1 done\n",
      "feature 2 done\n",
      "feature 3 done\n",
      "feature 4 done\n",
      "feature 5 done\n",
      "feature 6 done\n",
      "feature 7 done\n",
      "feature 8 done\n",
      "feature 9 done\n",
      "feature 10 done\n",
      "feature 11 done\n",
      "feature 12 done\n",
      "feature 13 done\n",
      "feature 14 done\n",
      "feature 15 done\n",
      "feature 16 done\n",
      "feature 17 done\n",
      "feature 18 done\n",
      "feature 19 done\n",
      "feature 20 done\n",
      "feature 21 done\n",
      "feature 22 done\n",
      "feature 23 done\n",
      "feature 24 done\n",
      "feature 25 done\n",
      "feature 26 done\n",
      "feature 27 done\n",
      "feature 28 done\n",
      "feature 29 done\n"
     ]
    }
   ],
   "source": [
    "results_tr, results_te = autofeature_detector(20,1e-03)"
   ]
  },
  {
   "cell_type": "code",
   "execution_count": 10,
   "metadata": {},
   "outputs": [],
   "source": [
    "#np.save(\"max_poly_test\",results_te,allow_pickle=False)"
   ]
  },
  {
   "cell_type": "code",
   "execution_count": null,
   "metadata": {},
   "outputs": [],
   "source": [
    "results_tr[20]"
   ]
  },
  {
   "cell_type": "code",
   "execution_count": null,
   "metadata": {},
   "outputs": [],
   "source": [
    "results_tr_working = "
   ]
  },
  {
   "cell_type": "code",
   "execution_count": 11,
   "metadata": {},
   "outputs": [
    {
     "data": {
      "text/plain": [
       "136"
      ]
     },
     "execution_count": 11,
     "metadata": {},
     "output_type": "execute_result"
    }
   ],
   "source": [
    "np.sum(np.argmin(np.around(results_te,decimals=4), axis=1))"
   ]
  },
  {
   "cell_type": "code",
   "execution_count": 75,
   "metadata": {},
   "outputs": [
    {
     "data": {
      "text/plain": [
       "array([ 4,  2,  0,  0, 15,  6,  5, 10,  0,  3,  4,  8,  1,  5,  1,  0,  0,\n",
       "        1,  0,  0,  0,  6,  1,  2,  3,  0,  0,  1,  9,  4])"
      ]
     },
     "execution_count": 75,
     "metadata": {},
     "output_type": "execute_result"
    }
   ],
   "source": [
    "np.argmin(np.around(results_te,decimals=3), axis=1)"
   ]
  },
  {
   "cell_type": "code",
   "execution_count": 14,
   "metadata": {},
   "outputs": [
    {
     "data": {
      "text/plain": [
       "array([ 0,  5,  3,  0,  0,  3,  0, 10,  0,  1,  0,  1,  0,  4,  1,  0,  0,\n",
       "        1,  0,  0,  0,  5,  2,  0,  0,  0,  0,  0,  0,  4])"
      ]
     },
     "execution_count": 14,
     "metadata": {},
     "output_type": "execute_result"
    }
   ],
   "source": [
    "np.argmin(np.around(results_te,decimals=3), axis=1)"
   ]
  },
  {
   "cell_type": "code",
   "execution_count": 79,
   "metadata": {},
   "outputs": [],
   "source": [
    "results_te = np.load(\"polynomial_expansion_rmses_train.npy\")"
   ]
  },
  {
   "cell_type": "code",
   "execution_count": 80,
   "metadata": {},
   "outputs": [
    {
     "data": {
      "image/png": "[encoded data removed]",
      "text/plain": [
       "<Figure size 432x288 with 1 Axes>"
      ]
     },
     "metadata": {
      "needs_background": "light"
     },
     "output_type": "display_data"
    }
   ],
   "source": [
    "plt.plot(np.arange(20),results_te[7])\n",
    "plt.yscale(\"log\")"
   ]
  },
  {
   "cell_type": "code",
   "execution_count": 36,
   "metadata": {},
   "outputs": [
    {
     "data": {
      "text/plain": [
       "array([nan, nan, nan])"
      ]
     },
     "execution_count": 36,
     "metadata": {},
     "output_type": "execute_result"
    }
   ],
   "source": [
    "results_te[4]"
   ]
  },
  {
   "cell_type": "code",
   "execution_count": 4,
   "metadata": {},
   "outputs": [
    {
     "data": {
      "text/plain": [
       "(250000, 30)"
      ]
     },
     "execution_count": 4,
     "metadata": {},
     "output_type": "execute_result"
    }
   ],
   "source": [
    "tX.shape"
   ]
  },
  {
   "cell_type": "code",
   "execution_count": 5,
   "metadata": {},
   "outputs": [],
   "source": [
    "tA = np.delete(tX, 1, axis=1)"
   ]
  },
  {
   "cell_type": "code",
   "execution_count": 8,
   "metadata": {},
   "outputs": [
    {
     "data": {
      "text/plain": [
       "(250000, 29)"
      ]
     },
     "execution_count": 8,
     "metadata": {},
     "output_type": "execute_result"
    }
   ],
   "source": [
    "tA.shape"
   ]
  },
  {
   "cell_type": "code",
   "execution_count": 3,
   "metadata": {},
   "outputs": [],
   "source": [
    "from ridge_regression_matthias import ridge_regression"
   ]
  },
  {
   "cell_type": "code",
   "execution_count": 35,
   "metadata": {},
   "outputs": [
    {
     "data": {
      "text/plain": [
       "array([[ 0.46141372, -0.4134511 ,  0.42058145, ..., -0.01288788,\n",
       "        -0.00926338, -0.00736914],\n",
       "       [ 0.51670419, -0.38504333,  0.42913442, ..., -0.01288796,\n",
       "        -0.00926339, -0.00736914],\n",
       "       [-2.33785898,  2.34570834, -2.35236556, ..., -0.01288795,\n",
       "        -0.00926339, -0.00736914],\n",
       "       ...,\n",
       "       [ 0.38016991, -0.44936671,  0.4112585 , ..., -0.01288795,\n",
       "        -0.00926339, -0.00736914],\n",
       "       [ 0.35431502, -0.4593419 ,  0.40900473, ..., -0.01288516,\n",
       "        -0.00926353, -0.00736914],\n",
       "       [-2.33785898,  2.34570834, -2.35236556, ..., -0.01288516,\n",
       "        -0.00926353, -0.00736914]])"
      ]
     },
     "execution_count": 35,
     "metadata": {},
     "output_type": "execute_result"
    }
   ],
   "source": [
    "cleaner_data.tX"
   ]
  },
  {
   "cell_type": "code",
   "execution_count": 4,
   "metadata": {},
   "outputs": [],
   "source": [
    "cleaner_data = Data_Cleaner(\"../data/train.csv\")"
   ]
  },
  {
   "cell_type": "code",
   "execution_count": 53,
   "metadata": {},
   "outputs": [],
   "source": [
    "results_te = np.load(\"polynomial_expansion_rmses_train.npy\")"
   ]
  },
  {
   "cell_type": "code",
   "execution_count": 53,
   "metadata": {},
   "outputs": [
    {
     "data": {
      "text/plain": [
       "array([18, 11, 19, 19,  7,  7,  5,  4, 19, 17,  8, 14,  5, 19,  3,  0, 17,\n",
       "        3,  0, 18,  0, 11,  3, 19,  3,  0,  0,  5,  5,  8])"
      ]
     },
     "execution_count": 53,
     "metadata": {},
     "output_type": "execute_result"
    }
   ],
   "source": [
    "np.argmin(np.around(results_te,decimals=4), axis=1)"
   ]
  },
  {
   "cell_type": "code",
   "execution_count": 49,
   "metadata": {},
   "outputs": [],
   "source": [
    "from build_polynomial import build_poly"
   ]
  },
  {
   "cell_type": "code",
   "execution_count": 51,
   "metadata": {},
   "outputs": [
    {
     "data": {
      "text/plain": [
       "(10, 5)"
      ]
     },
     "execution_count": 51,
     "metadata": {},
     "output_type": "execute_result"
    }
   ],
   "source": [
    "build_poly(np.arange(10),degree=5).shape"
   ]
  },
  {
   "cell_type": "code",
   "execution_count": 27,
   "metadata": {},
   "outputs": [],
   "source": [
    "cleaner_data.build_polynomials_from_degree_array(np.argmin(np.around(results_te,decimals=4), axis=1))"
   ]
  },
  {
   "cell_type": "code",
   "execution_count": 28,
   "metadata": {},
   "outputs": [],
   "source": [
    "cleaner_data.normalize()"
   ]
  },
  {
   "cell_type": "code",
   "execution_count": 30,
   "metadata": {},
   "outputs": [
    {
     "data": {
      "text/plain": [
       "array([ 8.15632006e-16,  4.65149911e-13,  3.78568382e-13,  3.03840748e-13,\n",
       "       -1.43695082e-14, -1.91085496e-13,  3.64259241e-13, -3.00065810e-13,\n",
       "       -2.88976734e-13, -6.69064804e-18, -4.26495794e-15,  4.83962870e-17,\n",
       "        3.54626981e-16, -1.39567663e-16, -9.82658399e-18, -2.73827239e-15,\n",
       "       -1.39044179e-15,  2.72766580e-16,  4.74777301e-17,  3.03259563e-16,\n",
       "       -7.81498713e-16,  6.74149219e-16, -3.68012287e-17, -1.04636882e-15,\n",
       "        2.30161223e-15, -2.32189848e-12,  1.29211494e-12,  2.48162202e-15,\n",
       "        1.72779281e-12,  1.30034907e-13,  1.76017925e-13,  1.07186473e-13,\n",
       "       -1.49829278e-13,  1.13576205e-13,  5.55661716e-14, -2.75246804e-14,\n",
       "       -3.37083611e-14,  3.33570647e-14,  3.74677855e-15,  6.22483587e-15,\n",
       "        1.85108647e-14, -4.04914324e-15,  2.50095273e-12,  2.37338582e-12,\n",
       "        6.54537629e-13, -5.43307135e-13, -1.37485910e-12, -3.07012662e-13,\n",
       "       -5.40663650e-13, -2.50674166e-12,  3.05671088e-15,  2.99116052e-14,\n",
       "        1.74834286e-16, -1.22788884e-14, -2.70112821e-17, -4.39322567e-15,\n",
       "        6.48067933e-16,  1.02639536e-16, -3.10107329e-16,  2.54943636e-16,\n",
       "        8.26733751e-17,  4.97146879e-16,  3.76816470e-16,  1.82329707e-17,\n",
       "        5.54251789e-15,  4.46531340e-16,  2.45069788e-15,  9.56197087e-16,\n",
       "       -5.26106804e-16, -2.23138601e-16,  6.26321921e-16,  1.23385746e-16,\n",
       "       -1.46357642e-13, -2.34677069e-14, -3.89178617e-13, -6.10391639e-14,\n",
       "        1.05987786e-14,  4.75203872e-14, -1.79402438e-13,  3.23802185e-15,\n",
       "        1.38916550e-13, -4.05040268e-15,  5.84488014e-18,  9.53309753e-15,\n",
       "       -1.06150977e-16, -1.53265962e-16,  8.37293533e-17,  2.07632139e-16,\n",
       "        4.30980951e-16,  1.05270491e-15,  1.70957905e-15, -3.06661363e-17,\n",
       "        1.35558231e-18, -2.76942913e-17,  2.30655495e-17,  5.55542851e-15,\n",
       "        3.39378881e-15, -1.14898899e-15,  1.07393261e-17,  2.10020268e-15,\n",
       "       -2.64695410e-12,  6.07635737e-14, -4.09132284e-16,  4.22232361e-12,\n",
       "       -2.39723633e-13,  8.08193272e-13, -9.44483142e-13, -2.15850804e-15,\n",
       "       -4.77955678e-12,  4.78234398e-13,  2.50722252e-12,  4.20322426e-14,\n",
       "       -1.08694387e-12,  1.23430877e-12, -3.73169939e-15, -2.77016258e-12,\n",
       "        1.45213671e-12,  7.60753025e-13,  2.09721104e-12,  4.59717242e-15,\n",
       "       -2.66174902e-12,  7.44944082e-13,  3.88212245e-14,  1.48910541e-12,\n",
       "       -1.53361501e-15,  2.07993804e-13, -1.04423936e-13,  2.57379164e-14,\n",
       "        2.98716893e-14,  1.73675543e-14, -7.69851502e-15,  6.79262236e-15])"
      ]
     },
     "execution_count": 30,
     "metadata": {},
     "output_type": "execute_result"
    }
   ],
   "source": [
    "np.mean(cleaner_data.tX,axis=0)"
   ]
  },
  {
   "cell_type": "code",
   "execution_count": 31,
   "metadata": {},
   "outputs": [
    {
     "data": {
      "text/plain": [
       "(250000, 132)"
      ]
     },
     "execution_count": 31,
     "metadata": {},
     "output_type": "execute_result"
    }
   ],
   "source": [
    "cleaner_data.tX.shape"
   ]
  },
  {
   "cell_type": "code",
   "execution_count": 36,
   "metadata": {},
   "outputs": [
    {
     "name": "stdout",
     "output_type": "stream",
     "text": [
      "lambda: 0.0001 done\n"
     ]
    },
    {
     "ename": "KeyboardInterrupt",
     "evalue": "",
     "output_type": "error",
     "traceback": [
      "\u001b[0;31m---------------------------------------------------------------------------\u001b[0m",
      "\u001b[0;31mKeyboardInterrupt\u001b[0m                         Traceback (most recent call last)",
      "\u001b[0;32m/tmp/ipykernel_722/1508448179.py\u001b[0m in \u001b[0;36m<module>\u001b[0;34m\u001b[0m\n\u001b[0;32m----> 1\u001b[0;31m \u001b[0mrmse_tr\u001b[0m\u001b[0;34m,\u001b[0m \u001b[0mrmse_te\u001b[0m \u001b[0;34m=\u001b[0m \u001b[0mcross_validation_prediction\u001b[0m\u001b[0;34m(\u001b[0m\u001b[0mcleaner_data\u001b[0m\u001b[0;34m.\u001b[0m\u001b[0my\u001b[0m\u001b[0;34m,\u001b[0m\u001b[0mcleaner_data\u001b[0m\u001b[0;34m.\u001b[0m\u001b[0mtX\u001b[0m\u001b[0;34m)\u001b[0m\u001b[0;34m\u001b[0m\u001b[0;34m\u001b[0m\u001b[0m\n\u001b[0m",
      "\u001b[0;32m/tmp/ipykernel_722/2603626243.py\u001b[0m in \u001b[0;36mcross_validation_prediction\u001b[0;34m(y, x)\u001b[0m\n\u001b[1;32m     21\u001b[0m         \u001b[0mtmp_te\u001b[0m \u001b[0;34m=\u001b[0m \u001b[0;34m[\u001b[0m\u001b[0;34m]\u001b[0m\u001b[0;34m\u001b[0m\u001b[0;34m\u001b[0m\u001b[0m\n\u001b[1;32m     22\u001b[0m         \u001b[0;32mfor\u001b[0m \u001b[0mk\u001b[0m \u001b[0;32min\u001b[0m \u001b[0mrange\u001b[0m\u001b[0;34m(\u001b[0m\u001b[0mk_fold\u001b[0m\u001b[0;34m)\u001b[0m\u001b[0;34m:\u001b[0m\u001b[0;34m\u001b[0m\u001b[0;34m\u001b[0m\u001b[0m\n\u001b[0;32m---> 23\u001b[0;31m             \u001b[0mloss_tr\u001b[0m\u001b[0;34m,\u001b[0m \u001b[0mloss_te\u001b[0m \u001b[0;34m=\u001b[0m \u001b[0mcross_validation\u001b[0m\u001b[0;34m(\u001b[0m\u001b[0my\u001b[0m\u001b[0;34m,\u001b[0m \u001b[0mx\u001b[0m\u001b[0;34m,\u001b[0m \u001b[0mk_indices\u001b[0m\u001b[0;34m,\u001b[0m \u001b[0mk\u001b[0m\u001b[0;34m,\u001b[0m \u001b[0mlambda_\u001b[0m\u001b[0;34m)\u001b[0m\u001b[0;34m\u001b[0m\u001b[0;34m\u001b[0m\u001b[0m\n\u001b[0m\u001b[1;32m     24\u001b[0m             \u001b[0mtmp_tr\u001b[0m\u001b[0;34m.\u001b[0m\u001b[0mappend\u001b[0m\u001b[0;34m(\u001b[0m\u001b[0mloss_tr\u001b[0m\u001b[0;34m)\u001b[0m\u001b[0;34m\u001b[0m\u001b[0;34m\u001b[0m\u001b[0m\n\u001b[1;32m     25\u001b[0m             \u001b[0mtmp_te\u001b[0m\u001b[0;34m.\u001b[0m\u001b[0mappend\u001b[0m\u001b[0;34m(\u001b[0m\u001b[0mloss_te\u001b[0m\u001b[0;34m)\u001b[0m\u001b[0;34m\u001b[0m\u001b[0;34m\u001b[0m\u001b[0m\n",
      "\u001b[0;32m~/Project_git/MLProject1/project1/scripts/k_fold_validate_matthias.py\u001b[0m in \u001b[0;36mcross_validation\u001b[0;34m(y, x, k_indices, k, lambda_)\u001b[0m\n\u001b[1;32m     38\u001b[0m     \u001b[0;31m# ***************************************************\u001b[0m\u001b[0;34m\u001b[0m\u001b[0;34m\u001b[0m\u001b[0;34m\u001b[0m\u001b[0m\n\u001b[1;32m     39\u001b[0m \u001b[0;34m\u001b[0m\u001b[0m\n\u001b[0;32m---> 40\u001b[0;31m     \u001b[0mridge_mse\u001b[0m\u001b[0;34m,\u001b[0m \u001b[0mridge_w\u001b[0m \u001b[0;34m=\u001b[0m \u001b[0mridge_regression\u001b[0m\u001b[0;34m(\u001b[0m\u001b[0my_train\u001b[0m\u001b[0;34m,\u001b[0m \u001b[0mtrain_data\u001b[0m\u001b[0;34m,\u001b[0m \u001b[0mlambda_\u001b[0m\u001b[0;34m)\u001b[0m\u001b[0;34m\u001b[0m\u001b[0;34m\u001b[0m\u001b[0m\n\u001b[0m\u001b[1;32m     41\u001b[0m \u001b[0;34m\u001b[0m\u001b[0m\n\u001b[1;32m     42\u001b[0m     \u001b[0;31m# ***************************************************\u001b[0m\u001b[0;34m\u001b[0m\u001b[0;34m\u001b[0m\u001b[0;34m\u001b[0m\u001b[0m\n",
      "\u001b[0;32m~/Project_git/MLProject1/project1/scripts/ridge_regression_matthias.py\u001b[0m in \u001b[0;36mridge_regression\u001b[0;34m(y, tx, lambda_)\u001b[0m\n\u001b[1;32m      9\u001b[0m \u001b[0;34m\u001b[0m\u001b[0m\n\u001b[1;32m     10\u001b[0m \u001b[0;32mdef\u001b[0m \u001b[0mridge_regression\u001b[0m\u001b[0;34m(\u001b[0m\u001b[0my\u001b[0m\u001b[0;34m,\u001b[0m \u001b[0mtx\u001b[0m\u001b[0;34m,\u001b[0m \u001b[0mlambda_\u001b[0m\u001b[0;34m)\u001b[0m\u001b[0;34m:\u001b[0m\u001b[0;34m\u001b[0m\u001b[0;34m\u001b[0m\u001b[0m\n\u001b[0;32m---> 11\u001b[0;31m     \u001b[0mw\u001b[0m \u001b[0;34m=\u001b[0m \u001b[0mnp\u001b[0m\u001b[0;34m.\u001b[0m\u001b[0mlinalg\u001b[0m\u001b[0;34m.\u001b[0m\u001b[0msolve\u001b[0m\u001b[0;34m(\u001b[0m\u001b[0mtx\u001b[0m\u001b[0;34m.\u001b[0m\u001b[0mT\u001b[0m \u001b[0;34m@\u001b[0m \u001b[0mtx\u001b[0m \u001b[0;34m+\u001b[0m \u001b[0;34m(\u001b[0m\u001b[0mlambda_\u001b[0m\u001b[0;34m*\u001b[0m\u001b[0;36m2\u001b[0m\u001b[0;34m*\u001b[0m\u001b[0mlen\u001b[0m\u001b[0;34m(\u001b[0m\u001b[0my\u001b[0m\u001b[0;34m)\u001b[0m\u001b[0;34m)\u001b[0m \u001b[0;34m*\u001b[0m \u001b[0mnp\u001b[0m\u001b[0;34m.\u001b[0m\u001b[0midentity\u001b[0m\u001b[0;34m(\u001b[0m\u001b[0mtx\u001b[0m\u001b[0;34m.\u001b[0m\u001b[0mshape\u001b[0m\u001b[0;34m[\u001b[0m\u001b[0;36m1\u001b[0m\u001b[0;34m]\u001b[0m\u001b[0;34m)\u001b[0m\u001b[0;34m,\u001b[0m \u001b[0mtx\u001b[0m\u001b[0;34m.\u001b[0m\u001b[0mT\u001b[0m \u001b[0;34m@\u001b[0m \u001b[0my\u001b[0m\u001b[0;34m)\u001b[0m   \u001b[0;31m#system of type A*x = b solve(A,b)\u001b[0m\u001b[0;34m\u001b[0m\u001b[0;34m\u001b[0m\u001b[0m\n\u001b[0m\u001b[1;32m     12\u001b[0m     \u001b[0me\u001b[0m \u001b[0;34m=\u001b[0m \u001b[0;34m(\u001b[0m\u001b[0my\u001b[0m \u001b[0;34m-\u001b[0m \u001b[0mtx\u001b[0m \u001b[0;34m@\u001b[0m \u001b[0mw\u001b[0m\u001b[0;34m)\u001b[0m\u001b[0;34m\u001b[0m\u001b[0;34m\u001b[0m\u001b[0m\n\u001b[1;32m     13\u001b[0m     \u001b[0mmse\u001b[0m \u001b[0;34m=\u001b[0m \u001b[0;36m1\u001b[0m\u001b[0;34m/\u001b[0m\u001b[0;34m(\u001b[0m\u001b[0;36m2\u001b[0m\u001b[0;34m*\u001b[0m\u001b[0mlen\u001b[0m\u001b[0;34m(\u001b[0m\u001b[0me\u001b[0m\u001b[0;34m)\u001b[0m\u001b[0;34m)\u001b[0m \u001b[0;34m*\u001b[0m \u001b[0me\u001b[0m\u001b[0;34m.\u001b[0m\u001b[0mT\u001b[0m \u001b[0;34m@\u001b[0m \u001b[0me\u001b[0m\u001b[0;34m\u001b[0m\u001b[0;34m\u001b[0m\u001b[0m\n",
      "\u001b[0;31mKeyboardInterrupt\u001b[0m: "
     ]
    }
   ],
   "source": [
    "rmse_tr, rmse_te = cross_validation_prediction(cleaner_data.y,cleaner_data.tX)"
   ]
  },
  {
   "cell_type": "code",
   "execution_count": 5,
   "metadata": {},
   "outputs": [],
   "source": [
    "from least_squares_matthias import least_squares"
   ]
  },
  {
   "cell_type": "code",
   "execution_count": 6,
   "metadata": {},
   "outputs": [],
   "source": [
    "mse, w = least_squares(cleaner_data.y, cleaner_data.tX)"
   ]
  },
  {
   "cell_type": "code",
   "execution_count": 39,
   "metadata": {},
   "outputs": [
    {
     "data": {
      "text/plain": [
       "0.8210050727748331"
      ]
     },
     "execution_count": 39,
     "metadata": {},
     "output_type": "execute_result"
    }
   ],
   "source": [
    "np.sqrt(2*mse)"
   ]
  },
  {
   "cell_type": "code",
   "execution_count": 36,
   "metadata": {},
   "outputs": [],
   "source": [
    "#mse, w = ridge_regression(cleaner_data.y,cleaner_data.tX,0.0007880462815669921)"
   ]
  },
  {
   "cell_type": "code",
   "execution_count": 199,
   "metadata": {},
   "outputs": [
    {
     "data": {
      "text/plain": [
       "(250000, 13)"
      ]
     },
     "execution_count": 199,
     "metadata": {},
     "output_type": "execute_result"
    }
   ],
   "source": [
    "cleaner_data.tX.shape"
   ]
  },
  {
   "cell_type": "code",
   "execution_count": 37,
   "metadata": {},
   "outputs": [
    {
     "data": {
      "text/plain": [
       "0"
      ]
     },
     "execution_count": 37,
     "metadata": {},
     "output_type": "execute_result"
    }
   ],
   "source": [
    "np.argmin(rmse_tr)"
   ]
  },
  {
   "cell_type": "code",
   "execution_count": 111,
   "metadata": {},
   "outputs": [
    {
     "data": {
      "text/plain": [
       "0.04175318936560409"
      ]
     },
     "execution_count": 111,
     "metadata": {},
     "output_type": "execute_result"
    }
   ],
   "source": [
    "np.logspace(-10, 0normalize)[np.argmin(rmse_te)]"
   ]
  },
  {
   "cell_type": "code",
   "execution_count": 18,
   "metadata": {},
   "outputs": [
    {
     "name": "stdout",
     "output_type": "stream",
     "text": [
      "The autoreload extension is already loaded. To reload it, use:\n",
      "  %reload_ext autoreload\n"
     ]
    }
   ],
   "source": [
    "%matplotlib inline\n",
    "import numpy as np\n",
    "import matplotlib.pyplot as plt\n",
    "%load_ext autoreload\n",
    "%autoreload 2"
   ]
  },
  {
   "cell_type": "code",
   "execution_count": 19,
   "metadata": {},
   "outputs": [],
   "source": [
    "from plots import cross_validation_visualization"
   ]
  },
  {
   "cell_type": "code",
   "execution_count": 29,
   "metadata": {},
   "outputs": [
    {
     "data": {
      "text/plain": [
       "20"
      ]
     },
     "execution_count": 29,
     "metadata": {},
     "output_type": "execute_result"
    }
   ],
   "source": [
    "np.argmin(rmse_te)"
   ]
  },
  {
   "cell_type": "code",
   "execution_count": 31,
   "metadata": {},
   "outputs": [
    {
     "data": {
      "text/plain": [
       "0.0007880462815669921"
      ]
     },
     "execution_count": 31,
     "metadata": {},
     "output_type": "execute_result"
    }
   ],
   "source": [
    "np.logspace(-10, 0, 30)[np.argmin(rmse_te)]"
   ]
  },
  {
   "cell_type": "code",
   "execution_count": 43,
   "metadata": {},
   "outputs": [
    {
     "data": {
      "text/plain": [
       "[<matplotlib.lines.Line2D at 0x7f0fc24ad6a0>]"
      ]
     },
     "execution_count": 43,
     "metadata": {},
     "output_type": "execute_result"
    },
    {
     "data": {
      "image/png": "[encoded data removed]",
      "text/plain": [
       "<Figure size 432x288 with 1 Axes>"
      ]
     },
     "metadata": {
      "needs_background": "light"
     },
     "output_type": "display_data"
    }
   ],
   "source": [
    "plt.loglog(np.logspace(-4, 4, 20), rmse_te)\n",
    "#plt.xscale(\"log\")\n"
   ]
  },
  {
   "cell_type": "code",
   "execution_count": 26,
   "metadata": {},
   "outputs": [
    {
     "data": {
      "image/png": "[encoded data removed]",
      "text/plain": [
       "<Figure size 432x288 with 1 Axes>"
      ]
     },
     "metadata": {
      "needs_background": "light"
     },
     "output_type": "display_data"
    }
   ],
   "source": [
    "cross_validation_visualization(np.logspace(-10, 0, 30), rmse_tr, rmse_te)"
   ]
  },
  {
   "cell_type": "markdown",
   "metadata": {},
   "source": [
    "## Generate predictions and save ouput in csv format for submission:"
   ]
  },
  {
   "cell_type": "code",
   "execution_count": 193,
   "metadata": {
    "collapsed": false,
    "jupyter": {
     "outputs_hidden": false
    }
   },
   "outputs": [],
   "source": [
    "DATA_TEST_PATH = '../data/test.csv' # TODO: download train data and supply path here \n",
    "_, tX_test, ids_test = load_csv_data(DATA_TEST_PATH)"
   ]
  },
  {
   "cell_type": "code",
   "execution_count": 7,
   "metadata": {},
   "outputs": [],
   "source": [
    "cleaner_data_test = Data_Cleaner(\"../data/test.csv\")\n",
    "#cleaner_data_test.build_polynomials_from_degree_array(np.argmin(np.around(results_te,decimals=4), axis=1))\n"
   ]
  },
  {
   "cell_type": "code",
   "execution_count": 47,
   "metadata": {},
   "outputs": [
    {
     "data": {
      "text/plain": [
       "(568238, 132)"
      ]
     },
     "execution_count": 47,
     "metadata": {},
     "output_type": "execute_result"
    }
   ],
   "source": [
    "cleaner_data_test.tX.shape"
   ]
  },
  {
   "cell_type": "code",
   "execution_count": 45,
   "metadata": {},
   "outputs": [],
   "source": [
    "cleaner_data_test.normalize()"
   ]
  },
  {
   "cell_type": "code",
   "execution_count": 8,
   "metadata": {},
   "outputs": [],
   "source": [
    "weights = w"
   ]
  },
  {
   "cell_type": "code",
   "execution_count": 9,
   "metadata": {},
   "outputs": [],
   "source": [
    "#OUTPUT_PATH = '../scripts/submission_cleaned_polynomial_features_selected_least_squares.csv' # TODO: fill in desired name of output file for submission\n",
    "y_pred = predict_labels(weights, cleaner_data_test.tX)\n",
    "#create_csv_submission(cleaner_data_test.ids, y_pred, OUTPUT_PATH)"
   ]
  },
  {
   "cell_type": "code",
   "execution_count": 195,
   "metadata": {
    "collapsed": false,
    "jupyter": {
     "outputs_hidden": false
    }
   },
   "outputs": [],
   "source": [
    "OUTPUT_PATH = '../scripts/submission_cleaned.csv' # TODO: fill in desired name of output file for submission\n",
    "y_pred = predict_labels(weights, tX_test)\n",
    "create_csv_submission(ids_test, y_pred, OUTPUT_PATH)"
   ]
  },
  {
   "cell_type": "code",
   "execution_count": 10,
   "metadata": {
    "tags": []
   },
   "outputs": [
    {
     "data": {
      "text/plain": [
       "array([-1., -1., -1., ..., -1.,  1., -1.])"
      ]
     },
     "execution_count": 10,
     "metadata": {},
     "output_type": "execute_result"
    }
   ],
   "source": [
    "y_pred"
   ]
  },
  {
   "cell_type": "code",
   "execution_count": 16,
   "metadata": {},
   "outputs": [],
   "source": [
    "def estimate_Leaderboard_score(y_true,weights,data):\n",
    "    \"\"\"Helper function estimating the categorical accuracy on the leaderscore\n",
    "    \"\"\"\n",
    "    y_pred = predict_labels(weights, data)\n",
    "    N_tot = y_pred.shape[0]\n",
    "    N_true = len(np.where(y_pred == y_true)[0])\n",
    "    categorical_acuracy = N_true/N_tot\n",
    "    return categorical_acuracy"
   ]
  },
  {
   "cell_type": "code",
   "execution_count": 24,
   "metadata": {},
   "outputs": [],
   "source": [
    "y_true = np.random.choice([1.,1.],size=y_pred.shape[0])"
   ]
  },
  {
   "cell_type": "code",
   "execution_count": 25,
   "metadata": {},
   "outputs": [
    {
     "data": {
      "text/plain": [
       "array([1., 1., 1., ..., 1., 1., 1.])"
      ]
     },
     "execution_count": 25,
     "metadata": {},
     "output_type": "execute_result"
    }
   ],
   "source": [
    "y_true"
   ]
  },
  {
   "cell_type": "code",
   "execution_count": 26,
   "metadata": {},
   "outputs": [
    {
     "data": {
      "text/plain": [
       "0.2512415572348206"
      ]
     },
     "execution_count": 26,
     "metadata": {},
     "output_type": "execute_result"
    }
   ],
   "source": [
    "estimate_Leaderboard_score(y_true,weights,cleaner_data_test.tX)"
   ]
  },
  {
   "cell_type": "code",
   "execution_count": null,
   "metadata": {},
   "outputs": [],
   "source": []
  }
 ],
 "metadata": {
  "anaconda-cloud": {},
  "kernelspec": {
   "display_name": "Python",
   "language": "python",
   "name": "python3"
  },
  "language_info": {
   "codemirror_mode": {
    "name": "ipython",
    "version": 3
   },
   "file_extension": ".py",
   "mimetype": "text/x-python",
   "name": "python",
   "nbconvert_exporter": "python",
   "pygments_lexer": "ipython3",
   "version": "3.8.10"
  }
 },
 "nbformat": 4,
 "nbformat_minor": 4
}
