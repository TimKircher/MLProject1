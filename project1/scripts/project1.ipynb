{
 "cells": [
  {
   "cell_type": "code",
   "execution_count": 122,
   "metadata": {
    "tags": []
   },
   "outputs": [
    {
     "name": "stdout",
     "output_type": "stream",
     "text": [
      "The autoreload extension is already loaded. To reload it, use:\n",
      "  %reload_ext autoreload\n"
     ]
    }
   ],
   "source": [
    "# Useful starting lines\n",
    "%matplotlib inline\n",
    "import numpy as np\n",
    "import matplotlib.pyplot as plt\n",
    "%load_ext autoreload\n",
    "%autoreload 2"
   ]
  },
  {
   "cell_type": "markdown",
   "metadata": {},
   "source": [
    "## Load the training data into feature matrix, class labels, and event ids:"
   ]
  },
  {
   "cell_type": "code",
   "execution_count": 123,
   "metadata": {
    "collapsed": false,
    "jupyter": {
     "outputs_hidden": false
    }
   },
   "outputs": [],
   "source": [
    "from proj1_helpers import *\n",
    "DATA_TRAIN_PATH = '../data/train.csv' # TODO: download train data and supply path here \n",
    "y, tX, ids = load_csv_data(DATA_TRAIN_PATH)"
   ]
  },
  {
   "cell_type": "markdown",
   "metadata": {},
   "source": [
    "## Explorational data analysis"
   ]
  },
  {
   "cell_type": "code",
   "execution_count": 124,
   "metadata": {},
   "outputs": [
    {
     "name": "stdout",
     "output_type": "stream",
     "text": [
      "(250000, 30)\n",
      "(250000,)\n",
      "(250000,)\n"
     ]
    }
   ],
   "source": [
    "print(tX.shape)\n",
    "print(y.shape)\n",
    "print(ids.shape)"
   ]
  },
  {
   "cell_type": "markdown",
   "metadata": {},
   "source": [
    "#### Number of unique values, mean, histogram of values"
   ]
  },
  {
   "cell_type": "code",
   "execution_count": 145,
   "metadata": {},
   "outputs": [],
   "source": [
    "with open(\"../data/train.csv\") as fileobj:\n",
    "    #print(\"Feature names: \\n\\n\")\n",
    "    names = fileobj.readline().rstrip(\"\\n\")\n",
    "    feature_names = names.split(sep=\",\")[2:] # remove ID and prediction\n",
    "    #for easier access to variables make index dict\n",
    "    f_in = {x:v for v,x in enumerate(feature_names)}\n",
    "    "
   ]
  },
  {
   "cell_type": "code",
   "execution_count": 150,
   "metadata": {},
   "outputs": [
    {
     "name": "stdout",
     "output_type": "stream",
     "text": [
      "DER_mass_MMC has 108338 unique values\n",
      "\n",
      "% of samples have entry: 84.8\n",
      "mean without -999. (or 0): 121.8585283595896\n",
      "standarddeviation without -999. (or 0): 57.298021449827395\n",
      "std/mean: 0.4702011604862644\n",
      "--------------------------------\n",
      "\n",
      "DER_mass_transverse_met_lep has 101637 unique values\n",
      "\n",
      "% of samples have entry: 100.0\n",
      "mean without -999. (or 0): 49.239819276\n",
      "standarddeviation without -999. (or 0): 35.34481492202995\n",
      "std/mean: 0.7178095988515819\n",
      "--------------------------------\n",
      "\n",
      "DER_mass_vis has 100558 unique values\n",
      "\n",
      "% of samples have entry: 100.0\n",
      "mean without -999. (or 0): 81.181981612\n",
      "standarddeviation without -999. (or 0): 40.8286088749526\n",
      "std/mean: 0.5029269803992746\n",
      "--------------------------------\n",
      "\n",
      "DER_pt_h has 115563 unique values\n",
      "\n",
      "% of samples have entry: 100.0\n",
      "mean without -999. (or 0): 57.895961656\n",
      "standarddeviation without -999. (or 0): 63.65555430684573\n",
      "std/mean: 1.0994817684360692\n",
      "--------------------------------\n",
      "\n",
      "DER_deltaeta_jet_jet has 7087 unique values\n",
      "\n",
      "% of samples have entry: 29.0\n",
      "mean without -999. (or 0): 2.403735026122438\n",
      "standarddeviation without -999. (or 0): 1.7422143071664116\n",
      "std/mean: 0.7247946584099362\n",
      "--------------------------------\n",
      "\n",
      "DER_mass_jet_jet has 68366 unique values\n",
      "\n",
      "% of samples have entry: 29.0\n",
      "mean without -999. (or 0): 371.7833604482857\n",
      "standarddeviation without -999. (or 0): 397.69658433794075\n",
      "std/mean: 1.0696997946826066\n",
      "--------------------------------\n",
      "\n",
      "DER_prodeta_jet_jet has 16593 unique values\n",
      "\n",
      "% of samples have entry: 29.0\n",
      "mean without -999. (or 0): -0.8216881711536606\n",
      "standarddeviation without -999. (or 0): 3.5843373103759\n",
      "std/mean: -4.362162479889963\n",
      "--------------------------------\n",
      "\n",
      "DER_deltar_tau_lep has 4692 unique values\n",
      "\n",
      "% of samples have entry: 100.0\n",
      "mean without -999. (or 0): 2.3730998440000004\n",
      "standarddeviation without -999. (or 0): 0.7829095528215093\n",
      "std/mean: 0.32991007723546467\n",
      "--------------------------------\n",
      "\n",
      "DER_pt_tot has 59042 unique values\n",
      "\n",
      "% of samples have entry: 100.0\n",
      "mean without -999. (or 0): 18.91733244400001\n",
      "standarddeviation without -999. (or 0): 22.273449204924436\n",
      "std/mean: 1.177409620032812\n",
      "--------------------------------\n",
      "\n",
      "DER_sum_pt has 156098 unique values\n",
      "\n",
      "% of samples have entry: 100.0\n",
      "mean without -999. (or 0): 158.432217048\n",
      "standarddeviation without -999. (or 0): 115.70588372102608\n",
      "std/mean: 0.730317897943515\n",
      "--------------------------------\n",
      "\n",
      "DER_pt_ratio_lep_tau has 5931 unique values\n",
      "\n",
      "% of samples have entry: 100.0\n",
      "mean without -999. (or 0): 1.4376094319999997\n",
      "standarddeviation without -999. (or 0): 0.8447412551738178\n",
      "std/mean: 0.5876013584570152\n",
      "--------------------------------\n",
      "\n",
      "DER_met_phi_centrality has 2829 unique values\n",
      "\n",
      "% of samples have entry: 100.0\n",
      "mean without -999. (or 0): -0.12830470800000002\n",
      "standarddeviation without -999. (or 0): 1.1935824486029587\n",
      "std/mean: -9.302717470063207\n",
      "--------------------------------\n",
      "\n",
      "DER_lep_eta_centrality has 1002 unique values\n",
      "\n",
      "0 marks no entry too\n",
      "\n",
      "% of samples have entry: 22.7\n",
      "mean without -999. (or 0): 0.58540467679738\n",
      "standarddeviation without -999. (or 0): 0.358632298300945\n",
      "std/mean: 0.6126228786946891\n",
      "--------------------------------\n",
      "\n",
      "PRI_tau_pt has 59639 unique values\n",
      "\n",
      "% of samples have entry: 100.0\n",
      "mean without -999. (or 0): 38.70741912799999\n",
      "standarddeviation without -999. (or 0): 22.41203584249596\n",
      "std/mean: 0.5790113716541656\n",
      "--------------------------------\n",
      "\n",
      "PRI_tau_eta has 4971 unique values\n",
      "\n",
      "% of samples have entry: 100.0\n",
      "mean without -999. (or 0): -0.010973048000000001\n",
      "standarddeviation without -999. (or 0): 1.2140762178683797\n",
      "std/mean: -110.64165743815025\n",
      "--------------------------------\n",
      "\n",
      "PRI_tau_phi has 6285 unique values\n",
      "\n",
      "% of samples have entry: 100.0\n",
      "mean without -999. (or 0): -0.008171072000000005\n",
      "standarddeviation without -999. (or 0): 1.8167594108451375\n",
      "std/mean: -222.3403992579109\n",
      "--------------------------------\n",
      "\n",
      "PRI_lep_pt has 61929 unique values\n",
      "\n",
      "% of samples have entry: 100.0\n",
      "mean without -999. (or 0): 46.66020724800001\n",
      "standarddeviation without -999. (or 0): 22.06487827506729\n",
      "std/mean: 0.4728842749838633\n",
      "--------------------------------\n",
      "\n",
      "PRI_lep_eta has 4987 unique values\n",
      "\n",
      "% of samples have entry: 100.0\n",
      "mean without -999. (or 0): -0.019507467999999997\n",
      "standarddeviation without -999. (or 0): 1.2649796185204838\n",
      "std/mean: -64.84591534485583\n",
      "--------------------------------\n",
      "\n",
      "PRI_lep_phi has 6285 unique values\n",
      "\n",
      "% of samples have entry: 100.0\n",
      "mean without -999. (or 0): 0.043542963999999997\n",
      "standarddeviation without -999. (or 0): 1.8166076295893112\n",
      "std/mean: 41.71988910973794\n",
      "--------------------------------\n",
      "\n",
      "PRI_met has 87836 unique values\n",
      "\n",
      "% of samples have entry: 100.0\n",
      "mean without -999. (or 0): 41.71723452400001\n",
      "standarddeviation without -999. (or 0): 32.8946274025167\n",
      "std/mean: 0.7885140944228302\n",
      "--------------------------------\n",
      "\n",
      "PRI_met_phi has 6285 unique values\n",
      "\n",
      "% of samples have entry: 100.0\n",
      "mean without -999. (or 0): -0.010119191999999999\n",
      "standarddeviation without -999. (or 0): 1.8122190775381621\n",
      "std/mean: -179.08733004949033\n",
      "--------------------------------\n",
      "\n",
      "PRI_met_sumet has 179740 unique values\n",
      "\n",
      "% of samples have entry: 100.0\n",
      "mean without -999. (or 0): 209.79717763200006\n",
      "standarddeviation without -999. (or 0): 126.49925271717557\n",
      "std/mean: 0.6029597449545518\n",
      "--------------------------------\n",
      "\n",
      "PRI_jet_num has 4 unique values\n",
      "\n",
      "% of samples have entry: 100.0\n",
      "mean without -999. (or 0): 0.979176\n",
      "standarddeviation without -999. (or 0): 0.9774243505376773\n",
      "std/mean: 0.9982110984518383\n",
      "--------------------------------\n",
      "\n",
      "PRI_jet_leading_pt has 86590 unique values\n",
      "\n",
      "% of samples have entry: 60.0\n",
      "mean without -999. (or 0): 84.82210453270434\n",
      "standarddeviation without -999. (or 0): 60.66207396692587\n",
      "std/mean: 0.7151682253242934\n",
      "--------------------------------\n",
      "\n",
      "PRI_jet_leading_eta has 8558 unique values\n",
      "\n",
      "% of samples have entry: 60.0\n",
      "mean without -999. (or 0): -0.0032745874059712044\n",
      "standarddeviation without -999. (or 0): 1.784540015878535\n",
      "std/mean: -544.9663712211283\n",
      "--------------------------------\n",
      "\n",
      "PRI_jet_leading_phi has 6285 unique values\n",
      "\n",
      "% of samples have entry: 60.0\n",
      "mean without -999. (or 0): -0.012392825494546494\n",
      "standarddeviation without -999. (or 0): 1.81337942573136\n",
      "std/mean: -146.3249382902506\n",
      "--------------------------------\n",
      "\n",
      "PRI_jet_subleading_pt has 42464 unique values\n",
      "\n",
      "% of samples have entry: 29.0\n",
      "mean without -999. (or 0): 57.67947442206691\n",
      "standarddeviation without -999. (or 0): 31.985561217034174\n",
      "std/mean: 0.5545397481083356\n",
      "--------------------------------\n",
      "\n",
      "PRI_jet_subleading_eta has 8628 unique values\n",
      "\n",
      "% of samples have entry: 29.0\n",
      "mean without -999. (or 0): -0.01184526418813669\n",
      "standarddeviation without -999. (or 0): 2.0317285969821564\n",
      "std/mean: -171.52243839499843\n",
      "--------------------------------\n",
      "\n",
      "PRI_jet_subleading_phi has 6286 unique values\n",
      "\n",
      "% of samples have entry: 29.0\n",
      "mean without -999. (or 0): -0.0015822891250706472\n",
      "standarddeviation without -999. (or 0): 1.8169372027338673\n",
      "std/mean: -1148.2965874853899\n",
      "--------------------------------\n",
      "\n",
      "PRI_jet_all_pt has 103559 unique values\n",
      "\n",
      "0 marks no entry too\n",
      "\n",
      "% of samples have entry: 60.0\n",
      "mean without -999. (or 0): 121.70373080946388\n",
      "standarddeviation without -999. (or 0): 100.4135107392884\n",
      "std/mean: 0.8250651814157868\n",
      "--------------------------------\n",
      "\n"
     ]
    }
   ],
   "source": [
    "percentages = []\n",
    "\n",
    "\n",
    "for feature_name, index in f_in.items():\n",
    "    f_vals = tX[:,index]\n",
    "    num_unique = len(np.unique(f_vals))\n",
    "    print(\"{} has {} unique values\\n\".format(feature_name,num_unique))\n",
    "    \n",
    "    if feature_name not in [\"PRI_jet_all_pt\",\"DER_lep_eta_centrality\", ]:\n",
    "        f_vals_filtered = np.copy(f_vals)\n",
    "        f_vals_filtered[f_vals_filtered == -999.] = np.NaN\n",
    "    else:\n",
    "        f_vals_filtered = np.copy(f_vals)\n",
    "        f_vals_filtered[f_vals_filtered == -999.] = np.NaN\n",
    "        f_vals_filtered[f_vals_filtered == 0] = np.NaN\n",
    "        print(\"0 marks no entry too\\n\")\n",
    "    \n",
    "    percentage = np.count_nonzero(~np.isnan(f_vals_filtered))/len(f_vals_filtered)\n",
    "    percentages.append(percentage)\n",
    "    \n",
    "    print(\"% of samples have entry: {:.1f}\".format(percentage*100))\n",
    "    print(\"mean without -999. (or 0): {}\".format(np.nanmean(f_vals_filtered)))\n",
    "    print(\"standarddeviation without -999. (or 0): {}\".format(np.nanstd(f_vals_filtered)))\n",
    "    print(\"std/mean: {}\".format(np.nanstd(f_vals_filtered)/np.nanmean(f_vals_filtered)))\n",
    "    print(\"--------------------------------\\n\")"
   ]
  },
  {
   "cell_type": "code",
   "execution_count": 151,
   "metadata": {},
   "outputs": [
    {
     "data": {
      "text/plain": [
       "(array([ 7.,  0.,  0.,  0.,  4.,  0.,  0.,  0.,  1., 18.]),\n",
       " array([0.227164 , 0.3044476, 0.3817312, 0.4590148, 0.5362984, 0.613582 ,\n",
       "        0.6908656, 0.7681492, 0.8454328, 0.9227164, 1.       ]),\n",
       " <BarContainer object of 10 artists>)"
      ]
     },
     "execution_count": 151,
     "metadata": {},
     "output_type": "execute_result"
    },
    {
     "data": {
      "image/png": "[encoded data removed]",
      "text/plain": [
       "<Figure size 432x288 with 1 Axes>"
      ]
     },
     "metadata": {
      "needs_background": "light"
     },
     "output_type": "display_data"
    }
   ],
   "source": [
    "plt.hist(percentages)"
   ]
  },
  {
   "cell_type": "code",
   "execution_count": 128,
   "metadata": {},
   "outputs": [
    {
     "data": {
      "text/plain": [
       "['DER_mass_MMC',\n",
       " 'DER_mass_transverse_met_lep',\n",
       " 'DER_mass_vis',\n",
       " 'DER_pt_h',\n",
       " 'DER_deltaeta_jet_jet',\n",
       " 'DER_mass_jet_jet',\n",
       " 'DER_prodeta_jet_jet',\n",
       " 'DER_deltar_tau_lep',\n",
       " 'DER_pt_tot',\n",
       " 'DER_sum_pt',\n",
       " 'DER_pt_ratio_lep_tau',\n",
       " 'DER_met_phi_centrality',\n",
       " 'DER_lep_eta_centrality',\n",
       " 'PRI_tau_pt',\n",
       " 'PRI_tau_eta',\n",
       " 'PRI_tau_phi',\n",
       " 'PRI_lep_pt',\n",
       " 'PRI_lep_eta',\n",
       " 'PRI_lep_phi',\n",
       " 'PRI_met',\n",
       " 'PRI_met_phi',\n",
       " 'PRI_met_sumet',\n",
       " 'PRI_jet_num',\n",
       " 'PRI_jet_leading_pt',\n",
       " 'PRI_jet_leading_eta',\n",
       " 'PRI_jet_leading_phi',\n",
       " 'PRI_jet_subleading_pt',\n",
       " 'PRI_jet_subleading_eta',\n",
       " 'PRI_jet_subleading_phi',\n",
       " 'PRI_jet_all_pt']"
      ]
     },
     "execution_count": 128,
     "metadata": {},
     "output_type": "execute_result"
    }
   ],
   "source": [
    "feature_names"
   ]
  },
  {
   "cell_type": "code",
   "execution_count": 144,
   "metadata": {},
   "outputs": [
    {
     "data": {
      "text/plain": [
       "(array([ 2080.,  5799.,  8354.,  9731., 10410., 10456.,  9754.,  8319.,\n",
       "         5728.,  1912.]),\n",
       " array([-257.83100781, -206.26480625, -154.69860469, -103.13240312,\n",
       "         -51.56620156,    0.        ,   51.56620156,  103.13240312,\n",
       "         154.69860469,  206.26480625,  257.83100781]),\n",
       " <BarContainer object of 10 artists>)"
      ]
     },
     "execution_count": 144,
     "metadata": {},
     "output_type": "execute_result"
    },
    {
     "data": {
      "image/png": "[encoded data removed]",
      "text/plain": [
       "<Figure size 432x288 with 1 Axes>"
      ]
     },
     "metadata": {
      "needs_background": "light"
     },
     "output_type": "display_data"
    }
   ],
   "source": [
    "feature_vals = np.copy(tX[:,f_in[\"PRI_jet_subleading_eta\"]])\n",
    "feature_vals[feature_vals == -999.] = np.NaN\n",
    "\n",
    "#feature_vals[feature_vals > 0] = np.NaN\n",
    "plt.hist(np.rad2deg(feature_vals))\n",
    "#feature_vals"
   ]
  },
  {
   "cell_type": "markdown",
   "metadata": {},
   "source": [
    "#### Correlation of features"
   ]
  },
  {
   "cell_type": "code",
   "execution_count": 22,
   "metadata": {},
   "outputs": [
    {
     "data": {
      "image/png": "[encoded data removed]",
      "text/plain": [
       "<Figure size 288x288 with 2 Axes>"
      ]
     },
     "metadata": {
      "needs_background": "light"
     },
     "output_type": "display_data"
    }
   ],
   "source": [
    "corr_mat = np.corrcoef(tX,rowvar=False)\n",
    "plt.matshow(corr_mat)\n",
    "plt.colorbar()\n",
    "plt.show()"
   ]
  },
  {
   "cell_type": "markdown",
   "metadata": {},
   "source": [
    "Some variables appear to be more correlated with each other than others"
   ]
  },
  {
   "cell_type": "markdown",
   "metadata": {},
   "source": [
    "#### Normalize data"
   ]
  },
  {
   "cell_type": "code",
   "execution_count": 16,
   "metadata": {},
   "outputs": [],
   "source": [
    "def standardize(tx):\n",
    "    \"\"\"\n",
    "    Standardizes the data by substracting mean and dividing by standard deviation\n",
    "    \"\"\"\n",
    "    tx -= np.mean(tx,axis=0)\n",
    "    tx /= np.std(tx,axis=0)\n",
    "    \n",
    "    return tx"
   ]
  },
  {
   "cell_type": "code",
   "execution_count": 17,
   "metadata": {},
   "outputs": [],
   "source": [
    "tX_standardized = standardize(tX)"
   ]
  },
  {
   "cell_type": "markdown",
   "metadata": {},
   "source": [
    "#### Do principal component analysis"
   ]
  },
  {
   "cell_type": "code",
   "execution_count": 26,
   "metadata": {},
   "outputs": [],
   "source": [
    "cov_mat = np.cov(tX_standardized.T) #calculate covariance matrix\n",
    "eigval_pca, eigvec_pca = np.linalg.eig(cov_mat) #can not be orderd, but they are here"
   ]
  },
  {
   "cell_type": "code",
   "execution_count": 147,
   "metadata": {},
   "outputs": [
    {
     "data": {
      "text/plain": [
       "1.0"
      ]
     },
     "execution_count": 147,
     "metadata": {},
     "output_type": "execute_result"
    }
   ],
   "source": [
    "np.sum(percentages)"
   ]
  },
  {
   "cell_type": "code",
   "execution_count": 40,
   "metadata": {},
   "outputs": [
    {
     "data": {
      "image/png": "[encoded data removed]",
      "text/plain": [
       "<Figure size 432x288 with 1 Axes>"
      ]
     },
     "metadata": {
      "needs_background": "light"
     },
     "output_type": "display_data"
    }
   ],
   "source": [
    "total_eigval = np.sum(eigval_pca)\n",
    "percentages = [eigval/total_eigval for eigval in eigval_pca]\n",
    "percentages_cumulative = np.cumsum(percentages)\n",
    "plt.plot(np.arange(1,len(eigval_pca)+1),percentages_cumulative)\n",
    "plt.xlim(1,len(eigval_pca))\n",
    "plt.ylabel(\"Total variance \\\"explained\\\" \")\n",
    "plt.xlabel(\"no. principal component\")\n",
    "plt.show()"
   ]
  },
  {
   "cell_type": "markdown",
   "metadata": {},
   "source": [
    "Arbitrarily choose cutoff when more than 0.95% of the cumulative variance is explained"
   ]
  },
  {
   "cell_type": "code",
   "execution_count": 54,
   "metadata": {},
   "outputs": [
    {
     "name": "stdout",
     "output_type": "stream",
     "text": [
      "14 principal components can explain more than 95% of the variance\n"
     ]
    }
   ],
   "source": [
    "greater_095 = np.argmax(percentages_cumulative > 0.95) #stops at first true\n",
    "print(\"{} principal components can explain more than 95% of the variance\".format(greater_095+1))"
   ]
  },
  {
   "cell_type": "markdown",
   "metadata": {},
   "source": [
    "#### Project onto principal components"
   ]
  },
  {
   "cell_type": "markdown",
   "metadata": {},
   "source": [
    "  v : (..., M, M) array \n",
    "  The normalized (unit \"length\") eigenvectors, \n",
    "  such that the \n",
    "        column ``v[:,i]`` is the eigenvector corresponding to the \n",
    "        eigenvalue ``w[i]``."
   ]
  },
  {
   "cell_type": "code",
   "execution_count": null,
   "metadata": {},
   "outputs": [
    {
     "data": {
      "text/plain": [
       "True"
      ]
     },
     "execution_count": 51,
     "metadata": {},
     "output_type": "execute_result"
    }
   ],
   "source": [
    "pcas_095 = eigvec_pca[:,:greater_095]\n",
    "pcas_095_other = (eigvec_pca.T[:][:greater_095]).T\n",
    "np.allclose(pcas_095_other, pcas_095)"
   ]
  },
  {
   "cell_type": "code",
   "execution_count": 47,
   "metadata": {},
   "outputs": [
    {
     "data": {
      "text/plain": [
       "(30, 13)"
      ]
     },
     "execution_count": 47,
     "metadata": {},
     "output_type": "execute_result"
    }
   ],
   "source": [
    "pcas_095.shape"
   ]
  },
  {
   "cell_type": "code",
   "execution_count": 52,
   "metadata": {},
   "outputs": [],
   "source": [
    "projection_mat = eigvec_pca[:,:greater_095]\n",
    "projected_data = tX_standardized @  projection_mat"
   ]
  },
  {
   "cell_type": "code",
   "execution_count": 53,
   "metadata": {},
   "outputs": [
    {
     "data": {
      "text/plain": [
       "(250000, 13)"
      ]
     },
     "execution_count": 53,
     "metadata": {},
     "output_type": "execute_result"
    }
   ],
   "source": [
    "projected_data.shape"
   ]
  },
  {
   "cell_type": "markdown",
   "metadata": {},
   "source": [
    "### Ideas for feature engineering"
   ]
  },
  {
   "cell_type": "markdown",
   "metadata": {},
   "source": [
    "Missing values\\\n",
    "binary features -1 (negatives), 0 (not there), 1 (positives)\\\n",
    "numericals: replace by some value\\\n"
   ]
  },
  {
   "cell_type": "markdown",
   "metadata": {},
   "source": [
    "## Generate predictions and save ouput in csv format for submission:"
   ]
  },
  {
   "cell_type": "code",
   "execution_count": 10,
   "metadata": {
    "collapsed": false,
    "jupyter": {
     "outputs_hidden": false
    }
   },
   "outputs": [],
   "source": [
    "DATA_TEST_PATH = '' # TODO: download train data and supply path here \n",
    "_, tX_test, ids_test = load_csv_data(DATA_TEST_PATH)"
   ]
  },
  {
   "cell_type": "code",
   "execution_count": 31,
   "metadata": {
    "collapsed": false,
    "jupyter": {
     "outputs_hidden": false
    }
   },
   "outputs": [],
   "source": [
    "OUTPUT_PATH = '' # TODO: fill in desired name of output file for submission\n",
    "y_pred = predict_labels(weights, tX_test)\n",
    "create_csv_submission(ids_test, y_pred, OUTPUT_PATH)"
   ]
  },
  {
   "cell_type": "code",
   "execution_count": 152,
   "metadata": {
    "tags": []
   },
   "outputs": [
    {
     "data": {
      "text/plain": [
       "nan"
      ]
     },
     "execution_count": 152,
     "metadata": {},
     "output_type": "execute_result"
    }
   ],
   "source": []
  },
  {
   "cell_type": "code",
   "execution_count": null,
   "metadata": {},
   "outputs": [],
   "source": []
  }
 ],
 "metadata": {
  "anaconda-cloud": {},
  "kernelspec": {
   "display_name": "Python",
   "language": "python",
   "name": "python3"
  },
  "language_info": {
   "codemirror_mode": {
    "name": "ipython",
    "version": 3
   },
   "file_extension": ".py",
   "mimetype": "text/x-python",
   "name": "python",
   "nbconvert_exporter": "python",
   "pygments_lexer": "ipython3",
   "version": "3.8.10"
  }
 },
 "nbformat": 4,
 "nbformat_minor": 4
}
