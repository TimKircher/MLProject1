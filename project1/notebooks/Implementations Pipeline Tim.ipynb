{
 "cells": [
  {
   "cell_type": "code",
   "execution_count": 1,
   "id": "80bbaea5",
   "metadata": {},
   "outputs": [],
   "source": [
    "import sys\n",
    "\n",
    "SCRIPTS_FILEPATH = \"C:/Users/Tim/Documents/GitHub/MLProject1/project1/scripts/\"\n",
    "DATA_FILEPATH = \"C:/Users/Tim/Documents/GitHub/MLProject1/project1/data/train.csv\"\n",
    "\n",
    "sys.path.append(SCRIPTS_FILEPATH)\n",
    "from implementations import *\n",
    "from compute import *\n",
    "from data_cleaner import Data_Cleaner\n",
    "from proj1_helpers import predict_labels\n",
    "from linear_model_base import RidgeRegression\n",
    "from linear_model_base import LogisiticRegression\n",
    "\n",
    "\n",
    "max_iters = 1000\n",
    "search_space = np.logspace(-15, -5, 15)"
   ]
  },
  {
   "cell_type": "code",
   "execution_count": 2,
   "id": "34f76fda",
   "metadata": {},
   "outputs": [],
   "source": [
    "data = Data_Cleaner(DATA_FILEPATH)\n",
    "data._fill_with_NaN()\n",
    "data.replace_with_zero()\n",
    "\n",
    "#split\n",
    "tX_train, tX_test, y_train, y_test = data.split_data(80)\n",
    "\n",
    "#generate for minmax scale\n",
    "data_train = Data_Cleaner()\n",
    "data_train.tX = tX_train\n",
    "data_train.y = y_train\n",
    "\n",
    "#generate for minmax scale\n",
    "data_test = Data_Cleaner()\n",
    "data_test.tX = tX_test\n",
    "data_test.y = y_test\n",
    "\n",
    "#scale\n",
    "minimum, maximum = data_train.getMinMax()\n",
    "data_train.standardize()\n",
    "data_test.tX = (data_test.tX-minimum)/(maximum-minimum)\n",
    "\n",
    "y_train = data_train.y\n",
    "tX_train = data_train.tX\n",
    "\n",
    "y_test = data_test.y\n",
    "tX_test = data_test.tX\n",
    "\n",
    "initial_w = np.zeros(tX_train.shape[1])"
   ]
  },
  {
   "cell_type": "code",
   "execution_count": 12,
   "id": "98b2496a",
   "metadata": {},
   "outputs": [
    {
     "name": "stdout",
     "output_type": "stream",
     "text": [
      "Current iteration :0, loss= 0.5000\n",
      "Current iteration :250, loss= 0.3956\n",
      "Current iteration :500, loss= 0.3879\n",
      "Current iteration :750, loss= 0.3828\n"
     ]
    },
    {
     "data": {
      "text/plain": [
       "0.70338"
      ]
     },
     "execution_count": 12,
     "metadata": {},
     "output_type": "execute_result"
    }
   ],
   "source": [
    "w, loss = least_squares_GD(y_train, tX_train, np.copy(initial_w), max_iters, gamma =1e-1)\n",
    "y_pred =  predict_labels(w,tX_test)\n",
    "\n",
    "compute_leaderboard_score(y_test,y_pred)"
   ]
  },
  {
   "cell_type": "code",
   "execution_count": 9,
   "id": "66144853",
   "metadata": {},
   "outputs": [
    {
     "name": "stdout",
     "output_type": "stream",
     "text": [
      "Current iteration :0, loss= 0.5000\n",
      "Current iteration :250, loss= 0.5024\n",
      "Current iteration :500, loss= 0.4955\n",
      "Current iteration :750, loss= 0.4906\n"
     ]
    },
    {
     "data": {
      "text/plain": [
       "0.65674"
      ]
     },
     "execution_count": 9,
     "metadata": {},
     "output_type": "execute_result"
    }
   ],
   "source": [
    "w, loss = least_squares_SGD(y_train, tX_train, np.copy(initial_w), max_iters, gamma = 1e-3)\n",
    "y_pred =  predict_labels(w,tX_test)\n",
    "\n",
    "compute_leaderboard_score(y_test,y_pred)"
   ]
  },
  {
   "cell_type": "code",
   "execution_count": 5,
   "id": "577c8032",
   "metadata": {},
   "outputs": [
    {
     "data": {
      "text/plain": [
       "0.7477"
      ]
     },
     "execution_count": 5,
     "metadata": {},
     "output_type": "execute_result"
    }
   ],
   "source": [
    "w, loss = least_squares(y_train, tX_train)\n",
    "y_pred =  predict_labels(w,tX_test)\n",
    "\n",
    "compute_leaderboard_score(y_test,y_pred)"
   ]
  },
  {
   "cell_type": "code",
   "execution_count": 13,
   "id": "5c770afa",
   "metadata": {},
   "outputs": [
    {
     "data": {
      "text/plain": [
       "0.74776"
      ]
     },
     "execution_count": 13,
     "metadata": {},
     "output_type": "execute_result"
    }
   ],
   "source": [
    "rmse_te = []\n",
    "rmse_tr = []\n",
    "\n",
    "data_train = Data_Cleaner()\n",
    "data_train.tX = tX_train\n",
    "data_train.y = y_train\n",
    "\n",
    "Model = RidgeRegression(data_train)\n",
    "for lambda_ in search_space:\n",
    "        \n",
    "    tr, te = Model.cross_validation(5, lambda_=lambda_)\n",
    "    rmse_te.append(te)\n",
    "    rmse_tr.append(tr) \n",
    "\n",
    "best_lambda = search_space[np.where(rmse_te==np.min(rmse_te))]\n",
    "Model = RidgeRegression(data_train)\n",
    "weights = Model._run(lambda_ = best_lambda)\n",
    "\n",
    "y_pred =  predict_labels(weights,tX_test)\n",
    "\n",
    "compute_leaderboard_score(y_test,y_pred)"
   ]
  },
  {
   "cell_type": "code",
   "execution_count": 14,
   "id": "0de77eb3",
   "metadata": {},
   "outputs": [
    {
     "data": {
      "text/plain": [
       "array([2.6826958e-14])"
      ]
     },
     "execution_count": 14,
     "metadata": {},
     "output_type": "execute_result"
    }
   ],
   "source": [
    "best_lambda"
   ]
  },
  {
   "cell_type": "code",
   "execution_count": 17,
   "id": "b7ac882c",
   "metadata": {},
   "outputs": [
    {
     "name": "stdout",
     "output_type": "stream",
     "text": [
      "Current iteration :0, loss= 138629.4361\n",
      "Current iteration :250, loss= -503868.9187\n",
      "Current iteration :500, loss= -503868.9187\n",
      "Current iteration :750, loss= -503868.9187\n"
     ]
    },
    {
     "data": {
      "text/plain": [
       "0.65674"
      ]
     },
     "execution_count": 17,
     "metadata": {},
     "output_type": "execute_result"
    }
   ],
   "source": [
    "w, loss = logistic_regression(y_train, tX_train, np.copy(initial_w), 1000, gamma = 1e-3)\n",
    "y_pred =  predict_labels(w,tX_test)\n",
    "\n",
    "compute_leaderboard_score(y_test,y_pred)"
   ]
  },
  {
   "cell_type": "code",
   "execution_count": 20,
   "id": "c9724cf1",
   "metadata": {},
   "outputs": [
    {
     "name": "stdout",
     "output_type": "stream",
     "text": [
      "Current iteration :0, loss= 138629.4361\n",
      "Current iteration :250, loss= -496843.4523\n",
      "Current iteration :500, loss= -475945.7080\n",
      "Current iteration :750, loss= -441175.5897\n"
     ]
    },
    {
     "data": {
      "text/plain": [
       "0.65674"
      ]
     },
     "execution_count": 20,
     "metadata": {},
     "output_type": "execute_result"
    }
   ],
   "source": [
    "lambda_ = 1e-5\n",
    "w, loss = reg_logistic_regression(y_train, tX_train,lambda_, np.copy(initial_w), max_iters, gamma=1e-3)\n",
    "y_pred =  predict_labels(w,tX_test)\n",
    "\n",
    "compute_leaderboard_score(y_test,y_pred)"
   ]
  },
  {
   "cell_type": "code",
   "execution_count": 18,
   "id": "2f9bb5f6",
   "metadata": {},
   "outputs": [
    {
     "data": {
      "text/plain": [
       "0.77332"
      ]
     },
     "execution_count": 18,
     "metadata": {},
     "output_type": "execute_result"
    }
   ],
   "source": [
    "#polynomials\n",
    "data = Data_Cleaner(DATA_FILEPATH)\n",
    "data._fill_with_NaN()\n",
    "data.replace_with_zero()\n",
    "data.build_polynomial(2)\n",
    "\n",
    "tX_train, tX_test, y_train, y_test = data.split_data(80)\n",
    "\n",
    "#generate for minmax scale\n",
    "data_train = Data_Cleaner()\n",
    "data_train.tX = tX_train\n",
    "data_train.y = y_train\n",
    "\n",
    "#generate for minmax scale\n",
    "data_test = Data_Cleaner()\n",
    "data_test.tX = tX_test\n",
    "data_test.y = y_test\n",
    "\n",
    "#scale\n",
    "minimum, maximum = data_train.getMinMax()\n",
    "data_train.standardize()\n",
    "data_test.tX = (data_test.tX-minimum)/(maximum-minimum)\n",
    "\n",
    "rmse_te = []\n",
    "rmse_tr = []\n",
    "\n",
    "Model = RidgeRegression(data_train)\n",
    "for lambda_ in search_space:\n",
    "        \n",
    "    tr, te = Model.cross_validation(5, lambda_=lambda_)\n",
    "    rmse_te.append(te)\n",
    "    rmse_tr.append(tr) \n",
    "\n",
    "best_lambda = search_space[np.where(rmse_te==np.min(rmse_te))]\n",
    "Model = RidgeRegression(data_train)\n",
    "weights = Model._run(lambda_ = best_lambda)\n",
    "\n",
    "y_pred =  predict_labels(weights,data_test.tX)\n",
    "\n",
    "compute_leaderboard_score(y_test,y_pred)"
   ]
  },
  {
   "cell_type": "code",
   "execution_count": 19,
   "id": "6a6a3391",
   "metadata": {},
   "outputs": [
    {
     "data": {
      "text/plain": [
       "0.79416"
      ]
     },
     "execution_count": 19,
     "metadata": {},
     "output_type": "execute_result"
    }
   ],
   "source": [
    "#interaction terms\n",
    "data = Data_Cleaner(DATA_FILEPATH)\n",
    "data._fill_with_NaN()\n",
    "data.replace_with_zero()\n",
    "data.build_interactions()\n",
    "\n",
    "tX_train, tX_test, y_train, y_test = data.split_data(80)\n",
    "\n",
    "#generate for minmax scale\n",
    "data_train = Data_Cleaner()\n",
    "data_train.tX = tX_train\n",
    "data_train.y = y_train\n",
    "\n",
    "#generate for minmax scale\n",
    "data_test = Data_Cleaner()\n",
    "data_test.tX = tX_test\n",
    "data_test.y = y_test\n",
    "\n",
    "#scale\n",
    "minimum, maximum = data_train.getMinMax()\n",
    "data_train.standardize()\n",
    "data_test.tX = (data_test.tX-minimum)/(maximum-minimum)\n",
    "\n",
    "rmse_te = []\n",
    "rmse_tr = []\n",
    "\n",
    "Model = RidgeRegression(data_train)\n",
    "for lambda_ in search_space:\n",
    "        \n",
    "    tr, te = Model.cross_validation(5, lambda_=lambda_)\n",
    "    rmse_te.append(te)\n",
    "    rmse_tr.append(tr) \n",
    "\n",
    "best_lambda = search_space[np.where(rmse_te==np.min(rmse_te))]\n",
    "Model = RidgeRegression(data_train)\n",
    "weights = Model._run(lambda_ = best_lambda)\n",
    "\n",
    "y_pred =  predict_labels(weights,data_test.tX)\n",
    "\n",
    "compute_leaderboard_score(y_test,y_pred)"
   ]
  },
  {
   "cell_type": "code",
   "execution_count": 20,
   "id": "72810adc",
   "metadata": {},
   "outputs": [
    {
     "data": {
      "text/plain": [
       "0.81904"
      ]
     },
     "execution_count": 20,
     "metadata": {},
     "output_type": "execute_result"
    }
   ],
   "source": [
    "#interaction terms and polynomial features\n",
    "data = Data_Cleaner(DATA_FILEPATH)\n",
    "data._fill_with_NaN()\n",
    "data.replace_with_zero()\n",
    "data.build_polynomial(2)\n",
    "data.build_interactions()\n",
    "\n",
    "tX_train, tX_test, y_train, y_test = data.split_data(80)\n",
    "\n",
    "#generate for minmax scale\n",
    "data_train = Data_Cleaner()\n",
    "data_train.tX = tX_train\n",
    "data_train.y = y_train\n",
    "\n",
    "#generate for minmax scale\n",
    "data_test = Data_Cleaner()\n",
    "data_test.tX = tX_test\n",
    "data_test.y = y_test\n",
    "\n",
    "#scale\n",
    "minimum, maximum = data_train.getMinMax()\n",
    "data_train.standardize()\n",
    "data_test.tX = (data_test.tX-minimum)/(maximum-minimum)\n",
    "\n",
    "rmse_te = []\n",
    "rmse_tr = []\n",
    "\n",
    "Model = RidgeRegression(data_train)\n",
    "for lambda_ in search_space:\n",
    "        \n",
    "    tr, te = Model.cross_validation(5, lambda_=lambda_)\n",
    "    rmse_te.append(te)\n",
    "    rmse_tr.append(tr) \n",
    "\n",
    "best_lambda = search_space[np.where(rmse_te==np.min(rmse_te))]\n",
    "Model = RidgeRegression(data_train)\n",
    "weights = Model._run(lambda_ = best_lambda)\n",
    "\n",
    "y_pred =  predict_labels(weights,data_test.tX)\n",
    "\n",
    "compute_leaderboard_score(y_test,y_pred)"
   ]
  },
  {
   "cell_type": "code",
   "execution_count": 21,
   "id": "4ee83df3",
   "metadata": {},
   "outputs": [
    {
     "data": {
      "text/plain": [
       "0.832"
      ]
     },
     "execution_count": 21,
     "metadata": {},
     "output_type": "execute_result"
    }
   ],
   "source": [
    "#interaction terms and polynomial features\n",
    "data = Data_Cleaner(DATA_FILEPATH)\n",
    "data._fill_with_NaN()\n",
    "data.replace_with_one()\n",
    "#find columns with multiscale input (max greater than 100)\n",
    "log_columns = np.max(data.tX, axis=0)>100\n",
    "#log(x+1) of columns with multiscale data, to ensure no x <= 0\n",
    "data.tX[:,log_columns] = np.log(data.tX[:,log_columns]+1)\n",
    "data.build_polynomial(2)\n",
    "data.build_interactions()\n",
    "\n",
    "tX_train, tX_test, y_train, y_test = data.split_data(80)\n",
    "\n",
    "#generate for minmax scale\n",
    "data_train = Data_Cleaner()\n",
    "data_train.tX = tX_train\n",
    "data_train.y = y_train\n",
    "\n",
    "#generate for minmax scale\n",
    "data_test = Data_Cleaner()\n",
    "data_test.tX = tX_test\n",
    "data_test.y = y_test\n",
    "\n",
    "#remove outliers\n",
    "data_test.treat_outliers(1.5,92.5)\n",
    "data_train.treat_outliers(1.5,92.5)\n",
    "\n",
    "#scale\n",
    "minimum, maximum = data_train.getMinMax()\n",
    "data_train.standardize()\n",
    "data_test.tX = (data_test.tX-minimum)/(maximum-minimum)\n",
    "\n",
    "rmse_te = []\n",
    "rmse_tr = []\n",
    "\n",
    "Model = RidgeRegression(data_train)\n",
    "for lambda_ in search_space:\n",
    "        \n",
    "    tr, te = Model.cross_validation(5, lambda_=lambda_)\n",
    "    rmse_te.append(te)\n",
    "    rmse_tr.append(tr) \n",
    "\n",
    "best_lambda = search_space[np.where(rmse_te==np.min(rmse_te))]\n",
    "Model = RidgeRegression(data_train)\n",
    "weights = Model._run(lambda_ = best_lambda)\n",
    "\n",
    "y_pred =  predict_labels(weights,data_test.tX)\n",
    "\n",
    "compute_leaderboard_score(y_test,y_pred)"
   ]
  }
 ],
 "metadata": {
  "kernelspec": {
   "display_name": "Python 3",
   "language": "python",
   "name": "python3"
  },
  "language_info": {
   "codemirror_mode": {
    "name": "ipython",
    "version": 3
   },
   "file_extension": ".py",
   "mimetype": "text/x-python",
   "name": "python",
   "nbconvert_exporter": "python",
   "pygments_lexer": "ipython3",
   "version": "3.8.8"
  }
 },
 "nbformat": 4,
 "nbformat_minor": 5
}
