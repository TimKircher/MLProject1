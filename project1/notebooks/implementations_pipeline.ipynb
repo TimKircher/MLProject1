{
 "cells": [
  {
   "cell_type": "code",
   "execution_count": 1,
   "id": "abb14099-87f1-436e-80d9-a00c7526160f",
   "metadata": {},
   "outputs": [],
   "source": [
    "%matplotlib inline\n",
    "import numpy as np\n",
    "import matplotlib.pyplot as plt\n",
    "import sys\n",
    "sys.path.append('./../scripts/')"
   ]
  },
  {
   "cell_type": "code",
   "execution_count": 2,
   "id": "81420a80-f314-4be3-8443-9297672ed403",
   "metadata": {},
   "outputs": [],
   "source": [
    "from implementations import *\n",
    "from compute import *\n",
    "from data_cleaner import Data_Cleaner\n",
    "from proj1_helpers import predict_labels"
   ]
  },
  {
   "cell_type": "code",
   "execution_count": 3,
   "id": "727232c8-8c62-4a46-ad3d-4be11d56d978",
   "metadata": {},
   "outputs": [],
   "source": [
    "data_cleaner = Data_Cleaner(\"../data/train.csv\")"
   ]
  },
  {
   "cell_type": "code",
   "execution_count": 4,
   "id": "95b5e669-8d8b-44f3-a9c9-73de6877ead2",
   "metadata": {},
   "outputs": [],
   "source": [
    "data_cleaner._fill_with_NaN()\n",
    "data_cleaner.fix_mass_MMC()\n",
    "data_cleaner.replace_with_zero()\n",
    "\n",
    "tX_train, tX_test, y_train, y_test = split_data(data_cleaner.y, data_cleaner.tX, 80)"
   ]
  },
  {
   "cell_type": "code",
   "execution_count": 5,
   "id": "99fe6d06-b248-4c02-909e-3310c2a9ccfb",
   "metadata": {},
   "outputs": [
    {
     "data": {
      "text/plain": [
       "((200000, 30), (50000, 30), (200000,), (50000,))"
      ]
     },
     "execution_count": 5,
     "metadata": {},
     "output_type": "execute_result"
    }
   ],
   "source": [
    "tX_train.shape, tX_test.shape, y_train.shape, y_test.shape"
   ]
  },
  {
   "cell_type": "code",
   "execution_count": 6,
   "id": "c7d35f27-998e-45c1-a802-f0c11624d635",
   "metadata": {},
   "outputs": [
    {
     "data": {
      "text/plain": [
       "(0, 0, 0, 0)"
      ]
     },
     "execution_count": 6,
     "metadata": {},
     "output_type": "execute_result"
    }
   ],
   "source": [
    "np.isnan(tX_train).sum(), np.isnan(tX_test).sum(), np.isnan(y_train).sum(), np.isnan(y_test).sum()"
   ]
  },
  {
   "cell_type": "code",
   "execution_count": 7,
   "id": "de4e282e-9d3e-4af7-98d8-4c8d9ea71fc2",
   "metadata": {},
   "outputs": [],
   "source": [
    "def build_interactions(x):\n",
    "    x_out = np.array(x)\n",
    "    for i in range(int(x.shape[1])):\n",
    "        x_i = x[:,0]\n",
    "        x = np.delete(x, 0, 1)\n",
    "        x_interact = (x_i*x.T).T\n",
    "        \n",
    "        x_out = np.hstack([x_out,x_interact])\n",
    "        \n",
    "    return x_out\n",
    "\n",
    "\n",
    "def build_poly(x, degree, add_degree_zero=False):\n",
    "    \"\"\"polynomial basis functions for input data x, for j=0 up to j=degree.\"\"\"\n",
    "    if add_degree_zero:\n",
    "        xN = np.hstack([np.ones([x.shape[0],1]),x])\n",
    "    else:\n",
    "        xN = x\n",
    "    if degree>0:\n",
    "        for i in range(degree-1):\n",
    "            xN = np.hstack([xN, x**(i+2)])\n",
    "    return np.array(xN)\n",
    "\n",
    "def standardize(tX):\n",
    "        \"\"\"standardizes data\n",
    "        \"\"\"\n",
    "        minimum = np.min(tX,axis=0)\n",
    "        maximum = np.max(tX,axis=0)\n",
    "        tX = (tX-minimum)/(maximum-minimum)\n",
    "        return tX       "
   ]
  },
  {
   "cell_type": "code",
   "execution_count": 8,
   "id": "70253137-b057-4c1d-bc69-cf98345d9515",
   "metadata": {},
   "outputs": [],
   "source": [
    "tX_train = build_poly(tX_train,2)\n",
    "tX_train = build_interactions(tX_train)\n",
    "tX_train = standardize(tX_train)"
   ]
  },
  {
   "cell_type": "code",
   "execution_count": 9,
   "id": "eb3344b6-bc65-47b7-afa6-d100255342dd",
   "metadata": {},
   "outputs": [],
   "source": [
    "tX_test = build_poly(tX_test,2)\n",
    "tX_test = build_interactions(tX_test)\n",
    "tX_test = standardize(tX_test)"
   ]
  },
  {
   "cell_type": "code",
   "execution_count": 10,
   "id": "b72e0ea5-f657-4ef5-91d6-a2a4ed7620a6",
   "metadata": {},
   "outputs": [
    {
     "data": {
      "text/plain": [
       "((200000, 1830), (50000, 1830))"
      ]
     },
     "execution_count": 10,
     "metadata": {},
     "output_type": "execute_result"
    }
   ],
   "source": [
    "tX_train.shape, tX_test.shape"
   ]
  },
  {
   "cell_type": "code",
   "execution_count": 11,
   "id": "e336730b-e4f0-417b-a90e-ab5786a3a797",
   "metadata": {},
   "outputs": [],
   "source": [
    "lambda_= 1\n",
    "max_iters = 1000\n",
    "gamma = 0.7\n",
    "initial_w = np.zeros(tX_train.shape[1])"
   ]
  },
  {
   "cell_type": "code",
   "execution_count": null,
   "id": "e5988121-bc33-4580-b16d-4eee2a94ffd8",
   "metadata": {},
   "outputs": [],
   "source": [
    "w, loss = least_squares_GD(y_train, tX_train, initial_w, max_iters, gamma)\n",
    "y_pred =  predict_labels(w,tX_test)\n",
    "print(w, loss)\n",
    "\n",
    "y_pred = predictions_regularize(y_pred)\n",
    "estimate_Leaderboard_score(y_test,y_pred)"
   ]
  },
  {
   "cell_type": "code",
   "execution_count": 15,
   "id": "01abb5bb-dc33-4e01-925a-2acc6c0682f3",
   "metadata": {},
   "outputs": [
    {
     "data": {
      "text/plain": [
       "array([nan, nan, nan, ..., nan, nan, nan])"
      ]
     },
     "execution_count": 15,
     "metadata": {},
     "output_type": "execute_result"
    }
   ],
   "source": []
  },
  {
   "cell_type": "code",
   "execution_count": null,
   "id": "e04089c0-8533-47de-9bb9-16105d27c397",
   "metadata": {},
   "outputs": [],
   "source": [
    "w, loss = least_squares_SGD(y_train, tX_train, initial_w, max_iters, gamma)\n",
    "y_pred =  predict_labels(w,tX_test)\n",
    "\n",
    "y_pred = predictions_regularize(y_pred)\n",
    "estimate_Leaderboard_score(y_test,y_pred)"
   ]
  },
  {
   "cell_type": "code",
   "execution_count": null,
   "id": "910db935-6f5e-41e3-91bd-d6b20e9aac37",
   "metadata": {},
   "outputs": [],
   "source": [
    "w, loss = least_squares(y_train, tX_train)\n",
    "y_pred =  predict_labels(w,tX_test)\n",
    "\n",
    "y_pred = predictions_regularize(y_pred)\n",
    "estimate_Leaderboard_score(y_test,y_pred)"
   ]
  },
  {
   "cell_type": "code",
   "execution_count": null,
   "id": "d06eaa28-6dfc-4dcc-9029-ce173dae06d6",
   "metadata": {},
   "outputs": [],
   "source": [
    "w, loss = ridge_regression(y_train, tX_train, lambda_)\n",
    "y_pred =  predict_labels(w,tX_test)\n",
    "\n",
    "y_pred = predictions_regularize(y_pred)\n",
    "estimate_Leaderboard_score(y_test,y_pred)"
   ]
  },
  {
   "cell_type": "code",
   "execution_count": null,
   "id": "aaf86a89-0e4c-47f1-b6b5-d2f1056199c6",
   "metadata": {},
   "outputs": [],
   "source": [
    "w, loss = logistic_regression(y_train, tX_train, initial_w, max_iters, gamma)\n",
    "y_pred =  predict_labels(w,tX_test)\n",
    "\n",
    "y_pred = predictions_regularize(y_pred)\n",
    "estimate_Leaderboard_score(y_test,y_pred)"
   ]
  },
  {
   "cell_type": "code",
   "execution_count": null,
   "id": "33eba8e8-67a4-4043-a950-a5870cf1d31d",
   "metadata": {},
   "outputs": [],
   "source": [
    "w, loss = reg_logistic_regression(y_train, tX_train, lambda_, initial_w, max_iters, gamma)\n",
    "y_pred =  predict_labels(w,tX_test)\n",
    "\n",
    "y_pred = predictions_regularize(y_pred)\n",
    "estimate_Leaderboard_score(y_test,y_pred)"
   ]
  }
 ],
 "metadata": {
  "kernelspec": {
   "display_name": "Python [conda env:ada] *",
   "language": "python",
   "name": "conda-env-ada-py"
  },
  "language_info": {
   "codemirror_mode": {
    "name": "ipython",
    "version": 3
   },
   "file_extension": ".py",
   "mimetype": "text/x-python",
   "name": "python",
   "nbconvert_exporter": "python",
   "pygments_lexer": "ipython3",
   "version": "3.8.11"
  }
 },
 "nbformat": 4,
 "nbformat_minor": 5
}
