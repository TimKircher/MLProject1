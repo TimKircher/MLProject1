{
 "cells": [
  {
   "cell_type": "markdown",
   "id": "2d9efe3b-780d-475d-9335-10d36b6157ad",
   "metadata": {},
   "source": [
    "# Final model"
   ]
  },
  {
   "cell_type": "code",
   "execution_count": 11,
   "id": "25875cf3-ad97-40a8-93af-8194d405047c",
   "metadata": {},
   "outputs": [],
   "source": [
    "import sys\n",
    "import numpy as np\n",
    "import matplotlib.pyplot as plt\n",
    "\n",
    "SCRIPTS_FILEPATH = \"./../scripts/\"\n",
    "sys.path.append(SCRIPTS_FILEPATH)\n",
    "\n",
    "from linear_model_base import RidgeRegression\n",
    "from data_cleaner import Data_Cleaner\n",
    "from proj1_helpers import *\n",
    "from compute import compute_leaderboard_score\n",
    "\n",
    "TRAIN_SET_FILEPATH = \"../data/train.csv\"\n",
    "TEST_SET_FILEPATH = \"../data/test.csv\"\n",
    "RESULTS_FILEPATH = \"../results/predictions.csv\""
   ]
  },
  {
   "cell_type": "code",
   "execution_count": 15,
   "id": "700e9fbe",
   "metadata": {},
   "outputs": [],
   "source": [
    "#80/20 train test split to verify predictions before upload\n",
    "data = Data_Cleaner(DATA_FILEPATH)\n",
    "\n",
    "#replace with 1, due to log scaling \n",
    "data._fill_with_NaN()\n",
    "data.fix_mass_MMC()\n",
    "data.replace_with_one()\n",
    "\n",
    "#find columns with multiscale input (max greater than 100)\n",
    "log_columns = np.max(data.tX, axis=0)>100\n",
    "#log(x+1) of columns with multiscale data, to ensure no x <= 0\n",
    "data.tX[:,log_columns] = np.log(data.tX[:,log_columns]+1)\n",
    "\n",
    "#generate poly features and interaction features\n",
    "data.build_polynomial(2)\n",
    "data.build_interactions()\n",
    "\n",
    "tX_train, tX_test, y_train, y_test = data.split_data(80)\n",
    "\n",
    "data_train = Data_Cleaner()\n",
    "data_train.tX = tX_train\n",
    "data_train.y = y_train\n",
    "\n",
    "data_test = Data_Cleaner()\n",
    "data_test.tX = tX_test\n",
    "data_test.y = y_test\n",
    "\n",
    "data_test.treat_outliers(1.5,92.5)\n",
    "data_train.treat_outliers(1.5,92.5)\n",
    "\n",
    "minimum, maximum = data_train.getMinMax()\n",
    "data_train.standardize()\n",
    "\n",
    "data_test.tX = (data_test.tX - minimum) / (maximum - minimum)"
   ]
  },
  {
   "cell_type": "code",
   "execution_count": 3,
   "id": "c4fb471d",
   "metadata": {},
   "outputs": [
    {
     "name": "stdout",
     "output_type": "stream",
     "text": [
      "lambda 1e-15\n",
      "lambda 5.179474679231202e-15\n",
      "lambda 2.6826957952797274e-14\n",
      "lambda 1.389495494373136e-13\n",
      "lambda 7.196856730011528e-13\n",
      "lambda 3.727593720314938e-12\n",
      "lambda 1.9306977288832457e-11\n",
      "lambda 1e-10\n",
      "lambda 5.179474679231223e-10\n",
      "lambda 2.6826957952797275e-09\n",
      "lambda 1.3894954943731388e-08\n",
      "lambda 7.196856730011529e-08\n",
      "lambda 3.727593720314938e-07\n",
      "lambda 1.9306977288832536e-06\n",
      "lambda 1e-05\n"
     ]
    }
   ],
   "source": [
    "Model = RidgeRegression(data_train)\n",
    "search_space = np.logspace(-15, -5, 15)\n",
    "    \n",
    "rmse_te = []\n",
    "rmse_tr = []\n",
    "\n",
    "for lambda_ in search_space:\n",
    "        \n",
    "    tr, te = Model.cross_validation(5, lambda_=lambda_)\n",
    "    rmse_te.append(te)\n",
    "    rmse_tr.append(tr)\n",
    "        \n",
    "    print(\"lambda {}\".format(lambda_))  "
   ]
  },
  {
   "cell_type": "code",
   "execution_count": 4,
   "id": "422594d1",
   "metadata": {
    "scrolled": true
   },
   "outputs": [
    {
     "data": {
      "text/plain": [
       "[<matplotlib.lines.Line2D at 0x7f7f100903d0>]"
      ]
     },
     "execution_count": 4,
     "metadata": {},
     "output_type": "execute_result"
    },
    {
     "data": {
      "image/png": "[encoded data removed]",
      "text/plain": [
       "<Figure size 432x288 with 1 Axes>"
      ]
     },
     "metadata": {
      "needs_background": "light"
     },
     "output_type": "display_data"
    }
   ],
   "source": [
    "plt.loglog(np.logspace(-15, -5, 15),rmse_te)"
   ]
  },
  {
   "cell_type": "code",
   "execution_count": 5,
   "id": "19061e73",
   "metadata": {},
   "outputs": [
    {
     "data": {
      "text/plain": [
       "array([1.e-10])"
      ]
     },
     "execution_count": 5,
     "metadata": {},
     "output_type": "execute_result"
    }
   ],
   "source": [
    "best_lambda = search_space[np.where(rmse_te==np.min(rmse_te))]\n",
    "best_lambda"
   ]
  },
  {
   "cell_type": "code",
   "execution_count": 6,
   "id": "c8ae1db5",
   "metadata": {},
   "outputs": [],
   "source": [
    "best_lambda = 5.17947468e-10"
   ]
  },
  {
   "cell_type": "code",
   "execution_count": 7,
   "id": "9182fc12-e40c-4d30-9d19-51c17c3bc1d4",
   "metadata": {},
   "outputs": [],
   "source": [
    "Model = RidgeRegression(data_test)\n",
    "weights = Model._run(lambda_ = best_lambda)\n",
    "\n",
    "y_pred = predict_labels(weights, data_test.tX)"
   ]
  },
  {
   "cell_type": "code",
   "execution_count": 9,
   "id": "29c87c98-80a4-48b7-bbb9-d670a9585c62",
   "metadata": {},
   "outputs": [
    {
     "data": {
      "text/plain": [
       "0.84552"
      ]
     },
     "execution_count": 9,
     "metadata": {},
     "output_type": "execute_result"
    }
   ],
   "source": [
    "compute_leaderboard_score(data_test.y,y_pred)"
   ]
  },
  {
   "cell_type": "code",
   "execution_count": 12,
   "id": "73b992b4",
   "metadata": {},
   "outputs": [],
   "source": [
    "#generate predictions\n",
    "data_upload = Data_Cleaner(TEST_SET_FILEPATH)\n",
    "data_upload._fill_with_NaN()\n",
    "data_upload.fix_mass_MMC()\n",
    "data_upload.replace_with_one()\n",
    "log_columns = np.max(data_upload.tX, axis=0)>100\n",
    "data_upload.tX[:,log_columns] = np.log(data_upload.tX[:,log_columns]+1)\n",
    "\n",
    "#generate poly features and interaction features\n",
    "data_upload.build_polynomial(2)\n",
    "data_upload.build_interactions()\n",
    "data_upload.treat_outliers(1.5,92.5)\n",
    "#Standardize ?--------------------------------------------------------------------------\n",
    "data_upload.tX = (data_upload.tX - minimum) / (maximum - minimum)"
   ]
  },
  {
   "cell_type": "code",
   "execution_count": 16,
   "id": "78c7bc48",
   "metadata": {},
   "outputs": [],
   "source": [
    "Model = RidgeRegression(data_train)\n",
    "weights = Model._run(lambda_ = best_lambda)\n",
    "y_pred = predict_labels(weights, data_upload.tX)"
   ]
  },
  {
   "cell_type": "code",
   "execution_count": 17,
   "id": "3f2b8090",
   "metadata": {},
   "outputs": [],
   "source": [
    "create_csv_submission(data_upload.ids, y_pred,RESULTS_FILEPATH)"
   ]
  }
 ],
 "metadata": {
  "kernelspec": {
   "display_name": "Python 3",
   "language": "python",
   "name": "python3"
  },
  "language_info": {
   "codemirror_mode": {
    "name": "ipython",
    "version": 3
   },
   "file_extension": ".py",
   "mimetype": "text/x-python",
   "name": "python",
   "nbconvert_exporter": "python",
   "pygments_lexer": "ipython3",
   "version": "3.8.8"
  }
 },
 "nbformat": 4,
 "nbformat_minor": 5
}
